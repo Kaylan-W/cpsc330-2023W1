{
 "cells": [
  {
   "cell_type": "markdown",
   "metadata": {
    "slideshow": {
     "slide_type": "slide"
    }
   },
   "source": [
    "![](img/330-banner.png)"
   ]
  },
  {
   "cell_type": "markdown",
   "metadata": {
    "slideshow": {
     "slide_type": "-"
    }
   },
   "source": [
    "# Lecture 11: Ensembles\n",
    "\n",
    "UBC 2023-24\n",
    "\n",
    "Instructor: Varada Kolhatkar and Andrew Roth\n",
    "\n",
    "<blockquote>\n",
    "The interests of truth require a diversity of opinions.    \n",
    "    \n",
    "by John Stuart Mill\n",
    "</blockquote>\n",
    "\n"
   ]
  },
  {
   "cell_type": "markdown",
   "metadata": {},
   "source": [
    "## Imports, announcements, LOs "
   ]
  },
  {
   "cell_type": "markdown",
   "metadata": {
    "slideshow": {
     "slide_type": "skip"
    }
   },
   "source": [
    "## Imports"
   ]
  },
  {
   "cell_type": "code",
   "execution_count": 1,
   "metadata": {
    "slideshow": {
     "slide_type": "skip"
    }
   },
   "outputs": [],
   "source": [
    "import os\n",
    "\n",
    "%matplotlib inline\n",
    "import string\n",
    "import sys\n",
    "from collections import deque\n",
    "\n",
    "import matplotlib.pyplot as plt\n",
    "import numpy as np\n",
    "import pandas as pd\n",
    "\n",
    "sys.path.append(\"code/.\")\n",
    "\n",
    "from plotting_functions import *\n",
    "from sklearn import datasets\n",
    "from sklearn.compose import ColumnTransformer, make_column_transformer\n",
    "from sklearn.dummy import DummyClassifier, DummyRegressor\n",
    "from sklearn.ensemble import RandomForestClassifier, RandomForestRegressor\n",
    "from sklearn.impute import SimpleImputer\n",
    "from sklearn.linear_model import LogisticRegression\n",
    "from sklearn.model_selection import (\n",
    "    GridSearchCV,\n",
    "    RandomizedSearchCV,\n",
    "    cross_val_score,\n",
    "    cross_validate,\n",
    "    train_test_split,\n",
    ")\n",
    "from sklearn.pipeline import Pipeline, make_pipeline\n",
    "from sklearn.preprocessing import OneHotEncoder, OrdinalEncoder, StandardScaler\n",
    "from sklearn.svm import SVC\n",
    "from sklearn.tree import DecisionTreeClassifier\n",
    "from utils import *"
   ]
  },
  {
   "cell_type": "markdown",
   "metadata": {
    "slideshow": {
     "slide_type": "skip"
    }
   },
   "source": [
    "## Lecture learning objectives\n",
    "\n",
    "From this lecture, you will be able to \n",
    "\n",
    "- Broadly explain the idea of ensembles \n",
    "- Explain how does predict work in the context of random forest models\n",
    "- Explain the sources of randomness in random forest algorithm\n",
    "- Explain the relation between number of estimators and the fundamental tradeoff in the context of random forests\n",
    "- Use `scikit-learn`'s random forest classification and regression models and explain their main hyperparameters \n",
    "- Use other tree-based models such as as `XGBoost`, `LGBM` and `CatBoost`  \n",
    "- Broadly explain ensemble approaches, in particular model averaging and stacking.\n",
    "- Use `scikit-learn` implementations of these ensemble methods."
   ]
  },
  {
   "cell_type": "markdown",
   "metadata": {
    "slideshow": {
     "slide_type": "slide"
    }
   },
   "source": [
    "## Motivation [[video](https://youtu.be/8litm1H7DLo)]"
   ]
  },
  {
   "cell_type": "markdown",
   "metadata": {},
   "source": [
    "- **Ensembles** are models that combine multiple machine learning models to create more powerful models. "
   ]
  },
  {
   "cell_type": "markdown",
   "metadata": {
    "slideshow": {
     "slide_type": "slide"
    }
   },
   "source": [
    "### The Netflix prize\n",
    "\n",
    "![](img/netflix.png)\n",
    "\n",
    "[Source](https://netflixtechblog.com/netflix-recommendations-beyond-the-5-stars-part-1-55838468f429)\n",
    "\n",
    "Read the [story](https://lsa.umich.edu/social-solutions/diversity-democracy/oci-series/excerpts/volume-ii/the-netflix-prize.html) here. "
   ]
  },
  {
   "cell_type": "markdown",
   "metadata": {
    "slideshow": {
     "slide_type": "slide"
    }
   },
   "source": [
    "- Most of the winning solutions for Kaggle competitions involve some kind of ensembling. For example: \n",
    "\n",
    "<img src=\"img/fraud_detection_kaggle.png\" width=\"600\" height=\"600\">"
   ]
  },
  {
   "cell_type": "markdown",
   "metadata": {
    "slideshow": {
     "slide_type": "slide"
    }
   },
   "source": [
    "Key idea: Groups can often make better decisions than individuals, especially when group members are diverse enough. \n",
    "\n",
    "[The Wisdom of Crowds](http://wisdomofcrowds.blogspot.com/2009/12/introduction-part-i.html)\n",
    "\n",
    "<img src=\"img/wisdom_of_crowds.jpg\" width=\"300\" height=\"300\">"
   ]
  },
  {
   "cell_type": "markdown",
   "metadata": {
    "slideshow": {
     "slide_type": "slide"
    }
   },
   "source": [
    "### Tree-based ensemble models \n",
    "- A number of ensemble models in ML literature.\n",
    "- Most successful ones on a variety of datasets are tree-based models. \n",
    "- We'll briefly talk about two such models: \n",
    "    - Random forests\n",
    "    - Gradient boosted trees\n",
    "- We'll also talk about averaging and stacking. "
   ]
  },
  {
   "cell_type": "markdown",
   "metadata": {
    "slideshow": {
     "slide_type": "slide"
    }
   },
   "source": [
    "### Tree-based models \n",
    "\n",
    "- Decision trees models are \n",
    "    - Interpretable \n",
    "    - They can capture non-linear relationships\n",
    "    - They don't require scaling of the data and theoretically can work with categorical features and missing values. \n",
    "- But single decision trees are likely to overfit. "
   ]
  },
  {
   "cell_type": "markdown",
   "metadata": {
    "slideshow": {
     "slide_type": "slide"
    }
   },
   "source": [
    "- Key idea: Combine multiple trees to build stronger models.\n",
    "- These kinds of models are extremely popular in industry and machine learning competitions.   \n",
    "- We are going to cover how to use a few popular tree-based models:  \n",
    "    - Random forests\n",
    "    - Gradient boosted trees (very high level)\n",
    "- We will also talk about two common ways to combine different models:  \n",
    "    - Averaging\n",
    "    - Stacking "
   ]
  },
  {
   "cell_type": "markdown",
   "metadata": {
    "slideshow": {
     "slide_type": "slide"
    }
   },
   "source": [
    "### Data\n",
    "\n",
    "- Let's work with [the adult census data set](https://www.kaggle.com/uciml/adult-census-income). "
   ]
  },
  {
   "cell_type": "code",
   "execution_count": 2,
   "metadata": {
    "slideshow": {
     "slide_type": "-"
    }
   },
   "outputs": [
    {
     "data": {
      "text/html": [
       "<div>\n",
       "<style scoped>\n",
       "    .dataframe tbody tr th:only-of-type {\n",
       "        vertical-align: middle;\n",
       "    }\n",
       "\n",
       "    .dataframe tbody tr th {\n",
       "        vertical-align: top;\n",
       "    }\n",
       "\n",
       "    .dataframe thead th {\n",
       "        text-align: right;\n",
       "    }\n",
       "</style>\n",
       "<table border=\"1\" class=\"dataframe\">\n",
       "  <thead>\n",
       "    <tr style=\"text-align: right;\">\n",
       "      <th></th>\n",
       "      <th>age</th>\n",
       "      <th>workclass</th>\n",
       "      <th>fnlwgt</th>\n",
       "      <th>education</th>\n",
       "      <th>education.num</th>\n",
       "      <th>marital.status</th>\n",
       "      <th>occupation</th>\n",
       "      <th>relationship</th>\n",
       "      <th>race</th>\n",
       "      <th>sex</th>\n",
       "      <th>capital.gain</th>\n",
       "      <th>capital.loss</th>\n",
       "      <th>hours.per.week</th>\n",
       "      <th>native.country</th>\n",
       "      <th>income</th>\n",
       "    </tr>\n",
       "  </thead>\n",
       "  <tbody>\n",
       "    <tr>\n",
       "      <th>5514</th>\n",
       "      <td>26</td>\n",
       "      <td>Private</td>\n",
       "      <td>256263</td>\n",
       "      <td>HS-grad</td>\n",
       "      <td>9</td>\n",
       "      <td>Never-married</td>\n",
       "      <td>Craft-repair</td>\n",
       "      <td>Not-in-family</td>\n",
       "      <td>White</td>\n",
       "      <td>Male</td>\n",
       "      <td>0</td>\n",
       "      <td>0</td>\n",
       "      <td>25</td>\n",
       "      <td>United-States</td>\n",
       "      <td>&lt;=50K</td>\n",
       "    </tr>\n",
       "    <tr>\n",
       "      <th>19777</th>\n",
       "      <td>24</td>\n",
       "      <td>Private</td>\n",
       "      <td>170277</td>\n",
       "      <td>HS-grad</td>\n",
       "      <td>9</td>\n",
       "      <td>Never-married</td>\n",
       "      <td>Other-service</td>\n",
       "      <td>Not-in-family</td>\n",
       "      <td>White</td>\n",
       "      <td>Female</td>\n",
       "      <td>0</td>\n",
       "      <td>0</td>\n",
       "      <td>35</td>\n",
       "      <td>United-States</td>\n",
       "      <td>&lt;=50K</td>\n",
       "    </tr>\n",
       "    <tr>\n",
       "      <th>10781</th>\n",
       "      <td>36</td>\n",
       "      <td>Private</td>\n",
       "      <td>75826</td>\n",
       "      <td>Bachelors</td>\n",
       "      <td>13</td>\n",
       "      <td>Divorced</td>\n",
       "      <td>Adm-clerical</td>\n",
       "      <td>Unmarried</td>\n",
       "      <td>White</td>\n",
       "      <td>Female</td>\n",
       "      <td>0</td>\n",
       "      <td>0</td>\n",
       "      <td>40</td>\n",
       "      <td>United-States</td>\n",
       "      <td>&lt;=50K</td>\n",
       "    </tr>\n",
       "    <tr>\n",
       "      <th>32240</th>\n",
       "      <td>22</td>\n",
       "      <td>State-gov</td>\n",
       "      <td>24395</td>\n",
       "      <td>Some-college</td>\n",
       "      <td>10</td>\n",
       "      <td>Married-civ-spouse</td>\n",
       "      <td>Adm-clerical</td>\n",
       "      <td>Wife</td>\n",
       "      <td>White</td>\n",
       "      <td>Female</td>\n",
       "      <td>0</td>\n",
       "      <td>0</td>\n",
       "      <td>20</td>\n",
       "      <td>United-States</td>\n",
       "      <td>&lt;=50K</td>\n",
       "    </tr>\n",
       "    <tr>\n",
       "      <th>9876</th>\n",
       "      <td>31</td>\n",
       "      <td>Local-gov</td>\n",
       "      <td>356689</td>\n",
       "      <td>Bachelors</td>\n",
       "      <td>13</td>\n",
       "      <td>Married-civ-spouse</td>\n",
       "      <td>Prof-specialty</td>\n",
       "      <td>Husband</td>\n",
       "      <td>White</td>\n",
       "      <td>Male</td>\n",
       "      <td>0</td>\n",
       "      <td>0</td>\n",
       "      <td>40</td>\n",
       "      <td>United-States</td>\n",
       "      <td>&lt;=50K</td>\n",
       "    </tr>\n",
       "  </tbody>\n",
       "</table>\n",
       "</div>"
      ],
      "text/plain": [
       "       age  workclass  fnlwgt     education  education.num  \\\n",
       "5514    26    Private  256263       HS-grad              9   \n",
       "19777   24    Private  170277       HS-grad              9   \n",
       "10781   36    Private   75826     Bachelors             13   \n",
       "32240   22  State-gov   24395  Some-college             10   \n",
       "9876    31  Local-gov  356689     Bachelors             13   \n",
       "\n",
       "           marital.status      occupation   relationship   race     sex  \\\n",
       "5514        Never-married    Craft-repair  Not-in-family  White    Male   \n",
       "19777       Never-married   Other-service  Not-in-family  White  Female   \n",
       "10781            Divorced    Adm-clerical      Unmarried  White  Female   \n",
       "32240  Married-civ-spouse    Adm-clerical           Wife  White  Female   \n",
       "9876   Married-civ-spouse  Prof-specialty        Husband  White    Male   \n",
       "\n",
       "       capital.gain  capital.loss  hours.per.week native.country income  \n",
       "5514              0             0              25  United-States  <=50K  \n",
       "19777             0             0              35  United-States  <=50K  \n",
       "10781             0             0              40  United-States  <=50K  \n",
       "32240             0             0              20  United-States  <=50K  \n",
       "9876              0             0              40  United-States  <=50K  "
      ]
     },
     "execution_count": 2,
     "metadata": {},
     "output_type": "execute_result"
    }
   ],
   "source": [
    "adult_df_large = pd.read_csv(\"data/adult.csv\")\n",
    "train_df, test_df = train_test_split(adult_df_large, test_size=0.2, random_state=42)\n",
    "train_df_nan = train_df.replace(\"?\", np.NaN)\n",
    "test_df_nan = test_df.replace(\"?\", np.NaN)\n",
    "train_df_nan.head()"
   ]
  },
  {
   "cell_type": "code",
   "execution_count": 3,
   "metadata": {
    "slideshow": {
     "slide_type": "slide"
    }
   },
   "outputs": [],
   "source": [
    "numeric_features = [\"age\", \"capital.gain\", \"capital.loss\", \"hours.per.week\"]\n",
    "\n",
    "categorical_features = [\n",
    "    \"workclass\",\n",
    "    \"marital.status\",\n",
    "    \"occupation\",\n",
    "    \"relationship\",\n",
    "    \"native.country\",\n",
    "]\n",
    "\n",
    "ordinal_features = [\"education\"]\n",
    "binary_features = [\"sex\"]\n",
    "drop_features = [\"fnlwgt\", \"race\", \"education.num\"]\n",
    "target_column = \"income\""
   ]
  },
  {
   "cell_type": "code",
   "execution_count": 4,
   "metadata": {
    "slideshow": {
     "slide_type": "slide"
    }
   },
   "outputs": [],
   "source": [
    "education_levels = [\n",
    "    \"Preschool\",\n",
    "    \"1st-4th\",\n",
    "    \"5th-6th\",\n",
    "    \"7th-8th\",\n",
    "    \"9th\",\n",
    "    \"10th\",\n",
    "    \"11th\",\n",
    "    \"12th\",\n",
    "    \"HS-grad\",\n",
    "    \"Prof-school\",\n",
    "    \"Assoc-voc\",\n",
    "    \"Assoc-acdm\",\n",
    "    \"Some-college\",\n",
    "    \"Bachelors\",\n",
    "    \"Masters\",\n",
    "    \"Doctorate\",\n",
    "]"
   ]
  },
  {
   "cell_type": "code",
   "execution_count": 5,
   "metadata": {
    "slideshow": {
     "slide_type": "-"
    }
   },
   "outputs": [],
   "source": [
    "assert set(education_levels) == set(train_df[\"education\"].unique())"
   ]
  },
  {
   "cell_type": "code",
   "execution_count": 6,
   "metadata": {
    "slideshow": {
     "slide_type": "slide"
    }
   },
   "outputs": [],
   "source": [
    "numeric_transformer = StandardScaler()\n",
    "\n",
    "ordinal_transformer = OrdinalEncoder(categories=[education_levels], dtype=int)\n",
    "\n",
    "binary_transformer = make_pipeline(\n",
    "    SimpleImputer(strategy=\"constant\", fill_value=\"missing\"),\n",
    "    OneHotEncoder(drop=\"if_binary\", dtype=int),\n",
    ")\n",
    "categorical_transformer = make_pipeline(\n",
    "    SimpleImputer(strategy=\"constant\", fill_value=\"missing\"),\n",
    "    OneHotEncoder(handle_unknown=\"ignore\", sparse_output=False),\n",
    ")\n",
    "\n",
    "preprocessor = make_column_transformer(\n",
    "    (numeric_transformer, numeric_features),\n",
    "    (ordinal_transformer, ordinal_features),\n",
    "    (binary_transformer, binary_features),\n",
    "    (categorical_transformer, categorical_features),\n",
    "    (\"drop\", drop_features),\n",
    ")"
   ]
  },
  {
   "cell_type": "code",
   "execution_count": 7,
   "metadata": {},
   "outputs": [
    {
     "data": {
      "text/html": [
       "<style>#sk-container-id-1 {color: black;}#sk-container-id-1 pre{padding: 0;}#sk-container-id-1 div.sk-toggleable {background-color: white;}#sk-container-id-1 label.sk-toggleable__label {cursor: pointer;display: block;width: 100%;margin-bottom: 0;padding: 0.3em;box-sizing: border-box;text-align: center;}#sk-container-id-1 label.sk-toggleable__label-arrow:before {content: \"▸\";float: left;margin-right: 0.25em;color: #696969;}#sk-container-id-1 label.sk-toggleable__label-arrow:hover:before {color: black;}#sk-container-id-1 div.sk-estimator:hover label.sk-toggleable__label-arrow:before {color: black;}#sk-container-id-1 div.sk-toggleable__content {max-height: 0;max-width: 0;overflow: hidden;text-align: left;background-color: #f0f8ff;}#sk-container-id-1 div.sk-toggleable__content pre {margin: 0.2em;color: black;border-radius: 0.25em;background-color: #f0f8ff;}#sk-container-id-1 input.sk-toggleable__control:checked~div.sk-toggleable__content {max-height: 200px;max-width: 100%;overflow: auto;}#sk-container-id-1 input.sk-toggleable__control:checked~label.sk-toggleable__label-arrow:before {content: \"▾\";}#sk-container-id-1 div.sk-estimator input.sk-toggleable__control:checked~label.sk-toggleable__label {background-color: #d4ebff;}#sk-container-id-1 div.sk-label input.sk-toggleable__control:checked~label.sk-toggleable__label {background-color: #d4ebff;}#sk-container-id-1 input.sk-hidden--visually {border: 0;clip: rect(1px 1px 1px 1px);clip: rect(1px, 1px, 1px, 1px);height: 1px;margin: -1px;overflow: hidden;padding: 0;position: absolute;width: 1px;}#sk-container-id-1 div.sk-estimator {font-family: monospace;background-color: #f0f8ff;border: 1px dotted black;border-radius: 0.25em;box-sizing: border-box;margin-bottom: 0.5em;}#sk-container-id-1 div.sk-estimator:hover {background-color: #d4ebff;}#sk-container-id-1 div.sk-parallel-item::after {content: \"\";width: 100%;border-bottom: 1px solid gray;flex-grow: 1;}#sk-container-id-1 div.sk-label:hover label.sk-toggleable__label {background-color: #d4ebff;}#sk-container-id-1 div.sk-serial::before {content: \"\";position: absolute;border-left: 1px solid gray;box-sizing: border-box;top: 0;bottom: 0;left: 50%;z-index: 0;}#sk-container-id-1 div.sk-serial {display: flex;flex-direction: column;align-items: center;background-color: white;padding-right: 0.2em;padding-left: 0.2em;position: relative;}#sk-container-id-1 div.sk-item {position: relative;z-index: 1;}#sk-container-id-1 div.sk-parallel {display: flex;align-items: stretch;justify-content: center;background-color: white;position: relative;}#sk-container-id-1 div.sk-item::before, #sk-container-id-1 div.sk-parallel-item::before {content: \"\";position: absolute;border-left: 1px solid gray;box-sizing: border-box;top: 0;bottom: 0;left: 50%;z-index: -1;}#sk-container-id-1 div.sk-parallel-item {display: flex;flex-direction: column;z-index: 1;position: relative;background-color: white;}#sk-container-id-1 div.sk-parallel-item:first-child::after {align-self: flex-end;width: 50%;}#sk-container-id-1 div.sk-parallel-item:last-child::after {align-self: flex-start;width: 50%;}#sk-container-id-1 div.sk-parallel-item:only-child::after {width: 0;}#sk-container-id-1 div.sk-dashed-wrapped {border: 1px dashed gray;margin: 0 0.4em 0.5em 0.4em;box-sizing: border-box;padding-bottom: 0.4em;background-color: white;}#sk-container-id-1 div.sk-label label {font-family: monospace;font-weight: bold;display: inline-block;line-height: 1.2em;}#sk-container-id-1 div.sk-label-container {text-align: center;}#sk-container-id-1 div.sk-container {/* jupyter's `normalize.less` sets `[hidden] { display: none; }` but bootstrap.min.css set `[hidden] { display: none !important; }` so we also need the `!important` here to be able to override the default hidden behavior on the sphinx rendered scikit-learn.org. See: https://github.com/scikit-learn/scikit-learn/issues/21755 */display: inline-block !important;position: relative;}#sk-container-id-1 div.sk-text-repr-fallback {display: none;}</style><div id=\"sk-container-id-1\" class=\"sk-top-container\"><div class=\"sk-text-repr-fallback\"><pre>ColumnTransformer(transformers=[(&#x27;standardscaler&#x27;, StandardScaler(),\n",
       "                                 [&#x27;age&#x27;, &#x27;capital.gain&#x27;, &#x27;capital.loss&#x27;,\n",
       "                                  &#x27;hours.per.week&#x27;]),\n",
       "                                (&#x27;ordinalencoder&#x27;,\n",
       "                                 OrdinalEncoder(categories=[[&#x27;Preschool&#x27;,\n",
       "                                                             &#x27;1st-4th&#x27;,\n",
       "                                                             &#x27;5th-6th&#x27;,\n",
       "                                                             &#x27;7th-8th&#x27;, &#x27;9th&#x27;,\n",
       "                                                             &#x27;10th&#x27;, &#x27;11th&#x27;,\n",
       "                                                             &#x27;12th&#x27;, &#x27;HS-grad&#x27;,\n",
       "                                                             &#x27;Prof-school&#x27;,\n",
       "                                                             &#x27;Assoc-voc&#x27;,\n",
       "                                                             &#x27;Assoc-acdm&#x27;,\n",
       "                                                             &#x27;Some-college&#x27;,\n",
       "                                                             &#x27;Bachelors&#x27;,\n",
       "                                                             &#x27;Masters&#x27;,\n",
       "                                                             &#x27;Doctorate&#x27;]],\n",
       "                                                dtype=&lt;class...\n",
       "                                                  OneHotEncoder(drop=&#x27;if_binary&#x27;,\n",
       "                                                                dtype=&lt;class &#x27;int&#x27;&gt;))]),\n",
       "                                 [&#x27;sex&#x27;]),\n",
       "                                (&#x27;pipeline-2&#x27;,\n",
       "                                 Pipeline(steps=[(&#x27;simpleimputer&#x27;,\n",
       "                                                  SimpleImputer(fill_value=&#x27;missing&#x27;,\n",
       "                                                                strategy=&#x27;constant&#x27;)),\n",
       "                                                 (&#x27;onehotencoder&#x27;,\n",
       "                                                  OneHotEncoder(handle_unknown=&#x27;ignore&#x27;,\n",
       "                                                                sparse_output=False))]),\n",
       "                                 [&#x27;workclass&#x27;, &#x27;marital.status&#x27;, &#x27;occupation&#x27;,\n",
       "                                  &#x27;relationship&#x27;, &#x27;native.country&#x27;]),\n",
       "                                (&#x27;drop&#x27;, &#x27;drop&#x27;,\n",
       "                                 [&#x27;fnlwgt&#x27;, &#x27;race&#x27;, &#x27;education.num&#x27;])])</pre><b>In a Jupyter environment, please rerun this cell to show the HTML representation or trust the notebook. <br />On GitHub, the HTML representation is unable to render, please try loading this page with nbviewer.org.</b></div><div class=\"sk-container\" hidden><div class=\"sk-item sk-dashed-wrapped\"><div class=\"sk-label-container\"><div class=\"sk-label sk-toggleable\"><input class=\"sk-toggleable__control sk-hidden--visually\" id=\"sk-estimator-id-1\" type=\"checkbox\" ><label for=\"sk-estimator-id-1\" class=\"sk-toggleable__label sk-toggleable__label-arrow\">ColumnTransformer</label><div class=\"sk-toggleable__content\"><pre>ColumnTransformer(transformers=[(&#x27;standardscaler&#x27;, StandardScaler(),\n",
       "                                 [&#x27;age&#x27;, &#x27;capital.gain&#x27;, &#x27;capital.loss&#x27;,\n",
       "                                  &#x27;hours.per.week&#x27;]),\n",
       "                                (&#x27;ordinalencoder&#x27;,\n",
       "                                 OrdinalEncoder(categories=[[&#x27;Preschool&#x27;,\n",
       "                                                             &#x27;1st-4th&#x27;,\n",
       "                                                             &#x27;5th-6th&#x27;,\n",
       "                                                             &#x27;7th-8th&#x27;, &#x27;9th&#x27;,\n",
       "                                                             &#x27;10th&#x27;, &#x27;11th&#x27;,\n",
       "                                                             &#x27;12th&#x27;, &#x27;HS-grad&#x27;,\n",
       "                                                             &#x27;Prof-school&#x27;,\n",
       "                                                             &#x27;Assoc-voc&#x27;,\n",
       "                                                             &#x27;Assoc-acdm&#x27;,\n",
       "                                                             &#x27;Some-college&#x27;,\n",
       "                                                             &#x27;Bachelors&#x27;,\n",
       "                                                             &#x27;Masters&#x27;,\n",
       "                                                             &#x27;Doctorate&#x27;]],\n",
       "                                                dtype=&lt;class...\n",
       "                                                  OneHotEncoder(drop=&#x27;if_binary&#x27;,\n",
       "                                                                dtype=&lt;class &#x27;int&#x27;&gt;))]),\n",
       "                                 [&#x27;sex&#x27;]),\n",
       "                                (&#x27;pipeline-2&#x27;,\n",
       "                                 Pipeline(steps=[(&#x27;simpleimputer&#x27;,\n",
       "                                                  SimpleImputer(fill_value=&#x27;missing&#x27;,\n",
       "                                                                strategy=&#x27;constant&#x27;)),\n",
       "                                                 (&#x27;onehotencoder&#x27;,\n",
       "                                                  OneHotEncoder(handle_unknown=&#x27;ignore&#x27;,\n",
       "                                                                sparse_output=False))]),\n",
       "                                 [&#x27;workclass&#x27;, &#x27;marital.status&#x27;, &#x27;occupation&#x27;,\n",
       "                                  &#x27;relationship&#x27;, &#x27;native.country&#x27;]),\n",
       "                                (&#x27;drop&#x27;, &#x27;drop&#x27;,\n",
       "                                 [&#x27;fnlwgt&#x27;, &#x27;race&#x27;, &#x27;education.num&#x27;])])</pre></div></div></div><div class=\"sk-parallel\"><div class=\"sk-parallel-item\"><div class=\"sk-item\"><div class=\"sk-label-container\"><div class=\"sk-label sk-toggleable\"><input class=\"sk-toggleable__control sk-hidden--visually\" id=\"sk-estimator-id-2\" type=\"checkbox\" ><label for=\"sk-estimator-id-2\" class=\"sk-toggleable__label sk-toggleable__label-arrow\">standardscaler</label><div class=\"sk-toggleable__content\"><pre>[&#x27;age&#x27;, &#x27;capital.gain&#x27;, &#x27;capital.loss&#x27;, &#x27;hours.per.week&#x27;]</pre></div></div></div><div class=\"sk-serial\"><div class=\"sk-item\"><div class=\"sk-estimator sk-toggleable\"><input class=\"sk-toggleable__control sk-hidden--visually\" id=\"sk-estimator-id-3\" type=\"checkbox\" ><label for=\"sk-estimator-id-3\" class=\"sk-toggleable__label sk-toggleable__label-arrow\">StandardScaler</label><div class=\"sk-toggleable__content\"><pre>StandardScaler()</pre></div></div></div></div></div></div><div class=\"sk-parallel-item\"><div class=\"sk-item\"><div class=\"sk-label-container\"><div class=\"sk-label sk-toggleable\"><input class=\"sk-toggleable__control sk-hidden--visually\" id=\"sk-estimator-id-4\" type=\"checkbox\" ><label for=\"sk-estimator-id-4\" class=\"sk-toggleable__label sk-toggleable__label-arrow\">ordinalencoder</label><div class=\"sk-toggleable__content\"><pre>[&#x27;education&#x27;]</pre></div></div></div><div class=\"sk-serial\"><div class=\"sk-item\"><div class=\"sk-estimator sk-toggleable\"><input class=\"sk-toggleable__control sk-hidden--visually\" id=\"sk-estimator-id-5\" type=\"checkbox\" ><label for=\"sk-estimator-id-5\" class=\"sk-toggleable__label sk-toggleable__label-arrow\">OrdinalEncoder</label><div class=\"sk-toggleable__content\"><pre>OrdinalEncoder(categories=[[&#x27;Preschool&#x27;, &#x27;1st-4th&#x27;, &#x27;5th-6th&#x27;, &#x27;7th-8th&#x27;, &#x27;9th&#x27;,\n",
       "                            &#x27;10th&#x27;, &#x27;11th&#x27;, &#x27;12th&#x27;, &#x27;HS-grad&#x27;, &#x27;Prof-school&#x27;,\n",
       "                            &#x27;Assoc-voc&#x27;, &#x27;Assoc-acdm&#x27;, &#x27;Some-college&#x27;,\n",
       "                            &#x27;Bachelors&#x27;, &#x27;Masters&#x27;, &#x27;Doctorate&#x27;]],\n",
       "               dtype=&lt;class &#x27;int&#x27;&gt;)</pre></div></div></div></div></div></div><div class=\"sk-parallel-item\"><div class=\"sk-item\"><div class=\"sk-label-container\"><div class=\"sk-label sk-toggleable\"><input class=\"sk-toggleable__control sk-hidden--visually\" id=\"sk-estimator-id-6\" type=\"checkbox\" ><label for=\"sk-estimator-id-6\" class=\"sk-toggleable__label sk-toggleable__label-arrow\">pipeline-1</label><div class=\"sk-toggleable__content\"><pre>[&#x27;sex&#x27;]</pre></div></div></div><div class=\"sk-serial\"><div class=\"sk-item\"><div class=\"sk-serial\"><div class=\"sk-item\"><div class=\"sk-estimator sk-toggleable\"><input class=\"sk-toggleable__control sk-hidden--visually\" id=\"sk-estimator-id-7\" type=\"checkbox\" ><label for=\"sk-estimator-id-7\" class=\"sk-toggleable__label sk-toggleable__label-arrow\">SimpleImputer</label><div class=\"sk-toggleable__content\"><pre>SimpleImputer(fill_value=&#x27;missing&#x27;, strategy=&#x27;constant&#x27;)</pre></div></div></div><div class=\"sk-item\"><div class=\"sk-estimator sk-toggleable\"><input class=\"sk-toggleable__control sk-hidden--visually\" id=\"sk-estimator-id-8\" type=\"checkbox\" ><label for=\"sk-estimator-id-8\" class=\"sk-toggleable__label sk-toggleable__label-arrow\">OneHotEncoder</label><div class=\"sk-toggleable__content\"><pre>OneHotEncoder(drop=&#x27;if_binary&#x27;, dtype=&lt;class &#x27;int&#x27;&gt;)</pre></div></div></div></div></div></div></div></div><div class=\"sk-parallel-item\"><div class=\"sk-item\"><div class=\"sk-label-container\"><div class=\"sk-label sk-toggleable\"><input class=\"sk-toggleable__control sk-hidden--visually\" id=\"sk-estimator-id-9\" type=\"checkbox\" ><label for=\"sk-estimator-id-9\" class=\"sk-toggleable__label sk-toggleable__label-arrow\">pipeline-2</label><div class=\"sk-toggleable__content\"><pre>[&#x27;workclass&#x27;, &#x27;marital.status&#x27;, &#x27;occupation&#x27;, &#x27;relationship&#x27;, &#x27;native.country&#x27;]</pre></div></div></div><div class=\"sk-serial\"><div class=\"sk-item\"><div class=\"sk-serial\"><div class=\"sk-item\"><div class=\"sk-estimator sk-toggleable\"><input class=\"sk-toggleable__control sk-hidden--visually\" id=\"sk-estimator-id-10\" type=\"checkbox\" ><label for=\"sk-estimator-id-10\" class=\"sk-toggleable__label sk-toggleable__label-arrow\">SimpleImputer</label><div class=\"sk-toggleable__content\"><pre>SimpleImputer(fill_value=&#x27;missing&#x27;, strategy=&#x27;constant&#x27;)</pre></div></div></div><div class=\"sk-item\"><div class=\"sk-estimator sk-toggleable\"><input class=\"sk-toggleable__control sk-hidden--visually\" id=\"sk-estimator-id-11\" type=\"checkbox\" ><label for=\"sk-estimator-id-11\" class=\"sk-toggleable__label sk-toggleable__label-arrow\">OneHotEncoder</label><div class=\"sk-toggleable__content\"><pre>OneHotEncoder(handle_unknown=&#x27;ignore&#x27;, sparse_output=False)</pre></div></div></div></div></div></div></div></div><div class=\"sk-parallel-item\"><div class=\"sk-item\"><div class=\"sk-label-container\"><div class=\"sk-label sk-toggleable\"><input class=\"sk-toggleable__control sk-hidden--visually\" id=\"sk-estimator-id-12\" type=\"checkbox\" ><label for=\"sk-estimator-id-12\" class=\"sk-toggleable__label sk-toggleable__label-arrow\">drop</label><div class=\"sk-toggleable__content\"><pre>[&#x27;fnlwgt&#x27;, &#x27;race&#x27;, &#x27;education.num&#x27;]</pre></div></div></div><div class=\"sk-serial\"><div class=\"sk-item\"><div class=\"sk-estimator sk-toggleable\"><input class=\"sk-toggleable__control sk-hidden--visually\" id=\"sk-estimator-id-13\" type=\"checkbox\" ><label for=\"sk-estimator-id-13\" class=\"sk-toggleable__label sk-toggleable__label-arrow\">drop</label><div class=\"sk-toggleable__content\"><pre>drop</pre></div></div></div></div></div></div></div></div></div></div>"
      ],
      "text/plain": [
       "ColumnTransformer(transformers=[('standardscaler', StandardScaler(),\n",
       "                                 ['age', 'capital.gain', 'capital.loss',\n",
       "                                  'hours.per.week']),\n",
       "                                ('ordinalencoder',\n",
       "                                 OrdinalEncoder(categories=[['Preschool',\n",
       "                                                             '1st-4th',\n",
       "                                                             '5th-6th',\n",
       "                                                             '7th-8th', '9th',\n",
       "                                                             '10th', '11th',\n",
       "                                                             '12th', 'HS-grad',\n",
       "                                                             'Prof-school',\n",
       "                                                             'Assoc-voc',\n",
       "                                                             'Assoc-acdm',\n",
       "                                                             'Some-college',\n",
       "                                                             'Bachelors',\n",
       "                                                             'Masters',\n",
       "                                                             'Doctorate']],\n",
       "                                                dtype=<class...\n",
       "                                                  OneHotEncoder(drop='if_binary',\n",
       "                                                                dtype=<class 'int'>))]),\n",
       "                                 ['sex']),\n",
       "                                ('pipeline-2',\n",
       "                                 Pipeline(steps=[('simpleimputer',\n",
       "                                                  SimpleImputer(fill_value='missing',\n",
       "                                                                strategy='constant')),\n",
       "                                                 ('onehotencoder',\n",
       "                                                  OneHotEncoder(handle_unknown='ignore',\n",
       "                                                                sparse_output=False))]),\n",
       "                                 ['workclass', 'marital.status', 'occupation',\n",
       "                                  'relationship', 'native.country']),\n",
       "                                ('drop', 'drop',\n",
       "                                 ['fnlwgt', 'race', 'education.num'])])"
      ]
     },
     "execution_count": 7,
     "metadata": {},
     "output_type": "execute_result"
    }
   ],
   "source": [
    "preprocessor"
   ]
  },
  {
   "cell_type": "code",
   "execution_count": 8,
   "metadata": {
    "slideshow": {
     "slide_type": "slide"
    }
   },
   "outputs": [],
   "source": [
    "X_train = train_df_nan.drop(columns=[target_column])\n",
    "y_train = train_df_nan[target_column]\n",
    "\n",
    "X_test = test_df_nan.drop(columns=[target_column])\n",
    "y_test = test_df_nan[target_column]"
   ]
  },
  {
   "cell_type": "markdown",
   "metadata": {
    "slideshow": {
     "slide_type": "slide"
    }
   },
   "source": [
    "### Do we have class imbalance? \n",
    "\n",
    "- There is class imbalance. But without any context, both classes seem equally important. \n",
    "- Let's use accuracy as our metric. "
   ]
  },
  {
   "cell_type": "code",
   "execution_count": 9,
   "metadata": {
    "slideshow": {
     "slide_type": "-"
    }
   },
   "outputs": [
    {
     "data": {
      "text/plain": [
       "income\n",
       "<=50K    0.757985\n",
       ">50K     0.242015\n",
       "Name: proportion, dtype: float64"
      ]
     },
     "execution_count": 9,
     "metadata": {},
     "output_type": "execute_result"
    }
   ],
   "source": [
    "train_df[\"income\"].value_counts(normalize=True)"
   ]
  },
  {
   "cell_type": "code",
   "execution_count": 10,
   "metadata": {
    "slideshow": {
     "slide_type": "-"
    }
   },
   "outputs": [],
   "source": [
    "scoring_metric = \"accuracy\""
   ]
  },
  {
   "cell_type": "markdown",
   "metadata": {},
   "source": [
    "We are going to use models outside sklearn. Some of them cannot handle categorical target values. So we'll convert them to integers using `LabelEncoder`. "
   ]
  },
  {
   "cell_type": "code",
   "execution_count": 11,
   "metadata": {},
   "outputs": [],
   "source": [
    "from sklearn.preprocessing import LabelEncoder\n",
    "\n",
    "label_encoder = LabelEncoder()\n",
    "y_train_num = label_encoder.fit_transform(y_train)\n",
    "y_test_num = label_encoder.transform(y_test)"
   ]
  },
  {
   "cell_type": "code",
   "execution_count": 12,
   "metadata": {},
   "outputs": [
    {
     "data": {
      "text/plain": [
       "array([0, 0, 0, ..., 1, 1, 0])"
      ]
     },
     "execution_count": 12,
     "metadata": {},
     "output_type": "execute_result"
    }
   ],
   "source": [
    "y_train_num"
   ]
  },
  {
   "cell_type": "markdown",
   "metadata": {
    "slideshow": {
     "slide_type": "slide"
    }
   },
   "source": [
    "Let's store all the results in a dictionary called `results`. "
   ]
  },
  {
   "cell_type": "code",
   "execution_count": 13,
   "metadata": {},
   "outputs": [],
   "source": [
    "results = {}"
   ]
  },
  {
   "cell_type": "markdown",
   "metadata": {
    "slideshow": {
     "slide_type": "slide"
    }
   },
   "source": [
    "### Baselines"
   ]
  },
  {
   "cell_type": "markdown",
   "metadata": {},
   "source": [
    "####  `DummyClassifier` baseline"
   ]
  },
  {
   "cell_type": "code",
   "execution_count": 14,
   "metadata": {},
   "outputs": [],
   "source": [
    "dummy = DummyClassifier()\n",
    "results[\"Dummy\"] = mean_std_cross_val_scores(\n",
    "    dummy, X_train, y_train_num, return_train_score=True, scoring=scoring_metric\n",
    ")"
   ]
  },
  {
   "cell_type": "markdown",
   "metadata": {
    "slideshow": {
     "slide_type": "slide"
    }
   },
   "source": [
    "#### `DecisionTreeClassifier` baseline"
   ]
  },
  {
   "cell_type": "markdown",
   "metadata": {
    "slideshow": {
     "slide_type": "-"
    }
   },
   "source": [
    "- Let's try decision tree classifier on our data. "
   ]
  },
  {
   "cell_type": "code",
   "execution_count": 15,
   "metadata": {},
   "outputs": [
    {
     "data": {
      "text/html": [
       "<div>\n",
       "<style scoped>\n",
       "    .dataframe tbody tr th:only-of-type {\n",
       "        vertical-align: middle;\n",
       "    }\n",
       "\n",
       "    .dataframe tbody tr th {\n",
       "        vertical-align: top;\n",
       "    }\n",
       "\n",
       "    .dataframe thead th {\n",
       "        text-align: right;\n",
       "    }\n",
       "</style>\n",
       "<table border=\"1\" class=\"dataframe\">\n",
       "  <thead>\n",
       "    <tr style=\"text-align: right;\">\n",
       "      <th></th>\n",
       "      <th>fit_time</th>\n",
       "      <th>score_time</th>\n",
       "      <th>test_score</th>\n",
       "      <th>train_score</th>\n",
       "    </tr>\n",
       "  </thead>\n",
       "  <tbody>\n",
       "    <tr>\n",
       "      <th>Dummy</th>\n",
       "      <td>0.002 (+/- 0.000)</td>\n",
       "      <td>0.000 (+/- 0.000)</td>\n",
       "      <td>0.758 (+/- 0.000)</td>\n",
       "      <td>0.758 (+/- 0.000)</td>\n",
       "    </tr>\n",
       "    <tr>\n",
       "      <th>Decision tree</th>\n",
       "      <td>0.121 (+/- 0.006)</td>\n",
       "      <td>0.011 (+/- 0.001)</td>\n",
       "      <td>0.817 (+/- 0.006)</td>\n",
       "      <td>0.979 (+/- 0.000)</td>\n",
       "    </tr>\n",
       "  </tbody>\n",
       "</table>\n",
       "</div>"
      ],
      "text/plain": [
       "                        fit_time         score_time         test_score  \\\n",
       "Dummy          0.002 (+/- 0.000)  0.000 (+/- 0.000)  0.758 (+/- 0.000)   \n",
       "Decision tree  0.121 (+/- 0.006)  0.011 (+/- 0.001)  0.817 (+/- 0.006)   \n",
       "\n",
       "                     train_score  \n",
       "Dummy          0.758 (+/- 0.000)  \n",
       "Decision tree  0.979 (+/- 0.000)  "
      ]
     },
     "execution_count": 15,
     "metadata": {},
     "output_type": "execute_result"
    }
   ],
   "source": [
    "pipe_dt = make_pipeline(preprocessor, DecisionTreeClassifier(random_state=123))\n",
    "results[\"Decision tree\"] = mean_std_cross_val_scores(\n",
    "    pipe_dt, X_train, y_train_num, return_train_score=True, scoring=scoring_metric\n",
    ")\n",
    "pd.DataFrame(results).T"
   ]
  },
  {
   "cell_type": "markdown",
   "metadata": {},
   "source": [
    "Decision tree is clearly overfitting. "
   ]
  },
  {
   "cell_type": "markdown",
   "metadata": {},
   "source": [
    "<br><br><br><br>"
   ]
  },
  {
   "cell_type": "markdown",
   "metadata": {
    "slideshow": {
     "slide_type": "slide"
    }
   },
   "source": [
    "## Random forests \n",
    "\n",
    "![](img/eva-forest.jpg)"
   ]
  },
  {
   "cell_type": "markdown",
   "metadata": {
    "slideshow": {
     "slide_type": "slide"
    }
   },
   "source": [
    "### General idea\n",
    "\n",
    "- A single decision tree is likely to overfit\n",
    "- Use a collection of diverse decision trees\n",
    "- Each tree overfits on some part of the data but we can reduce overfitting by averaging the results \n",
    "    - can be shown mathematically"
   ]
  },
  {
   "cell_type": "markdown",
   "metadata": {
    "slideshow": {
     "slide_type": "slide"
    }
   },
   "source": [
    "### `RandomForestClassifier` \n",
    "\n",
    "- Before understanding the details let's first try it out.  "
   ]
  },
  {
   "cell_type": "code",
   "execution_count": 16,
   "metadata": {},
   "outputs": [
    {
     "data": {
      "text/html": [
       "<div>\n",
       "<style scoped>\n",
       "    .dataframe tbody tr th:only-of-type {\n",
       "        vertical-align: middle;\n",
       "    }\n",
       "\n",
       "    .dataframe tbody tr th {\n",
       "        vertical-align: top;\n",
       "    }\n",
       "\n",
       "    .dataframe thead th {\n",
       "        text-align: right;\n",
       "    }\n",
       "</style>\n",
       "<table border=\"1\" class=\"dataframe\">\n",
       "  <thead>\n",
       "    <tr style=\"text-align: right;\">\n",
       "      <th></th>\n",
       "      <th>fit_time</th>\n",
       "      <th>score_time</th>\n",
       "      <th>test_score</th>\n",
       "      <th>train_score</th>\n",
       "    </tr>\n",
       "  </thead>\n",
       "  <tbody>\n",
       "    <tr>\n",
       "      <th>Dummy</th>\n",
       "      <td>0.002 (+/- 0.000)</td>\n",
       "      <td>0.000 (+/- 0.000)</td>\n",
       "      <td>0.758 (+/- 0.000)</td>\n",
       "      <td>0.758 (+/- 0.000)</td>\n",
       "    </tr>\n",
       "    <tr>\n",
       "      <th>Decision tree</th>\n",
       "      <td>0.121 (+/- 0.006)</td>\n",
       "      <td>0.011 (+/- 0.001)</td>\n",
       "      <td>0.817 (+/- 0.006)</td>\n",
       "      <td>0.979 (+/- 0.000)</td>\n",
       "    </tr>\n",
       "    <tr>\n",
       "      <th>Random forests</th>\n",
       "      <td>0.355 (+/- 0.020)</td>\n",
       "      <td>0.038 (+/- 0.002)</td>\n",
       "      <td>0.847 (+/- 0.006)</td>\n",
       "      <td>0.979 (+/- 0.000)</td>\n",
       "    </tr>\n",
       "  </tbody>\n",
       "</table>\n",
       "</div>"
      ],
      "text/plain": [
       "                         fit_time         score_time         test_score  \\\n",
       "Dummy           0.002 (+/- 0.000)  0.000 (+/- 0.000)  0.758 (+/- 0.000)   \n",
       "Decision tree   0.121 (+/- 0.006)  0.011 (+/- 0.001)  0.817 (+/- 0.006)   \n",
       "Random forests  0.355 (+/- 0.020)  0.038 (+/- 0.002)  0.847 (+/- 0.006)   \n",
       "\n",
       "                      train_score  \n",
       "Dummy           0.758 (+/- 0.000)  \n",
       "Decision tree   0.979 (+/- 0.000)  \n",
       "Random forests  0.979 (+/- 0.000)  "
      ]
     },
     "execution_count": 16,
     "metadata": {},
     "output_type": "execute_result"
    }
   ],
   "source": [
    "from sklearn.ensemble import RandomForestClassifier\n",
    "\n",
    "pipe_rf = make_pipeline(\n",
    "    preprocessor,\n",
    "    RandomForestClassifier(\n",
    "        n_jobs=-1,\n",
    "        random_state=123,\n",
    "    ),\n",
    ")\n",
    "results[\"Random forests\"] = mean_std_cross_val_scores(\n",
    "    pipe_rf, X_train, y_train_num, return_train_score=True, scoring=scoring_metric\n",
    ")\n",
    "pd.DataFrame(results).T"
   ]
  },
  {
   "cell_type": "markdown",
   "metadata": {
    "slideshow": {
     "slide_type": "-"
    }
   },
   "source": [
    "The validation scores are better although it seems likes we are still overfitting. "
   ]
  },
  {
   "cell_type": "markdown",
   "metadata": {
    "slideshow": {
     "slide_type": "slide"
    }
   },
   "source": [
    "### How do they work? \n",
    "\n",
    "- Decide how many decision trees we want to build\n",
    "    - can control with `n_estimators` hyperparameter \n",
    "- `fit` a diverse set of that many decision trees by **injecting randomness** in the model construction\n",
    "- `predict` by voting (classification) or averaging (regression) of predictions given by individual models"
   ]
  },
  {
   "cell_type": "markdown",
   "metadata": {
    "slideshow": {
     "slide_type": "slide"
    }
   },
   "source": [
    "### Inject randomness in the classifier construction\n",
    "\n",
    "To ensure that the trees in the random forest are different we inject randomness in two ways:  \n",
    "\n",
    "1. Data: **Build each tree on a bootstrap sample** (i.e., a sample drawn **with replacement** from the training set)\n",
    "2. Features: **At each node, select a random subset of features** (controlled by `max_features` in `scikit-learn`) and look for the best possible test involving one of these features   "
   ]
  },
  {
   "cell_type": "markdown",
   "metadata": {
    "slideshow": {
     "slide_type": "slide"
    }
   },
   "source": [
    "### An example of a bootstrap samples\n",
    "\n",
    "- Suppose you are training a random forest model with `n_estimators=3`. \n",
    "- Suppose this is your original dataset with six examples: [0,1,2,3,4,5]\n",
    "    - a sample drawn with replacement for tree 1: [1,1,3,3,3,4]\n",
    "    - a sample drawn with replacement for tree 2: [3,2,2,2,1,1]\n",
    "    - a sample drawn with replacement for tree 3: [0,0,0,4,4,5]\n",
    "- Each decision tree trains on a total of six examples.\n",
    "- Each tree trains on a different set of examples. "
   ]
  },
  {
   "cell_type": "code",
   "execution_count": 17,
   "metadata": {},
   "outputs": [
    {
     "data": {
      "text/html": [
       "<div>\n",
       "<style scoped>\n",
       "    .dataframe tbody tr th:only-of-type {\n",
       "        vertical-align: middle;\n",
       "    }\n",
       "\n",
       "    .dataframe tbody tr th {\n",
       "        vertical-align: top;\n",
       "    }\n",
       "\n",
       "    .dataframe thead th {\n",
       "        text-align: right;\n",
       "    }\n",
       "</style>\n",
       "<table border=\"1\" class=\"dataframe\">\n",
       "  <thead>\n",
       "    <tr style=\"text-align: right;\">\n",
       "      <th></th>\n",
       "      <th>original</th>\n",
       "      <th>tree1</th>\n",
       "      <th>tree2</th>\n",
       "      <th>tree3</th>\n",
       "    </tr>\n",
       "  </thead>\n",
       "  <tbody>\n",
       "    <tr>\n",
       "      <th>0</th>\n",
       "      <td>1</td>\n",
       "      <td>0</td>\n",
       "      <td>0</td>\n",
       "      <td>3</td>\n",
       "    </tr>\n",
       "    <tr>\n",
       "      <th>1</th>\n",
       "      <td>1</td>\n",
       "      <td>2</td>\n",
       "      <td>2</td>\n",
       "      <td>0</td>\n",
       "    </tr>\n",
       "    <tr>\n",
       "      <th>2</th>\n",
       "      <td>1</td>\n",
       "      <td>0</td>\n",
       "      <td>3</td>\n",
       "      <td>0</td>\n",
       "    </tr>\n",
       "    <tr>\n",
       "      <th>3</th>\n",
       "      <td>1</td>\n",
       "      <td>3</td>\n",
       "      <td>1</td>\n",
       "      <td>0</td>\n",
       "    </tr>\n",
       "    <tr>\n",
       "      <th>4</th>\n",
       "      <td>1</td>\n",
       "      <td>1</td>\n",
       "      <td>0</td>\n",
       "      <td>2</td>\n",
       "    </tr>\n",
       "    <tr>\n",
       "      <th>5</th>\n",
       "      <td>1</td>\n",
       "      <td>0</td>\n",
       "      <td>0</td>\n",
       "      <td>1</td>\n",
       "    </tr>\n",
       "  </tbody>\n",
       "</table>\n",
       "</div>"
      ],
      "text/plain": [
       "   original  tree1  tree2  tree3\n",
       "0         1      0      0      3\n",
       "1         1      2      2      0\n",
       "2         1      0      3      0\n",
       "3         1      3      1      0\n",
       "4         1      1      0      2\n",
       "5         1      0      0      1"
      ]
     },
     "execution_count": 17,
     "metadata": {},
     "output_type": "execute_result"
    }
   ],
   "source": [
    "random_forest_data = {'original':[1, 1, 1, 1, 1, 1], 'tree1':[0, 2, 0, 3, 1, 0], 'tree2':[0, 2, 3, 1, 0, 0], 'tree3':[3, 0, 0, 0, 2, 1]}\n",
    "pd.DataFrame(random_forest_data)"
   ]
  },
  {
   "cell_type": "markdown",
   "metadata": {
    "slideshow": {
     "slide_type": "slide"
    }
   },
   "source": [
    "### The random forests classifier \n",
    "\n",
    "- Create a collection (ensemble) of trees. Grow each tree on an independent bootstrap sample from the data.\n",
    "- At each node:\n",
    "    - Randomly select a subset of features out of all features (independently for each node).\n",
    "    - Find the best split on the selected features. \n",
    "    - Grow the trees to maximum depth.\n",
    "    \n",
    "- Prediction time    \n",
    "    - Vote the trees to get predictions for new example. "
   ]
  },
  {
   "cell_type": "markdown",
   "metadata": {
    "slideshow": {
     "slide_type": "slide"
    }
   },
   "source": [
    "### Example \n",
    "\n",
    "- Let's create a random forest with 3 estimators. \n",
    "- I'm using `max_depth=2` for easy visualization. "
   ]
  },
  {
   "cell_type": "code",
   "execution_count": 18,
   "metadata": {
    "slideshow": {
     "slide_type": "-"
    }
   },
   "outputs": [],
   "source": [
    "pipe_rf_demo = make_pipeline(\n",
    "    preprocessor, RandomForestClassifier(max_depth=2, n_estimators=3, random_state=123)\n",
    ")\n",
    "pipe_rf_demo.fit(X_train, y_train_num);"
   ]
  },
  {
   "cell_type": "markdown",
   "metadata": {
    "slideshow": {
     "slide_type": "slide"
    }
   },
   "source": [
    "- Let's get the feature names of transformed features."
   ]
  },
  {
   "cell_type": "code",
   "execution_count": 19,
   "metadata": {},
   "outputs": [
    {
     "data": {
      "text/plain": [
       "['age',\n",
       " 'capital.gain',\n",
       " 'capital.loss',\n",
       " 'hours.per.week',\n",
       " 'education',\n",
       " 'sex',\n",
       " 'workclass_Federal-gov',\n",
       " 'workclass_Local-gov',\n",
       " 'workclass_Never-worked',\n",
       " 'workclass_Private']"
      ]
     },
     "execution_count": 19,
     "metadata": {},
     "output_type": "execute_result"
    }
   ],
   "source": [
    "feature_names = (\n",
    "    numeric_features\n",
    "    + ordinal_features\n",
    "    + binary_features\n",
    "    + pipe_rf_demo.named_steps[\"columntransformer\"]\n",
    "    .named_transformers_[\"pipeline-2\"]\n",
    "    .named_steps[\"onehotencoder\"]\n",
    "    .get_feature_names_out(categorical_features)\n",
    "    .tolist()\n",
    ")\n",
    "feature_names[:10]"
   ]
  },
  {
   "cell_type": "markdown",
   "metadata": {
    "slideshow": {
     "slide_type": "slide"
    }
   },
   "source": [
    "- Let's sample a test example where income > 50k. "
   ]
  },
  {
   "cell_type": "code",
   "execution_count": 20,
   "metadata": {},
   "outputs": [
    {
     "data": {
      "text/plain": [
       "(array([ 582, 1271, 1991, 2268, 2447, 2516, 2556, 4151, 4165, 5294, 5798,\n",
       "        5970, 6480]),)"
      ]
     },
     "execution_count": 20,
     "metadata": {},
     "output_type": "execute_result"
    }
   ],
   "source": [
    "probs = pipe_rf_demo.predict_proba(X_test)\n",
    "np.where(probs[:, 1] > 0.55)"
   ]
  },
  {
   "cell_type": "code",
   "execution_count": 21,
   "metadata": {
    "slideshow": {
     "slide_type": "-"
    }
   },
   "outputs": [
    {
     "name": "stdout",
     "output_type": "stream",
     "text": [
      "Classes:  [0 1]\n",
      "Prediction by random forest:  [1]\n"
     ]
    },
    {
     "data": {
      "text/html": [
       "<div>\n",
       "<style scoped>\n",
       "    .dataframe tbody tr th:only-of-type {\n",
       "        vertical-align: middle;\n",
       "    }\n",
       "\n",
       "    .dataframe tbody tr th {\n",
       "        vertical-align: top;\n",
       "    }\n",
       "\n",
       "    .dataframe thead th {\n",
       "        text-align: right;\n",
       "    }\n",
       "</style>\n",
       "<table border=\"1\" class=\"dataframe\">\n",
       "  <thead>\n",
       "    <tr style=\"text-align: right;\">\n",
       "      <th></th>\n",
       "      <th>0</th>\n",
       "    </tr>\n",
       "  </thead>\n",
       "  <tbody>\n",
       "    <tr>\n",
       "      <th>age</th>\n",
       "      <td>0.550004</td>\n",
       "    </tr>\n",
       "    <tr>\n",
       "      <th>capital.gain</th>\n",
       "      <td>-0.147166</td>\n",
       "    </tr>\n",
       "    <tr>\n",
       "      <th>capital.loss</th>\n",
       "      <td>-0.217680</td>\n",
       "    </tr>\n",
       "    <tr>\n",
       "      <th>hours.per.week</th>\n",
       "      <td>1.579660</td>\n",
       "    </tr>\n",
       "    <tr>\n",
       "      <th>education</th>\n",
       "      <td>15.000000</td>\n",
       "    </tr>\n",
       "    <tr>\n",
       "      <th>...</th>\n",
       "      <td>...</td>\n",
       "    </tr>\n",
       "    <tr>\n",
       "      <th>native.country_Trinadad&amp;Tobago</th>\n",
       "      <td>0.000000</td>\n",
       "    </tr>\n",
       "    <tr>\n",
       "      <th>native.country_United-States</th>\n",
       "      <td>1.000000</td>\n",
       "    </tr>\n",
       "    <tr>\n",
       "      <th>native.country_Vietnam</th>\n",
       "      <td>0.000000</td>\n",
       "    </tr>\n",
       "    <tr>\n",
       "      <th>native.country_Yugoslavia</th>\n",
       "      <td>0.000000</td>\n",
       "    </tr>\n",
       "    <tr>\n",
       "      <th>native.country_missing</th>\n",
       "      <td>0.000000</td>\n",
       "    </tr>\n",
       "  </tbody>\n",
       "</table>\n",
       "<p>85 rows × 1 columns</p>\n",
       "</div>"
      ],
      "text/plain": [
       "                                        0\n",
       "age                              0.550004\n",
       "capital.gain                    -0.147166\n",
       "capital.loss                    -0.217680\n",
       "hours.per.week                   1.579660\n",
       "education                       15.000000\n",
       "...                                   ...\n",
       "native.country_Trinadad&Tobago   0.000000\n",
       "native.country_United-States     1.000000\n",
       "native.country_Vietnam           0.000000\n",
       "native.country_Yugoslavia        0.000000\n",
       "native.country_missing           0.000000\n",
       "\n",
       "[85 rows x 1 columns]"
      ]
     },
     "execution_count": 21,
     "metadata": {},
     "output_type": "execute_result"
    }
   ],
   "source": [
    "test_example = X_test.iloc[[582]]\n",
    "pipe_rf_demo.predict_proba(test_example)\n",
    "print(\"Classes: \", pipe_rf_demo.classes_)\n",
    "print(\"Prediction by random forest: \", pipe_rf_demo.predict(test_example))\n",
    "transformed_example = preprocessor.transform(test_example)\n",
    "pd.DataFrame(data=transformed_example.flatten(), index=feature_names)"
   ]
  },
  {
   "cell_type": "markdown",
   "metadata": {
    "slideshow": {
     "slide_type": "slide"
    }
   },
   "source": [
    "- We can look at different trees created by random forest. \n",
    "- Note that each tree looks at different set of features and slightly different data. "
   ]
  },
  {
   "cell_type": "code",
   "execution_count": 22,
   "metadata": {
    "slideshow": {
     "slide_type": "slide"
    }
   },
   "outputs": [
    {
     "name": "stdout",
     "output_type": "stream",
     "text": [
      "\n",
      "\n",
      "Tree 1\n"
     ]
    },
    {
     "data": {
      "image/png": "[encoded data removed]",
      "text/plain": [
       "<Figure size 640x480 with 1 Axes>"
      ]
     },
     "metadata": {},
     "output_type": "display_data"
    },
    {
     "data": {
      "text/plain": [
       "None"
      ]
     },
     "metadata": {},
     "output_type": "display_data"
    },
    {
     "name": "stdout",
     "output_type": "stream",
     "text": [
      "prediction [0.]\n",
      "\n",
      "\n",
      "Tree 2\n"
     ]
    },
    {
     "data": {
      "image/png": "[encoded data removed]",
      "text/plain": [
       "<Figure size 640x480 with 1 Axes>"
      ]
     },
     "metadata": {},
     "output_type": "display_data"
    },
    {
     "data": {
      "text/plain": [
       "None"
      ]
     },
     "metadata": {},
     "output_type": "display_data"
    },
    {
     "name": "stdout",
     "output_type": "stream",
     "text": [
      "prediction [1.]\n",
      "\n",
      "\n",
      "Tree 3\n"
     ]
    },
    {
     "data": {
      "image/png": "[encoded data removed]",
      "text/plain": [
       "<Figure size 640x480 with 1 Axes>"
      ]
     },
     "metadata": {},
     "output_type": "display_data"
    },
    {
     "data": {
      "text/plain": [
       "None"
      ]
     },
     "metadata": {},
     "output_type": "display_data"
    },
    {
     "name": "stdout",
     "output_type": "stream",
     "text": [
      "prediction [1.]\n"
     ]
    }
   ],
   "source": [
    "for i, tree in enumerate(\n",
    "    pipe_rf_demo.named_steps[\"randomforestclassifier\"].estimators_\n",
    "):\n",
    "    print(\"\\n\\nTree\", i + 1)\n",
    "    display(custom_plot_tree(tree, feature_names))\n",
    "    print(\"prediction\", tree.predict(preprocessor.transform(test_example)))"
   ]
  },
  {
   "cell_type": "markdown",
   "metadata": {
    "slideshow": {
     "slide_type": "slide"
    }
   },
   "source": [
    "### Some important hyperparameters:\n",
    "\n",
    "- `n_estimators`: number of decision trees (higher = more complexity)\n",
    "- `max_depth`: max depth of each decision tree (higher = more complexity)\n",
    "- `max_features`: the number of features you get to look at each split (higher = more complexity)"
   ]
  },
  {
   "cell_type": "markdown",
   "metadata": {
    "slideshow": {
     "slide_type": "slide"
    }
   },
   "source": [
    "\n",
    "### Random forests: number of trees (`n_estimators`) and the fundamental tradeoff "
   ]
  },
  {
   "cell_type": "code",
   "execution_count": 23,
   "metadata": {
    "scrolled": true,
    "slideshow": {
     "slide_type": "-"
    }
   },
   "outputs": [
    {
     "data": {
      "image/png": "[encoded data removed]",
      "text/plain": [
       "<Figure size 640x480 with 1 Axes>"
      ]
     },
     "metadata": {},
     "output_type": "display_data"
    }
   ],
   "source": [
    "make_num_tree_plot(\n",
    "    preprocessor, X_train, y_train, X_test, y_test, [1, 5, 10, 25, 50, 100, 200, 500]\n",
    ") # User-defined function defined in code/plotting_functions.py "
   ]
  },
  {
   "cell_type": "markdown",
   "metadata": {
    "slideshow": {
     "slide_type": "slide"
    }
   },
   "source": [
    "#### Number of trees and fundamental trade-off\n",
    "\n",
    "- Above: seems like we're beating the fundamental \"tradeoff\" by increasing training score and not decreasing validation score much.\n",
    "- You'll often see a high training scores for in the context of random forests. That's normal. It doesn't mean that the model is overfitting. \n",
    "- This is the promise of ensembles, though it's not guaranteed to work so nicely.\n",
    "\n",
    "More trees are always better! We pick less trees for speed. \n"
   ]
  },
  {
   "cell_type": "markdown",
   "metadata": {
    "slideshow": {
     "slide_type": "slide"
    }
   },
   "source": [
    "### Strengths and weaknesses\n",
    "\n",
    "- Usually one of the best performing off-the-shelf classifiers without heavy tuning of hyperparameters\n",
    "- Don't require scaling of data \n",
    "- Less likely to overfit \n",
    "- Slower than decision trees because we are fitting multiple trees but can easily parallelize training because all trees are independent of each other \n",
    "- In general, able to capture a much broader picture of the data compared to a single decision tree. "
   ]
  },
  {
   "cell_type": "markdown",
   "metadata": {
    "slideshow": {
     "slide_type": "slide"
    }
   },
   "source": [
    "### Weaknesses\n",
    "\n",
    "- Require more memory \n",
    "- Hard to interpret\n",
    "- Tend not to perform well on high dimensional sparse data such as text data\n"
   ]
  },
  {
   "cell_type": "markdown",
   "metadata": {},
   "source": [
    "```{seealso}\n",
    "There is also something called [`ExtraTreesClassifier`](https://scikit-learn.org/stable/modules/generated/sklearn.ensemble.ExtraTreesClassifier.html), where we add more randomness by consider a random subset of features at each split and **random threshold**. \n",
    "```"
   ]
  },
  {
   "cell_type": "markdown",
   "metadata": {
    "slideshow": {
     "slide_type": "skip"
    }
   },
   "source": [
    "```{important}\n",
    "Make sure to set the `random_state` for reproducibility. Changing the `random_state` can have a big impact on the model and the results due to the random nature of these models. Having more trees can get you a more robust estimate. \n",
    "```"
   ]
  },
  {
   "cell_type": "markdown",
   "metadata": {
    "slideshow": {
     "slide_type": "skip"
    }
   },
   "source": [
    "```{seealso}\n",
    "[The original random forests paper](https://www.stat.berkeley.edu/~breiman/randomforest2001.pdf) by Leo Breiman. \n",
    "```"
   ]
  },
  {
   "cell_type": "markdown",
   "metadata": {
    "slideshow": {
     "slide_type": "skip"
    }
   },
   "source": [
    "## ❓❓ Questions for you"
   ]
  },
  {
   "cell_type": "markdown",
   "metadata": {
    "slideshow": {
     "slide_type": "slide"
    },
    "tags": []
   },
   "source": [
    "### iClicker Exercise 7.1 \n",
    "\n",
    "**iClicker cloud join link: https://join.iclicker.com/C0P55**\n",
    "\n",
    "**Select the most accurate option below.**\n",
    "\n",
    "- (A) Every tree in a random forest uses a different bootstrap sample of the training set.\n",
    "- (B) To train a tree in a random forest, we first randomly select a subset of features. The tree is then restricted to only using those features.\n",
    "- (C) The `n_estimators` hyperparameter of random forests should be tuned to get a better performance on the validation or test data.  \n",
    "- (D) In random forests we build trees in a sequential fashion, where the current tree is dependent upon the previous tree.  \n",
    "- (E) Let classifiers A, B, and C have training errors of 10%, 20%, and 30%, respectively. Then, the best possible training error from averaging A, B and C is 10%."
   ]
  },
  {
   "cell_type": "markdown",
   "metadata": {},
   "source": [
    "- Why do we create random forests out of random trees (trees where each stump only looks at a subset of the features, and the dataset is a bootstrap sample) rather than creating them out of regular decision trees?"
   ]
  },
  {
   "cell_type": "markdown",
   "metadata": {},
   "source": [
    "<br><br><br><br>"
   ]
  },
  {
   "cell_type": "markdown",
   "metadata": {
    "slideshow": {
     "slide_type": "slide"
    },
    "tags": []
   },
   "source": [
    "## Gradient boosted trees [[video](https://youtu.be/EkFkY9QB2Hw)]"
   ]
  },
  {
   "cell_type": "markdown",
   "metadata": {
    "slideshow": {
     "slide_type": "slide"
    }
   },
   "source": [
    "Another popular and effective class of tree-based models is gradient boosted trees. \n",
    "\n",
    "- No randomization.\n",
    "- The key idea is combining many simple models called weak learners to create a strong learner. \n",
    "- They combine multiple shallow (depth 1 to 5) decision trees  \n",
    "- They build trees in a serial manner, where each tree tries to correct the mistakes of the previous one. "
   ]
  },
  {
   "cell_type": "markdown",
   "metadata": {},
   "source": [
    "### (Optional) Prediction in boosted regression trees\n",
    "\n",
    "- Credit: Adapted from [CPSC 340 notes](https://www.students.cs.ubc.ca/~cs-340/L24.pdf)\n",
    "- Gradient boosting starts with an ensemble of $k$ shallow decision trees. \n",
    "- For each example $i$, each shallow tree makes a continuous prediction: $\\hat{y}_{i1}, \\hat{y}_{i2}, \\dots, \\hat{y}_{ik}$\n",
    "- The final prediction is sum of individual predictions: $\\hat{y}_{i1} + \\hat{y}_{i2} + \\dots + \\hat{y}_{ik}$\n",
    "- Note that we do not use the average as we would with random forests because  \n",
    "    - In boosting, each tree is not individually trying to predict the true $y_i$ value\n",
    "    - Instead, each new tree tries to \"fix\" the prediction made by the old trees, so that sum is $y_i$"
   ]
  },
  {
   "cell_type": "markdown",
   "metadata": {},
   "source": [
    "### (Optional) Fitting in boosted regression trees. \n",
    "Consider the following \"gradient tree boosting\" procedure:\n",
    "\n",
    "```\n",
    "Tree[1].fit(X,y)\n",
    "y_hat = Tree[1].predict(X)\n",
    "Tree[2].fit(X,y - y_hat)\n",
    "y_hat = y_hat + Tree[2].predict(X)\n",
    "Tree[3].fit(X,y - y_hat)\n",
    "y_hat = y_hat + Tree[3].predict(X)\n",
    "Tree[4].fit(X,y - y_hat)\n",
    "y_hat = y_hat + Tree[4].predict(X)\n",
    "```\n",
    "\n",
    "- Each tree is trying to predict residuals (`y - y_hat`) of current prediction.\n",
    "    - True label is 0.9, old prediction is 0.8, so I can improve `y_hat` by predicting 0.1."
   ]
  },
  {
   "cell_type": "markdown",
   "metadata": {},
   "source": [
    "<br><br>"
   ]
  },
  {
   "cell_type": "markdown",
   "metadata": {},
   "source": [
    "We'll not go into the details. If you want to know more, here are some resources: \n",
    "- [UBC CPSC 340 Gradient Boosting notes](https://www.students.cs.ubc.ca/~cs-340/L24.pdf)\n",
    "- [Gradient Boosted Decision Trees by Google Developer](https://developers.google.com/machine-learning/decision-forests/intro-to-gbdt)"
   ]
  },
  {
   "cell_type": "markdown",
   "metadata": {
    "slideshow": {
     "slide_type": "slide"
    }
   },
   "source": [
    "We'll look at brief examples of using the following three gradient boosted tree models. \n",
    "\n",
    "- [XGBoost](https://xgboost.readthedocs.io/en/latest/)\n",
    "- [LightGBM](https://lightgbm.readthedocs.io/en/latest/Python-Intro.html) \n",
    "- [CatBoost](https://catboost.ai/docs/concepts/python-quickstart.html)"
   ]
  },
  {
   "cell_type": "markdown",
   "metadata": {
    "slideshow": {
     "slide_type": "slide"
    }
   },
   "source": [
    "### [XGBoost](https://xgboost.ai/about) \n",
    "\n",
    "- Not part of `sklearn` but has similar interface. \n",
    "- Install it in your conda environment: `conda install -c conda-forge xgboost`\n",
    "- Supports missing values\n",
    "- GPU training, networked parallel training\n",
    "- Supports sparse data\n",
    "- Typically better scores than random forests    "
   ]
  },
  {
   "cell_type": "markdown",
   "metadata": {
    "slideshow": {
     "slide_type": "slide"
    }
   },
   "source": [
    "### [LightGBM](https://lightgbm.readthedocs.io/)"
   ]
  },
  {
   "cell_type": "markdown",
   "metadata": {},
   "source": [
    "- Not part of `sklearn` but has similar interface. \n",
    "- Install it in your conda environment: `conda install -c conda-forge lightgbm`\n",
    "- Small model size\n",
    "- Faster \n",
    "- Typically better scores than random forests    "
   ]
  },
  {
   "cell_type": "markdown",
   "metadata": {},
   "source": [
    "Main hyperparameters"
   ]
  },
  {
   "cell_type": "markdown",
   "metadata": {
    "slideshow": {
     "slide_type": "slide"
    }
   },
   "source": [
    "### [CatBoost](https://catboost.ai/)\n",
    "\n",
    "- Not part of `sklearn` but has similar interface. \n",
    "- Install it in your course conda environment: `conda install -c conda-forge catboost`\n",
    "- Usually better scores but slower compared to `XGBoost` and `LightGBM`     "
   ]
  },
  {
   "cell_type": "markdown",
   "metadata": {
    "slideshow": {
     "slide_type": "slide"
    }
   },
   "source": [
    "### Important hyperparameters\n",
    "\n",
    "- `n_estimators` $\\rightarrow$ Number of boosting rounds\n",
    "- `learning_rate` $\\rightarrow$ The learning rate of training\n",
    "    - controls how strongly each tree tries to correct the mistakes of the previous trees\n",
    "    - higher learning rate means each tree can make stronger corrections, which means more complex model \n",
    "- `max_depth` $\\rightarrow$ `max_depth` of trees (similar to decision trees) \n",
    "- `scale_pos_weight` $\\rightarrow$ Balancing of positive and negative weights"
   ]
  },
  {
   "cell_type": "markdown",
   "metadata": {},
   "source": [
    "In our demo below, we'll just give equal weight to both classes because we are trying to optimize accuracy. But if you want to give more weight to class 1, for example, you can calculate the data imbalance ratio and set `scale_pos_weight` hyperparameter with that weight. "
   ]
  },
  {
   "cell_type": "code",
   "execution_count": 24,
   "metadata": {},
   "outputs": [
    {
     "data": {
      "text/plain": [
       "3.1319796954314723"
      ]
     },
     "execution_count": 24,
     "metadata": {},
     "output_type": "execute_result"
    }
   ],
   "source": [
    "ratio = np.bincount(y_train_num)[0] / np.bincount(y_train_num)[1]\n",
    "ratio"
   ]
  },
  {
   "cell_type": "markdown",
   "metadata": {},
   "source": [
    "### Gradient boosting in `sklearn`\n",
    "\n",
    "sklearn also has gradient boosting models. \n",
    "\n",
    "- [GradientBoostingClassifier](https://scikit-learn.org/stable/modules/generated/sklearn.ensemble.GradientBoostingClassifier.html) and [GradientBoostingRegressor](https://scikit-learn.org/stable/modules/generated/sklearn.ensemble.GradientBoostingRegressor.html)\n",
    "- [HistGradientBoostingClassifier](https://scikit-learn.org/stable/modules/generated/sklearn.ensemble.HistGradientBoostingClassifier.html) and [HistGradientBoostingRegressor](https://scikit-learn.org/stable/modules/generated/sklearn.ensemble.HistGradientBoostingRegressor)  (Inspired by LGBM, supports missing values)"
   ]
  },
  {
   "cell_type": "markdown",
   "metadata": {},
   "source": [
    "Let's try out all these models. "
   ]
  },
  {
   "cell_type": "code",
   "execution_count": 25,
   "metadata": {
    "slideshow": {
     "slide_type": "slide"
    }
   },
   "outputs": [],
   "source": [
    "from catboost import CatBoostClassifier\n",
    "from lightgbm.sklearn import LGBMClassifier\n",
    "from sklearn.tree import DecisionTreeClassifier\n",
    "from xgboost import XGBClassifier\n",
    "from sklearn.ensemble import GradientBoostingClassifier, HistGradientBoostingClassifier\n",
    "\n",
    "pipe_lr = make_pipeline(\n",
    "    preprocessor, LogisticRegression(max_iter=2000, random_state=123)\n",
    ")\n",
    "pipe_dt = make_pipeline(preprocessor, DecisionTreeClassifier(random_state=123))\n",
    "pipe_rf = make_pipeline(\n",
    "    preprocessor, RandomForestClassifier(class_weight=\"balanced\", random_state=123)\n",
    ")\n",
    "pipe_xgb = make_pipeline(\n",
    "    preprocessor,\n",
    "    XGBClassifier(\n",
    "        random_state=123, verbosity=0\n",
    "    ),\n",
    ")\n",
    "pipe_lgbm = make_pipeline(\n",
    "    preprocessor, LGBMClassifier(random_state=123, verbose=-1)\n",
    ")\n",
    "\n",
    "pipe_catboost = make_pipeline(\n",
    "    preprocessor,\n",
    "    CatBoostClassifier(verbose=0, random_state=123),\n",
    ")\n",
    "\n",
    "pipe_sklearn_histGB = make_pipeline(\n",
    "    preprocessor,\n",
    "    HistGradientBoostingClassifier(random_state=123),\n",
    ")\n",
    "\n",
    "pipe_sklearn_GB = make_pipeline(\n",
    "    preprocessor,\n",
    "    GradientBoostingClassifier(random_state=123),\n",
    ")\n",
    "\n",
    "classifiers = {\n",
    "    \"logistic regression\": pipe_lr,\n",
    "    \"decision tree\": pipe_dt,\n",
    "    \"random forest\": pipe_rf,\n",
    "    \"XGBoost\": pipe_xgb,\n",
    "    \"LightGBM\": pipe_lgbm,\n",
    "    \"CatBoost\": pipe_catboost,\n",
    "    \"sklearn_histGB\": pipe_sklearn_histGB,\n",
    "    \"sklearn_GB\": pipe_sklearn_GB,\n",
    "}"
   ]
  },
  {
   "cell_type": "code",
   "execution_count": 26,
   "metadata": {
    "slideshow": {
     "slide_type": "skip"
    }
   },
   "outputs": [],
   "source": [
    "import warnings\n",
    "\n",
    "warnings.simplefilter(action=\"ignore\", category=DeprecationWarning)\n",
    "warnings.simplefilter(action=\"ignore\", category=UserWarning)"
   ]
  },
  {
   "cell_type": "code",
   "execution_count": 27,
   "metadata": {},
   "outputs": [],
   "source": [
    "results = {}"
   ]
  },
  {
   "cell_type": "code",
   "execution_count": 28,
   "metadata": {
    "slideshow": {
     "slide_type": "skip"
    }
   },
   "outputs": [],
   "source": [
    "dummy = DummyClassifier()\n",
    "results[\"Dummy\"] = mean_std_cross_val_scores(\n",
    "    dummy, X_train, y_train, return_train_score=True, scoring=scoring_metric\n",
    ")"
   ]
  },
  {
   "cell_type": "code",
   "execution_count": 29,
   "metadata": {
    "slideshow": {
     "slide_type": "slide"
    }
   },
   "outputs": [],
   "source": [
    "for (name, model) in classifiers.items():\n",
    "    results[name] = mean_std_cross_val_scores(\n",
    "        model, X_train, y_train_num, return_train_score=True, scoring=scoring_metric\n",
    "    )"
   ]
  },
  {
   "cell_type": "code",
   "execution_count": 30,
   "metadata": {
    "slideshow": {
     "slide_type": "-"
    }
   },
   "outputs": [
    {
     "data": {
      "text/html": [
       "<div>\n",
       "<style scoped>\n",
       "    .dataframe tbody tr th:only-of-type {\n",
       "        vertical-align: middle;\n",
       "    }\n",
       "\n",
       "    .dataframe tbody tr th {\n",
       "        vertical-align: top;\n",
       "    }\n",
       "\n",
       "    .dataframe thead th {\n",
       "        text-align: right;\n",
       "    }\n",
       "</style>\n",
       "<table border=\"1\" class=\"dataframe\">\n",
       "  <thead>\n",
       "    <tr style=\"text-align: right;\">\n",
       "      <th></th>\n",
       "      <th>fit_time</th>\n",
       "      <th>score_time</th>\n",
       "      <th>test_score</th>\n",
       "      <th>train_score</th>\n",
       "    </tr>\n",
       "  </thead>\n",
       "  <tbody>\n",
       "    <tr>\n",
       "      <th>Dummy</th>\n",
       "      <td>0.007 (+/- 0.000)</td>\n",
       "      <td>0.006 (+/- 0.000)</td>\n",
       "      <td>0.758 (+/- 0.000)</td>\n",
       "      <td>0.758 (+/- 0.000)</td>\n",
       "    </tr>\n",
       "    <tr>\n",
       "      <th>logistic regression</th>\n",
       "      <td>1.104 (+/- 0.100)</td>\n",
       "      <td>0.011 (+/- 0.001)</td>\n",
       "      <td>0.849 (+/- 0.005)</td>\n",
       "      <td>0.850 (+/- 0.001)</td>\n",
       "    </tr>\n",
       "    <tr>\n",
       "      <th>decision tree</th>\n",
       "      <td>0.120 (+/- 0.004)</td>\n",
       "      <td>0.010 (+/- 0.000)</td>\n",
       "      <td>0.817 (+/- 0.006)</td>\n",
       "      <td>0.979 (+/- 0.000)</td>\n",
       "    </tr>\n",
       "    <tr>\n",
       "      <th>random forest</th>\n",
       "      <td>1.296 (+/- 0.007)</td>\n",
       "      <td>0.079 (+/- 0.001)</td>\n",
       "      <td>0.844 (+/- 0.007)</td>\n",
       "      <td>0.976 (+/- 0.001)</td>\n",
       "    </tr>\n",
       "    <tr>\n",
       "      <th>XGBoost</th>\n",
       "      <td>1.332 (+/- 0.020)</td>\n",
       "      <td>0.014 (+/- 0.000)</td>\n",
       "      <td>0.870 (+/- 0.003)</td>\n",
       "      <td>0.898 (+/- 0.001)</td>\n",
       "    </tr>\n",
       "    <tr>\n",
       "      <th>LightGBM</th>\n",
       "      <td>0.152 (+/- 0.020)</td>\n",
       "      <td>0.021 (+/- 0.001)</td>\n",
       "      <td>0.872 (+/- 0.004)</td>\n",
       "      <td>0.888 (+/- 0.000)</td>\n",
       "    </tr>\n",
       "    <tr>\n",
       "      <th>CatBoost</th>\n",
       "      <td>3.826 (+/- 0.068)</td>\n",
       "      <td>0.092 (+/- 0.003)</td>\n",
       "      <td>0.872 (+/- 0.003)</td>\n",
       "      <td>0.895 (+/- 0.001)</td>\n",
       "    </tr>\n",
       "    <tr>\n",
       "      <th>sklearn_histGB</th>\n",
       "      <td>0.694 (+/- 0.073)</td>\n",
       "      <td>0.023 (+/- 0.000)</td>\n",
       "      <td>0.871 (+/- 0.005)</td>\n",
       "      <td>0.887 (+/- 0.002)</td>\n",
       "    </tr>\n",
       "    <tr>\n",
       "      <th>sklearn_GB</th>\n",
       "      <td>1.869 (+/- 0.011)</td>\n",
       "      <td>0.014 (+/- 0.000)</td>\n",
       "      <td>0.864 (+/- 0.004)</td>\n",
       "      <td>0.870 (+/- 0.001)</td>\n",
       "    </tr>\n",
       "  </tbody>\n",
       "</table>\n",
       "</div>"
      ],
      "text/plain": [
       "                              fit_time         score_time         test_score  \\\n",
       "Dummy                0.007 (+/- 0.000)  0.006 (+/- 0.000)  0.758 (+/- 0.000)   \n",
       "logistic regression  1.104 (+/- 0.100)  0.011 (+/- 0.001)  0.849 (+/- 0.005)   \n",
       "decision tree        0.120 (+/- 0.004)  0.010 (+/- 0.000)  0.817 (+/- 0.006)   \n",
       "random forest        1.296 (+/- 0.007)  0.079 (+/- 0.001)  0.844 (+/- 0.007)   \n",
       "XGBoost              1.332 (+/- 0.020)  0.014 (+/- 0.000)  0.870 (+/- 0.003)   \n",
       "LightGBM             0.152 (+/- 0.020)  0.021 (+/- 0.001)  0.872 (+/- 0.004)   \n",
       "CatBoost             3.826 (+/- 0.068)  0.092 (+/- 0.003)  0.872 (+/- 0.003)   \n",
       "sklearn_histGB       0.694 (+/- 0.073)  0.023 (+/- 0.000)  0.871 (+/- 0.005)   \n",
       "sklearn_GB           1.869 (+/- 0.011)  0.014 (+/- 0.000)  0.864 (+/- 0.004)   \n",
       "\n",
       "                           train_score  \n",
       "Dummy                0.758 (+/- 0.000)  \n",
       "logistic regression  0.850 (+/- 0.001)  \n",
       "decision tree        0.979 (+/- 0.000)  \n",
       "random forest        0.976 (+/- 0.001)  \n",
       "XGBoost              0.898 (+/- 0.001)  \n",
       "LightGBM             0.888 (+/- 0.000)  \n",
       "CatBoost             0.895 (+/- 0.001)  \n",
       "sklearn_histGB       0.887 (+/- 0.002)  \n",
       "sklearn_GB           0.870 (+/- 0.001)  "
      ]
     },
     "execution_count": 30,
     "metadata": {},
     "output_type": "execute_result"
    }
   ],
   "source": [
    "pd.DataFrame(results).T"
   ]
  },
  {
   "cell_type": "markdown",
   "metadata": {
    "slideshow": {
     "slide_type": "slide"
    }
   },
   "source": [
    "**Some observations**\n",
    "- Keep in mind all these results are with default hyperparameters\n",
    "- Ideally we would carry out hyperparameter optimization for all of them and then compare the results. \n",
    "- We are using a particular scoring metric (accuracy in this case)\n",
    "- We are scaling numeric features but it shouldn't matter for tree-based models\n",
    "- Look at the standard deviation. Doesn't look very high. \n",
    "    - The scores look more or less stable. "
   ]
  },
  {
   "cell_type": "code",
   "execution_count": 31,
   "metadata": {
    "slideshow": {
     "slide_type": "slide"
    }
   },
   "outputs": [
    {
     "data": {
      "text/html": [
       "<div>\n",
       "<style scoped>\n",
       "    .dataframe tbody tr th:only-of-type {\n",
       "        vertical-align: middle;\n",
       "    }\n",
       "\n",
       "    .dataframe tbody tr th {\n",
       "        vertical-align: top;\n",
       "    }\n",
       "\n",
       "    .dataframe thead th {\n",
       "        text-align: right;\n",
       "    }\n",
       "</style>\n",
       "<table border=\"1\" class=\"dataframe\">\n",
       "  <thead>\n",
       "    <tr style=\"text-align: right;\">\n",
       "      <th></th>\n",
       "      <th>fit_time</th>\n",
       "      <th>score_time</th>\n",
       "      <th>test_score</th>\n",
       "      <th>train_score</th>\n",
       "    </tr>\n",
       "  </thead>\n",
       "  <tbody>\n",
       "    <tr>\n",
       "      <th>Dummy</th>\n",
       "      <td>0.007 (+/- 0.000)</td>\n",
       "      <td>0.006 (+/- 0.000)</td>\n",
       "      <td>0.758 (+/- 0.000)</td>\n",
       "      <td>0.758 (+/- 0.000)</td>\n",
       "    </tr>\n",
       "    <tr>\n",
       "      <th>logistic regression</th>\n",
       "      <td>1.104 (+/- 0.100)</td>\n",
       "      <td>0.011 (+/- 0.001)</td>\n",
       "      <td>0.849 (+/- 0.005)</td>\n",
       "      <td>0.850 (+/- 0.001)</td>\n",
       "    </tr>\n",
       "    <tr>\n",
       "      <th>decision tree</th>\n",
       "      <td>0.120 (+/- 0.004)</td>\n",
       "      <td>0.010 (+/- 0.000)</td>\n",
       "      <td>0.817 (+/- 0.006)</td>\n",
       "      <td>0.979 (+/- 0.000)</td>\n",
       "    </tr>\n",
       "    <tr>\n",
       "      <th>random forest</th>\n",
       "      <td>1.296 (+/- 0.007)</td>\n",
       "      <td>0.079 (+/- 0.001)</td>\n",
       "      <td>0.844 (+/- 0.007)</td>\n",
       "      <td>0.976 (+/- 0.001)</td>\n",
       "    </tr>\n",
       "    <tr>\n",
       "      <th>XGBoost</th>\n",
       "      <td>1.332 (+/- 0.020)</td>\n",
       "      <td>0.014 (+/- 0.000)</td>\n",
       "      <td>0.870 (+/- 0.003)</td>\n",
       "      <td>0.898 (+/- 0.001)</td>\n",
       "    </tr>\n",
       "    <tr>\n",
       "      <th>LightGBM</th>\n",
       "      <td>0.152 (+/- 0.020)</td>\n",
       "      <td>0.021 (+/- 0.001)</td>\n",
       "      <td>0.872 (+/- 0.004)</td>\n",
       "      <td>0.888 (+/- 0.000)</td>\n",
       "    </tr>\n",
       "    <tr>\n",
       "      <th>CatBoost</th>\n",
       "      <td>3.826 (+/- 0.068)</td>\n",
       "      <td>0.092 (+/- 0.003)</td>\n",
       "      <td>0.872 (+/- 0.003)</td>\n",
       "      <td>0.895 (+/- 0.001)</td>\n",
       "    </tr>\n",
       "    <tr>\n",
       "      <th>sklearn_histGB</th>\n",
       "      <td>0.694 (+/- 0.073)</td>\n",
       "      <td>0.023 (+/- 0.000)</td>\n",
       "      <td>0.871 (+/- 0.005)</td>\n",
       "      <td>0.887 (+/- 0.002)</td>\n",
       "    </tr>\n",
       "    <tr>\n",
       "      <th>sklearn_GB</th>\n",
       "      <td>1.869 (+/- 0.011)</td>\n",
       "      <td>0.014 (+/- 0.000)</td>\n",
       "      <td>0.864 (+/- 0.004)</td>\n",
       "      <td>0.870 (+/- 0.001)</td>\n",
       "    </tr>\n",
       "  </tbody>\n",
       "</table>\n",
       "</div>"
      ],
      "text/plain": [
       "                              fit_time         score_time         test_score  \\\n",
       "Dummy                0.007 (+/- 0.000)  0.006 (+/- 0.000)  0.758 (+/- 0.000)   \n",
       "logistic regression  1.104 (+/- 0.100)  0.011 (+/- 0.001)  0.849 (+/- 0.005)   \n",
       "decision tree        0.120 (+/- 0.004)  0.010 (+/- 0.000)  0.817 (+/- 0.006)   \n",
       "random forest        1.296 (+/- 0.007)  0.079 (+/- 0.001)  0.844 (+/- 0.007)   \n",
       "XGBoost              1.332 (+/- 0.020)  0.014 (+/- 0.000)  0.870 (+/- 0.003)   \n",
       "LightGBM             0.152 (+/- 0.020)  0.021 (+/- 0.001)  0.872 (+/- 0.004)   \n",
       "CatBoost             3.826 (+/- 0.068)  0.092 (+/- 0.003)  0.872 (+/- 0.003)   \n",
       "sklearn_histGB       0.694 (+/- 0.073)  0.023 (+/- 0.000)  0.871 (+/- 0.005)   \n",
       "sklearn_GB           1.869 (+/- 0.011)  0.014 (+/- 0.000)  0.864 (+/- 0.004)   \n",
       "\n",
       "                           train_score  \n",
       "Dummy                0.758 (+/- 0.000)  \n",
       "logistic regression  0.850 (+/- 0.001)  \n",
       "decision tree        0.979 (+/- 0.000)  \n",
       "random forest        0.976 (+/- 0.001)  \n",
       "XGBoost              0.898 (+/- 0.001)  \n",
       "LightGBM             0.888 (+/- 0.000)  \n",
       "CatBoost             0.895 (+/- 0.001)  \n",
       "sklearn_histGB       0.887 (+/- 0.002)  \n",
       "sklearn_GB           0.870 (+/- 0.001)  "
      ]
     },
     "execution_count": 31,
     "metadata": {},
     "output_type": "execute_result"
    }
   ],
   "source": [
    "pd.DataFrame(results).T"
   ]
  },
  {
   "cell_type": "markdown",
   "metadata": {
    "slideshow": {
     "slide_type": "slide"
    }
   },
   "source": [
    "- Decision trees and random forests overfit\n",
    "    - Other models do not seem to overfit much. \n",
    "- Fit times\n",
    "    - Decision trees are fast but not very accurate\n",
    "    - LightGBM is faster than decision trees and more accurate! \n",
    "    - CatBoost fit time is highest. \n",
    "    - There is not much difference between the validation scores of XGBoost, LightGBM, and CatBoost.\n",
    "    - Among the best performing models, LightGBM is the fastest one!\n",
    "- Scores times  \n",
    "    - Prediction times are much smaller in all cases. "
   ]
  },
  {
   "cell_type": "markdown",
   "metadata": {},
   "source": [
    "<br><br>"
   ]
  },
  {
   "cell_type": "markdown",
   "metadata": {
    "slideshow": {
     "slide_type": "slide"
    }
   },
   "source": [
    "### Which model should I use?\n",
    "\n",
    "**Simple answer**\n",
    "- Whichever gets the highest CV score making sure that you're not overusing the validation set."
   ]
  },
  {
   "cell_type": "markdown",
   "metadata": {
    "slideshow": {
     "slide_type": "slide"
    }
   },
   "source": [
    "**Interpretability**\n",
    "- This is an area of growing interest and concern in ML.\n",
    "- How important is interpretability for you? \n",
    "- In the next class we'll talk about interpretability of non-linear models. \n"
   ]
  },
  {
   "cell_type": "markdown",
   "metadata": {
    "slideshow": {
     "slide_type": "slide"
    }
   },
   "source": [
    "**Speed/code maintenance**\n",
    "- Other considerations could be speed (fit and/or predict), maintainability of the code.\n",
    "\n",
    "Finally, you could use all of them!"
   ]
  },
  {
   "cell_type": "markdown",
   "metadata": {
    "slideshow": {
     "slide_type": "skip"
    }
   },
   "source": [
    "<br><br><br><br>"
   ]
  },
  {
   "cell_type": "markdown",
   "metadata": {
    "slideshow": {
     "slide_type": "slide"
    }
   },
   "source": [
    "## Averaging "
   ]
  },
  {
   "cell_type": "markdown",
   "metadata": {
    "slideshow": {
     "slide_type": "slide"
    }
   },
   "source": [
    "Earlier we looked at a bunch of classifiers:"
   ]
  },
  {
   "cell_type": "code",
   "execution_count": 32,
   "metadata": {},
   "outputs": [
    {
     "data": {
      "text/plain": [
       "dict_keys(['logistic regression', 'decision tree', 'random forest', 'XGBoost', 'LightGBM', 'CatBoost', 'sklearn_histGB', 'sklearn_GB'])"
      ]
     },
     "execution_count": 32,
     "metadata": {},
     "output_type": "execute_result"
    }
   ],
   "source": [
    "classifiers.keys()"
   ]
  },
  {
   "cell_type": "markdown",
   "metadata": {},
   "source": [
    "For this demonstration, let's get rid of sklearn's gradient boosting models and CatBoost because it's too slow. "
   ]
  },
  {
   "cell_type": "code",
   "execution_count": 33,
   "metadata": {},
   "outputs": [],
   "source": [
    "del classifiers[\"sklearn_histGB\"]\n",
    "del classifiers[\"sklearn_GB\"]\n",
    "del classifiers[\"CatBoost\"]"
   ]
  },
  {
   "cell_type": "code",
   "execution_count": 34,
   "metadata": {},
   "outputs": [
    {
     "data": {
      "text/plain": [
       "dict_keys(['logistic regression', 'decision tree', 'random forest', 'XGBoost', 'LightGBM'])"
      ]
     },
     "execution_count": 34,
     "metadata": {},
     "output_type": "execute_result"
    }
   ],
   "source": [
    "classifiers.keys()"
   ]
  },
  {
   "cell_type": "markdown",
   "metadata": {},
   "source": [
    "What if we use all the models in `classifiers` and let them vote during prediction time? "
   ]
  },
  {
   "cell_type": "code",
   "execution_count": 35,
   "metadata": {
    "slideshow": {
     "slide_type": "slide"
    }
   },
   "outputs": [],
   "source": [
    "from sklearn.ensemble import VotingClassifier\n",
    "\n",
    "averaging_model = VotingClassifier(\n",
    "    list(classifiers.items()), voting=\"soft\"\n",
    ")  # need the list() here for cross-validation to work!"
   ]
  },
  {
   "cell_type": "code",
   "execution_count": 36,
   "metadata": {
    "slideshow": {
     "slide_type": "-"
    }
   },
   "outputs": [],
   "source": [
    "from sklearn import set_config\n",
    "\n",
    "set_config(display=\"diagram\")  # global setting"
   ]
  },
  {
   "cell_type": "code",
   "execution_count": 37,
   "metadata": {
    "slideshow": {
     "slide_type": "slide"
    }
   },
   "outputs": [
    {
     "data": {
      "text/html": [
       "<style>#sk-container-id-2 {color: black;}#sk-container-id-2 pre{padding: 0;}#sk-container-id-2 div.sk-toggleable {background-color: white;}#sk-container-id-2 label.sk-toggleable__label {cursor: pointer;display: block;width: 100%;margin-bottom: 0;padding: 0.3em;box-sizing: border-box;text-align: center;}#sk-container-id-2 label.sk-toggleable__label-arrow:before {content: \"▸\";float: left;margin-right: 0.25em;color: #696969;}#sk-container-id-2 label.sk-toggleable__label-arrow:hover:before {color: black;}#sk-container-id-2 div.sk-estimator:hover label.sk-toggleable__label-arrow:before {color: black;}#sk-container-id-2 div.sk-toggleable__content {max-height: 0;max-width: 0;overflow: hidden;text-align: left;background-color: #f0f8ff;}#sk-container-id-2 div.sk-toggleable__content pre {margin: 0.2em;color: black;border-radius: 0.25em;background-color: #f0f8ff;}#sk-container-id-2 input.sk-toggleable__control:checked~div.sk-toggleable__content {max-height: 200px;max-width: 100%;overflow: auto;}#sk-container-id-2 input.sk-toggleable__control:checked~label.sk-toggleable__label-arrow:before {content: \"▾\";}#sk-container-id-2 div.sk-estimator input.sk-toggleable__control:checked~label.sk-toggleable__label {background-color: #d4ebff;}#sk-container-id-2 div.sk-label input.sk-toggleable__control:checked~label.sk-toggleable__label {background-color: #d4ebff;}#sk-container-id-2 input.sk-hidden--visually {border: 0;clip: rect(1px 1px 1px 1px);clip: rect(1px, 1px, 1px, 1px);height: 1px;margin: -1px;overflow: hidden;padding: 0;position: absolute;width: 1px;}#sk-container-id-2 div.sk-estimator {font-family: monospace;background-color: #f0f8ff;border: 1px dotted black;border-radius: 0.25em;box-sizing: border-box;margin-bottom: 0.5em;}#sk-container-id-2 div.sk-estimator:hover {background-color: #d4ebff;}#sk-container-id-2 div.sk-parallel-item::after {content: \"\";width: 100%;border-bottom: 1px solid gray;flex-grow: 1;}#sk-container-id-2 div.sk-label:hover label.sk-toggleable__label {background-color: #d4ebff;}#sk-container-id-2 div.sk-serial::before {content: \"\";position: absolute;border-left: 1px solid gray;box-sizing: border-box;top: 0;bottom: 0;left: 50%;z-index: 0;}#sk-container-id-2 div.sk-serial {display: flex;flex-direction: column;align-items: center;background-color: white;padding-right: 0.2em;padding-left: 0.2em;position: relative;}#sk-container-id-2 div.sk-item {position: relative;z-index: 1;}#sk-container-id-2 div.sk-parallel {display: flex;align-items: stretch;justify-content: center;background-color: white;position: relative;}#sk-container-id-2 div.sk-item::before, #sk-container-id-2 div.sk-parallel-item::before {content: \"\";position: absolute;border-left: 1px solid gray;box-sizing: border-box;top: 0;bottom: 0;left: 50%;z-index: -1;}#sk-container-id-2 div.sk-parallel-item {display: flex;flex-direction: column;z-index: 1;position: relative;background-color: white;}#sk-container-id-2 div.sk-parallel-item:first-child::after {align-self: flex-end;width: 50%;}#sk-container-id-2 div.sk-parallel-item:last-child::after {align-self: flex-start;width: 50%;}#sk-container-id-2 div.sk-parallel-item:only-child::after {width: 0;}#sk-container-id-2 div.sk-dashed-wrapped {border: 1px dashed gray;margin: 0 0.4em 0.5em 0.4em;box-sizing: border-box;padding-bottom: 0.4em;background-color: white;}#sk-container-id-2 div.sk-label label {font-family: monospace;font-weight: bold;display: inline-block;line-height: 1.2em;}#sk-container-id-2 div.sk-label-container {text-align: center;}#sk-container-id-2 div.sk-container {/* jupyter's `normalize.less` sets `[hidden] { display: none; }` but bootstrap.min.css set `[hidden] { display: none !important; }` so we also need the `!important` here to be able to override the default hidden behavior on the sphinx rendered scikit-learn.org. See: https://github.com/scikit-learn/scikit-learn/issues/21755 */display: inline-block !important;position: relative;}#sk-container-id-2 div.sk-text-repr-fallback {display: none;}</style><div id=\"sk-container-id-2\" class=\"sk-top-container\"><div class=\"sk-text-repr-fallback\"><pre>VotingClassifier(estimators=[(&#x27;logistic regression&#x27;,\n",
       "                              Pipeline(steps=[(&#x27;columntransformer&#x27;,\n",
       "                                               ColumnTransformer(transformers=[(&#x27;standardscaler&#x27;,\n",
       "                                                                                StandardScaler(),\n",
       "                                                                                [&#x27;age&#x27;,\n",
       "                                                                                 &#x27;capital.gain&#x27;,\n",
       "                                                                                 &#x27;capital.loss&#x27;,\n",
       "                                                                                 &#x27;hours.per.week&#x27;]),\n",
       "                                                                               (&#x27;ordinalencoder&#x27;,\n",
       "                                                                                OrdinalEncoder(categories=[[&#x27;Preschool&#x27;,\n",
       "                                                                                                            &#x27;1st-4th&#x27;,\n",
       "                                                                                                            &#x27;5th-6th&#x27;,\n",
       "                                                                                                            &#x27;7th-8th&#x27;,\n",
       "                                                                                                            &#x27;9th&#x27;,\n",
       "                                                                                                            &#x27;10th&#x27;,\n",
       "                                                                                                            &#x27;11th&#x27;,\n",
       "                                                                                                            &#x27;12th&#x27;,\n",
       "                                                                                                            &#x27;HS-grad&#x27;,\n",
       "                                                                                                            &#x27;Prof-school&#x27;,...\n",
       "                                                                                Pipeline(steps=[(&#x27;simpleimputer&#x27;,\n",
       "                                                                                                 SimpleImputer(fill_value=&#x27;missing&#x27;,\n",
       "                                                                                                               strategy=&#x27;constant&#x27;)),\n",
       "                                                                                                (&#x27;onehotencoder&#x27;,\n",
       "                                                                                                 OneHotEncoder(handle_unknown=&#x27;ignore&#x27;,\n",
       "                                                                                                               sparse_output=False))]),\n",
       "                                                                                [&#x27;workclass&#x27;,\n",
       "                                                                                 &#x27;marital.status&#x27;,\n",
       "                                                                                 &#x27;occupation&#x27;,\n",
       "                                                                                 &#x27;relationship&#x27;,\n",
       "                                                                                 &#x27;native.country&#x27;]),\n",
       "                                                                               (&#x27;drop&#x27;,\n",
       "                                                                                &#x27;drop&#x27;,\n",
       "                                                                                [&#x27;fnlwgt&#x27;,\n",
       "                                                                                 &#x27;race&#x27;,\n",
       "                                                                                 &#x27;education.num&#x27;])])),\n",
       "                                              (&#x27;lgbmclassifier&#x27;,\n",
       "                                               LGBMClassifier(random_state=123,\n",
       "                                                              verbose=-1))]))],\n",
       "                 voting=&#x27;soft&#x27;)</pre><b>In a Jupyter environment, please rerun this cell to show the HTML representation or trust the notebook. <br />On GitHub, the HTML representation is unable to render, please try loading this page with nbviewer.org.</b></div><div class=\"sk-container\" hidden><div class=\"sk-item sk-dashed-wrapped\"><div class=\"sk-label-container\"><div class=\"sk-label sk-toggleable\"><input class=\"sk-toggleable__control sk-hidden--visually\" id=\"sk-estimator-id-14\" type=\"checkbox\" ><label for=\"sk-estimator-id-14\" class=\"sk-toggleable__label sk-toggleable__label-arrow\">VotingClassifier</label><div class=\"sk-toggleable__content\"><pre>VotingClassifier(estimators=[(&#x27;logistic regression&#x27;,\n",
       "                              Pipeline(steps=[(&#x27;columntransformer&#x27;,\n",
       "                                               ColumnTransformer(transformers=[(&#x27;standardscaler&#x27;,\n",
       "                                                                                StandardScaler(),\n",
       "                                                                                [&#x27;age&#x27;,\n",
       "                                                                                 &#x27;capital.gain&#x27;,\n",
       "                                                                                 &#x27;capital.loss&#x27;,\n",
       "                                                                                 &#x27;hours.per.week&#x27;]),\n",
       "                                                                               (&#x27;ordinalencoder&#x27;,\n",
       "                                                                                OrdinalEncoder(categories=[[&#x27;Preschool&#x27;,\n",
       "                                                                                                            &#x27;1st-4th&#x27;,\n",
       "                                                                                                            &#x27;5th-6th&#x27;,\n",
       "                                                                                                            &#x27;7th-8th&#x27;,\n",
       "                                                                                                            &#x27;9th&#x27;,\n",
       "                                                                                                            &#x27;10th&#x27;,\n",
       "                                                                                                            &#x27;11th&#x27;,\n",
       "                                                                                                            &#x27;12th&#x27;,\n",
       "                                                                                                            &#x27;HS-grad&#x27;,\n",
       "                                                                                                            &#x27;Prof-school&#x27;,...\n",
       "                                                                                Pipeline(steps=[(&#x27;simpleimputer&#x27;,\n",
       "                                                                                                 SimpleImputer(fill_value=&#x27;missing&#x27;,\n",
       "                                                                                                               strategy=&#x27;constant&#x27;)),\n",
       "                                                                                                (&#x27;onehotencoder&#x27;,\n",
       "                                                                                                 OneHotEncoder(handle_unknown=&#x27;ignore&#x27;,\n",
       "                                                                                                               sparse_output=False))]),\n",
       "                                                                                [&#x27;workclass&#x27;,\n",
       "                                                                                 &#x27;marital.status&#x27;,\n",
       "                                                                                 &#x27;occupation&#x27;,\n",
       "                                                                                 &#x27;relationship&#x27;,\n",
       "                                                                                 &#x27;native.country&#x27;]),\n",
       "                                                                               (&#x27;drop&#x27;,\n",
       "                                                                                &#x27;drop&#x27;,\n",
       "                                                                                [&#x27;fnlwgt&#x27;,\n",
       "                                                                                 &#x27;race&#x27;,\n",
       "                                                                                 &#x27;education.num&#x27;])])),\n",
       "                                              (&#x27;lgbmclassifier&#x27;,\n",
       "                                               LGBMClassifier(random_state=123,\n",
       "                                                              verbose=-1))]))],\n",
       "                 voting=&#x27;soft&#x27;)</pre></div></div></div><div class=\"sk-parallel\"><div class=\"sk-parallel-item\"><div class=\"sk-item\"><div class=\"sk-label-container\"><div class=\"sk-label sk-toggleable\"><label>logistic regression</label></div></div><div class=\"sk-serial\"><div class=\"sk-item\"><div class=\"sk-serial\"><div class=\"sk-item sk-dashed-wrapped\"><div class=\"sk-label-container\"><div class=\"sk-label sk-toggleable\"><input class=\"sk-toggleable__control sk-hidden--visually\" id=\"sk-estimator-id-15\" type=\"checkbox\" ><label for=\"sk-estimator-id-15\" class=\"sk-toggleable__label sk-toggleable__label-arrow\">columntransformer: ColumnTransformer</label><div class=\"sk-toggleable__content\"><pre>ColumnTransformer(transformers=[(&#x27;standardscaler&#x27;, StandardScaler(),\n",
       "                                 [&#x27;age&#x27;, &#x27;capital.gain&#x27;, &#x27;capital.loss&#x27;,\n",
       "                                  &#x27;hours.per.week&#x27;]),\n",
       "                                (&#x27;ordinalencoder&#x27;,\n",
       "                                 OrdinalEncoder(categories=[[&#x27;Preschool&#x27;,\n",
       "                                                             &#x27;1st-4th&#x27;,\n",
       "                                                             &#x27;5th-6th&#x27;,\n",
       "                                                             &#x27;7th-8th&#x27;, &#x27;9th&#x27;,\n",
       "                                                             &#x27;10th&#x27;, &#x27;11th&#x27;,\n",
       "                                                             &#x27;12th&#x27;, &#x27;HS-grad&#x27;,\n",
       "                                                             &#x27;Prof-school&#x27;,\n",
       "                                                             &#x27;Assoc-voc&#x27;,\n",
       "                                                             &#x27;Assoc-acdm&#x27;,\n",
       "                                                             &#x27;Some-college&#x27;,\n",
       "                                                             &#x27;Bachelors&#x27;,\n",
       "                                                             &#x27;Masters&#x27;,\n",
       "                                                             &#x27;Doctorate&#x27;]],\n",
       "                                                dtype=&lt;class...\n",
       "                                                  OneHotEncoder(drop=&#x27;if_binary&#x27;,\n",
       "                                                                dtype=&lt;class &#x27;int&#x27;&gt;))]),\n",
       "                                 [&#x27;sex&#x27;]),\n",
       "                                (&#x27;pipeline-2&#x27;,\n",
       "                                 Pipeline(steps=[(&#x27;simpleimputer&#x27;,\n",
       "                                                  SimpleImputer(fill_value=&#x27;missing&#x27;,\n",
       "                                                                strategy=&#x27;constant&#x27;)),\n",
       "                                                 (&#x27;onehotencoder&#x27;,\n",
       "                                                  OneHotEncoder(handle_unknown=&#x27;ignore&#x27;,\n",
       "                                                                sparse_output=False))]),\n",
       "                                 [&#x27;workclass&#x27;, &#x27;marital.status&#x27;, &#x27;occupation&#x27;,\n",
       "                                  &#x27;relationship&#x27;, &#x27;native.country&#x27;]),\n",
       "                                (&#x27;drop&#x27;, &#x27;drop&#x27;,\n",
       "                                 [&#x27;fnlwgt&#x27;, &#x27;race&#x27;, &#x27;education.num&#x27;])])</pre></div></div></div><div class=\"sk-parallel\"><div class=\"sk-parallel-item\"><div class=\"sk-item\"><div class=\"sk-label-container\"><div class=\"sk-label sk-toggleable\"><input class=\"sk-toggleable__control sk-hidden--visually\" id=\"sk-estimator-id-16\" type=\"checkbox\" ><label for=\"sk-estimator-id-16\" class=\"sk-toggleable__label sk-toggleable__label-arrow\">standardscaler</label><div class=\"sk-toggleable__content\"><pre>[&#x27;age&#x27;, &#x27;capital.gain&#x27;, &#x27;capital.loss&#x27;, &#x27;hours.per.week&#x27;]</pre></div></div></div><div class=\"sk-serial\"><div class=\"sk-item\"><div class=\"sk-estimator sk-toggleable\"><input class=\"sk-toggleable__control sk-hidden--visually\" id=\"sk-estimator-id-17\" type=\"checkbox\" ><label for=\"sk-estimator-id-17\" class=\"sk-toggleable__label sk-toggleable__label-arrow\">StandardScaler</label><div class=\"sk-toggleable__content\"><pre>StandardScaler()</pre></div></div></div></div></div></div><div class=\"sk-parallel-item\"><div class=\"sk-item\"><div class=\"sk-label-container\"><div class=\"sk-label sk-toggleable\"><input class=\"sk-toggleable__control sk-hidden--visually\" id=\"sk-estimator-id-18\" type=\"checkbox\" ><label for=\"sk-estimator-id-18\" class=\"sk-toggleable__label sk-toggleable__label-arrow\">ordinalencoder</label><div class=\"sk-toggleable__content\"><pre>[&#x27;education&#x27;]</pre></div></div></div><div class=\"sk-serial\"><div class=\"sk-item\"><div class=\"sk-estimator sk-toggleable\"><input class=\"sk-toggleable__control sk-hidden--visually\" id=\"sk-estimator-id-19\" type=\"checkbox\" ><label for=\"sk-estimator-id-19\" class=\"sk-toggleable__label sk-toggleable__label-arrow\">OrdinalEncoder</label><div class=\"sk-toggleable__content\"><pre>OrdinalEncoder(categories=[[&#x27;Preschool&#x27;, &#x27;1st-4th&#x27;, &#x27;5th-6th&#x27;, &#x27;7th-8th&#x27;, &#x27;9th&#x27;,\n",
       "                            &#x27;10th&#x27;, &#x27;11th&#x27;, &#x27;12th&#x27;, &#x27;HS-grad&#x27;, &#x27;Prof-school&#x27;,\n",
       "                            &#x27;Assoc-voc&#x27;, &#x27;Assoc-acdm&#x27;, &#x27;Some-college&#x27;,\n",
       "                            &#x27;Bachelors&#x27;, &#x27;Masters&#x27;, &#x27;Doctorate&#x27;]],\n",
       "               dtype=&lt;class &#x27;int&#x27;&gt;)</pre></div></div></div></div></div></div><div class=\"sk-parallel-item\"><div class=\"sk-item\"><div class=\"sk-label-container\"><div class=\"sk-label sk-toggleable\"><input class=\"sk-toggleable__control sk-hidden--visually\" id=\"sk-estimator-id-20\" type=\"checkbox\" ><label for=\"sk-estimator-id-20\" class=\"sk-toggleable__label sk-toggleable__label-arrow\">pipeline-1</label><div class=\"sk-toggleable__content\"><pre>[&#x27;sex&#x27;]</pre></div></div></div><div class=\"sk-serial\"><div class=\"sk-item\"><div class=\"sk-serial\"><div class=\"sk-item\"><div class=\"sk-estimator sk-toggleable\"><input class=\"sk-toggleable__control sk-hidden--visually\" id=\"sk-estimator-id-21\" type=\"checkbox\" ><label for=\"sk-estimator-id-21\" class=\"sk-toggleable__label sk-toggleable__label-arrow\">SimpleImputer</label><div class=\"sk-toggleable__content\"><pre>SimpleImputer(fill_value=&#x27;missing&#x27;, strategy=&#x27;constant&#x27;)</pre></div></div></div><div class=\"sk-item\"><div class=\"sk-estimator sk-toggleable\"><input class=\"sk-toggleable__control sk-hidden--visually\" id=\"sk-estimator-id-22\" type=\"checkbox\" ><label for=\"sk-estimator-id-22\" class=\"sk-toggleable__label sk-toggleable__label-arrow\">OneHotEncoder</label><div class=\"sk-toggleable__content\"><pre>OneHotEncoder(drop=&#x27;if_binary&#x27;, dtype=&lt;class &#x27;int&#x27;&gt;)</pre></div></div></div></div></div></div></div></div><div class=\"sk-parallel-item\"><div class=\"sk-item\"><div class=\"sk-label-container\"><div class=\"sk-label sk-toggleable\"><input class=\"sk-toggleable__control sk-hidden--visually\" id=\"sk-estimator-id-23\" type=\"checkbox\" ><label for=\"sk-estimator-id-23\" class=\"sk-toggleable__label sk-toggleable__label-arrow\">pipeline-2</label><div class=\"sk-toggleable__content\"><pre>[&#x27;workclass&#x27;, &#x27;marital.status&#x27;, &#x27;occupation&#x27;, &#x27;relationship&#x27;, &#x27;native.country&#x27;]</pre></div></div></div><div class=\"sk-serial\"><div class=\"sk-item\"><div class=\"sk-serial\"><div class=\"sk-item\"><div class=\"sk-estimator sk-toggleable\"><input class=\"sk-toggleable__control sk-hidden--visually\" id=\"sk-estimator-id-24\" type=\"checkbox\" ><label for=\"sk-estimator-id-24\" class=\"sk-toggleable__label sk-toggleable__label-arrow\">SimpleImputer</label><div class=\"sk-toggleable__content\"><pre>SimpleImputer(fill_value=&#x27;missing&#x27;, strategy=&#x27;constant&#x27;)</pre></div></div></div><div class=\"sk-item\"><div class=\"sk-estimator sk-toggleable\"><input class=\"sk-toggleable__control sk-hidden--visually\" id=\"sk-estimator-id-25\" type=\"checkbox\" ><label for=\"sk-estimator-id-25\" class=\"sk-toggleable__label sk-toggleable__label-arrow\">OneHotEncoder</label><div class=\"sk-toggleable__content\"><pre>OneHotEncoder(handle_unknown=&#x27;ignore&#x27;, sparse_output=False)</pre></div></div></div></div></div></div></div></div><div class=\"sk-parallel-item\"><div class=\"sk-item\"><div class=\"sk-label-container\"><div class=\"sk-label sk-toggleable\"><input class=\"sk-toggleable__control sk-hidden--visually\" id=\"sk-estimator-id-26\" type=\"checkbox\" ><label for=\"sk-estimator-id-26\" class=\"sk-toggleable__label sk-toggleable__label-arrow\">drop</label><div class=\"sk-toggleable__content\"><pre>[&#x27;fnlwgt&#x27;, &#x27;race&#x27;, &#x27;education.num&#x27;]</pre></div></div></div><div class=\"sk-serial\"><div class=\"sk-item\"><div class=\"sk-estimator sk-toggleable\"><input class=\"sk-toggleable__control sk-hidden--visually\" id=\"sk-estimator-id-27\" type=\"checkbox\" ><label for=\"sk-estimator-id-27\" class=\"sk-toggleable__label sk-toggleable__label-arrow\">drop</label><div class=\"sk-toggleable__content\"><pre>drop</pre></div></div></div></div></div></div></div></div><div class=\"sk-item\"><div class=\"sk-estimator sk-toggleable\"><input class=\"sk-toggleable__control sk-hidden--visually\" id=\"sk-estimator-id-28\" type=\"checkbox\" ><label for=\"sk-estimator-id-28\" class=\"sk-toggleable__label sk-toggleable__label-arrow\">LogisticRegression</label><div class=\"sk-toggleable__content\"><pre>LogisticRegression(max_iter=2000, random_state=123)</pre></div></div></div></div></div></div></div></div><div class=\"sk-parallel-item\"><div class=\"sk-item\"><div class=\"sk-label-container\"><div class=\"sk-label sk-toggleable\"><label>decision tree</label></div></div><div class=\"sk-serial\"><div class=\"sk-item\"><div class=\"sk-serial\"><div class=\"sk-item sk-dashed-wrapped\"><div class=\"sk-label-container\"><div class=\"sk-label sk-toggleable\"><input class=\"sk-toggleable__control sk-hidden--visually\" id=\"sk-estimator-id-29\" type=\"checkbox\" ><label for=\"sk-estimator-id-29\" class=\"sk-toggleable__label sk-toggleable__label-arrow\">columntransformer: ColumnTransformer</label><div class=\"sk-toggleable__content\"><pre>ColumnTransformer(transformers=[(&#x27;standardscaler&#x27;, StandardScaler(),\n",
       "                                 [&#x27;age&#x27;, &#x27;capital.gain&#x27;, &#x27;capital.loss&#x27;,\n",
       "                                  &#x27;hours.per.week&#x27;]),\n",
       "                                (&#x27;ordinalencoder&#x27;,\n",
       "                                 OrdinalEncoder(categories=[[&#x27;Preschool&#x27;,\n",
       "                                                             &#x27;1st-4th&#x27;,\n",
       "                                                             &#x27;5th-6th&#x27;,\n",
       "                                                             &#x27;7th-8th&#x27;, &#x27;9th&#x27;,\n",
       "                                                             &#x27;10th&#x27;, &#x27;11th&#x27;,\n",
       "                                                             &#x27;12th&#x27;, &#x27;HS-grad&#x27;,\n",
       "                                                             &#x27;Prof-school&#x27;,\n",
       "                                                             &#x27;Assoc-voc&#x27;,\n",
       "                                                             &#x27;Assoc-acdm&#x27;,\n",
       "                                                             &#x27;Some-college&#x27;,\n",
       "                                                             &#x27;Bachelors&#x27;,\n",
       "                                                             &#x27;Masters&#x27;,\n",
       "                                                             &#x27;Doctorate&#x27;]],\n",
       "                                                dtype=&lt;class...\n",
       "                                                  OneHotEncoder(drop=&#x27;if_binary&#x27;,\n",
       "                                                                dtype=&lt;class &#x27;int&#x27;&gt;))]),\n",
       "                                 [&#x27;sex&#x27;]),\n",
       "                                (&#x27;pipeline-2&#x27;,\n",
       "                                 Pipeline(steps=[(&#x27;simpleimputer&#x27;,\n",
       "                                                  SimpleImputer(fill_value=&#x27;missing&#x27;,\n",
       "                                                                strategy=&#x27;constant&#x27;)),\n",
       "                                                 (&#x27;onehotencoder&#x27;,\n",
       "                                                  OneHotEncoder(handle_unknown=&#x27;ignore&#x27;,\n",
       "                                                                sparse_output=False))]),\n",
       "                                 [&#x27;workclass&#x27;, &#x27;marital.status&#x27;, &#x27;occupation&#x27;,\n",
       "                                  &#x27;relationship&#x27;, &#x27;native.country&#x27;]),\n",
       "                                (&#x27;drop&#x27;, &#x27;drop&#x27;,\n",
       "                                 [&#x27;fnlwgt&#x27;, &#x27;race&#x27;, &#x27;education.num&#x27;])])</pre></div></div></div><div class=\"sk-parallel\"><div class=\"sk-parallel-item\"><div class=\"sk-item\"><div class=\"sk-label-container\"><div class=\"sk-label sk-toggleable\"><input class=\"sk-toggleable__control sk-hidden--visually\" id=\"sk-estimator-id-30\" type=\"checkbox\" ><label for=\"sk-estimator-id-30\" class=\"sk-toggleable__label sk-toggleable__label-arrow\">standardscaler</label><div class=\"sk-toggleable__content\"><pre>[&#x27;age&#x27;, &#x27;capital.gain&#x27;, &#x27;capital.loss&#x27;, &#x27;hours.per.week&#x27;]</pre></div></div></div><div class=\"sk-serial\"><div class=\"sk-item\"><div class=\"sk-estimator sk-toggleable\"><input class=\"sk-toggleable__control sk-hidden--visually\" id=\"sk-estimator-id-31\" type=\"checkbox\" ><label for=\"sk-estimator-id-31\" class=\"sk-toggleable__label sk-toggleable__label-arrow\">StandardScaler</label><div class=\"sk-toggleable__content\"><pre>StandardScaler()</pre></div></div></div></div></div></div><div class=\"sk-parallel-item\"><div class=\"sk-item\"><div class=\"sk-label-container\"><div class=\"sk-label sk-toggleable\"><input class=\"sk-toggleable__control sk-hidden--visually\" id=\"sk-estimator-id-32\" type=\"checkbox\" ><label for=\"sk-estimator-id-32\" class=\"sk-toggleable__label sk-toggleable__label-arrow\">ordinalencoder</label><div class=\"sk-toggleable__content\"><pre>[&#x27;education&#x27;]</pre></div></div></div><div class=\"sk-serial\"><div class=\"sk-item\"><div class=\"sk-estimator sk-toggleable\"><input class=\"sk-toggleable__control sk-hidden--visually\" id=\"sk-estimator-id-33\" type=\"checkbox\" ><label for=\"sk-estimator-id-33\" class=\"sk-toggleable__label sk-toggleable__label-arrow\">OrdinalEncoder</label><div class=\"sk-toggleable__content\"><pre>OrdinalEncoder(categories=[[&#x27;Preschool&#x27;, &#x27;1st-4th&#x27;, &#x27;5th-6th&#x27;, &#x27;7th-8th&#x27;, &#x27;9th&#x27;,\n",
       "                            &#x27;10th&#x27;, &#x27;11th&#x27;, &#x27;12th&#x27;, &#x27;HS-grad&#x27;, &#x27;Prof-school&#x27;,\n",
       "                            &#x27;Assoc-voc&#x27;, &#x27;Assoc-acdm&#x27;, &#x27;Some-college&#x27;,\n",
       "                            &#x27;Bachelors&#x27;, &#x27;Masters&#x27;, &#x27;Doctorate&#x27;]],\n",
       "               dtype=&lt;class &#x27;int&#x27;&gt;)</pre></div></div></div></div></div></div><div class=\"sk-parallel-item\"><div class=\"sk-item\"><div class=\"sk-label-container\"><div class=\"sk-label sk-toggleable\"><input class=\"sk-toggleable__control sk-hidden--visually\" id=\"sk-estimator-id-34\" type=\"checkbox\" ><label for=\"sk-estimator-id-34\" class=\"sk-toggleable__label sk-toggleable__label-arrow\">pipeline-1</label><div class=\"sk-toggleable__content\"><pre>[&#x27;sex&#x27;]</pre></div></div></div><div class=\"sk-serial\"><div class=\"sk-item\"><div class=\"sk-serial\"><div class=\"sk-item\"><div class=\"sk-estimator sk-toggleable\"><input class=\"sk-toggleable__control sk-hidden--visually\" id=\"sk-estimator-id-35\" type=\"checkbox\" ><label for=\"sk-estimator-id-35\" class=\"sk-toggleable__label sk-toggleable__label-arrow\">SimpleImputer</label><div class=\"sk-toggleable__content\"><pre>SimpleImputer(fill_value=&#x27;missing&#x27;, strategy=&#x27;constant&#x27;)</pre></div></div></div><div class=\"sk-item\"><div class=\"sk-estimator sk-toggleable\"><input class=\"sk-toggleable__control sk-hidden--visually\" id=\"sk-estimator-id-36\" type=\"checkbox\" ><label for=\"sk-estimator-id-36\" class=\"sk-toggleable__label sk-toggleable__label-arrow\">OneHotEncoder</label><div class=\"sk-toggleable__content\"><pre>OneHotEncoder(drop=&#x27;if_binary&#x27;, dtype=&lt;class &#x27;int&#x27;&gt;)</pre></div></div></div></div></div></div></div></div><div class=\"sk-parallel-item\"><div class=\"sk-item\"><div class=\"sk-label-container\"><div class=\"sk-label sk-toggleable\"><input class=\"sk-toggleable__control sk-hidden--visually\" id=\"sk-estimator-id-37\" type=\"checkbox\" ><label for=\"sk-estimator-id-37\" class=\"sk-toggleable__label sk-toggleable__label-arrow\">pipeline-2</label><div class=\"sk-toggleable__content\"><pre>[&#x27;workclass&#x27;, &#x27;marital.status&#x27;, &#x27;occupation&#x27;, &#x27;relationship&#x27;, &#x27;native.country&#x27;]</pre></div></div></div><div class=\"sk-serial\"><div class=\"sk-item\"><div class=\"sk-serial\"><div class=\"sk-item\"><div class=\"sk-estimator sk-toggleable\"><input class=\"sk-toggleable__control sk-hidden--visually\" id=\"sk-estimator-id-38\" type=\"checkbox\" ><label for=\"sk-estimator-id-38\" class=\"sk-toggleable__label sk-toggleable__label-arrow\">SimpleImputer</label><div class=\"sk-toggleable__content\"><pre>SimpleImputer(fill_value=&#x27;missing&#x27;, strategy=&#x27;constant&#x27;)</pre></div></div></div><div class=\"sk-item\"><div class=\"sk-estimator sk-toggleable\"><input class=\"sk-toggleable__control sk-hidden--visually\" id=\"sk-estimator-id-39\" type=\"checkbox\" ><label for=\"sk-estimator-id-39\" class=\"sk-toggleable__label sk-toggleable__label-arrow\">OneHotEncoder</label><div class=\"sk-toggleable__content\"><pre>OneHotEncoder(handle_unknown=&#x27;ignore&#x27;, sparse_output=False)</pre></div></div></div></div></div></div></div></div><div class=\"sk-parallel-item\"><div class=\"sk-item\"><div class=\"sk-label-container\"><div class=\"sk-label sk-toggleable\"><input class=\"sk-toggleable__control sk-hidden--visually\" id=\"sk-estimator-id-40\" type=\"checkbox\" ><label for=\"sk-estimator-id-40\" class=\"sk-toggleable__label sk-toggleable__label-arrow\">drop</label><div class=\"sk-toggleable__content\"><pre>[&#x27;fnlwgt&#x27;, &#x27;race&#x27;, &#x27;education.num&#x27;]</pre></div></div></div><div class=\"sk-serial\"><div class=\"sk-item\"><div class=\"sk-estimator sk-toggleable\"><input class=\"sk-toggleable__control sk-hidden--visually\" id=\"sk-estimator-id-41\" type=\"checkbox\" ><label for=\"sk-estimator-id-41\" class=\"sk-toggleable__label sk-toggleable__label-arrow\">drop</label><div class=\"sk-toggleable__content\"><pre>drop</pre></div></div></div></div></div></div></div></div><div class=\"sk-item\"><div class=\"sk-estimator sk-toggleable\"><input class=\"sk-toggleable__control sk-hidden--visually\" id=\"sk-estimator-id-42\" type=\"checkbox\" ><label for=\"sk-estimator-id-42\" class=\"sk-toggleable__label sk-toggleable__label-arrow\">DecisionTreeClassifier</label><div class=\"sk-toggleable__content\"><pre>DecisionTreeClassifier(random_state=123)</pre></div></div></div></div></div></div></div></div><div class=\"sk-parallel-item\"><div class=\"sk-item\"><div class=\"sk-label-container\"><div class=\"sk-label sk-toggleable\"><label>random forest</label></div></div><div class=\"sk-serial\"><div class=\"sk-item\"><div class=\"sk-serial\"><div class=\"sk-item sk-dashed-wrapped\"><div class=\"sk-label-container\"><div class=\"sk-label sk-toggleable\"><input class=\"sk-toggleable__control sk-hidden--visually\" id=\"sk-estimator-id-43\" type=\"checkbox\" ><label for=\"sk-estimator-id-43\" class=\"sk-toggleable__label sk-toggleable__label-arrow\">columntransformer: ColumnTransformer</label><div class=\"sk-toggleable__content\"><pre>ColumnTransformer(transformers=[(&#x27;standardscaler&#x27;, StandardScaler(),\n",
       "                                 [&#x27;age&#x27;, &#x27;capital.gain&#x27;, &#x27;capital.loss&#x27;,\n",
       "                                  &#x27;hours.per.week&#x27;]),\n",
       "                                (&#x27;ordinalencoder&#x27;,\n",
       "                                 OrdinalEncoder(categories=[[&#x27;Preschool&#x27;,\n",
       "                                                             &#x27;1st-4th&#x27;,\n",
       "                                                             &#x27;5th-6th&#x27;,\n",
       "                                                             &#x27;7th-8th&#x27;, &#x27;9th&#x27;,\n",
       "                                                             &#x27;10th&#x27;, &#x27;11th&#x27;,\n",
       "                                                             &#x27;12th&#x27;, &#x27;HS-grad&#x27;,\n",
       "                                                             &#x27;Prof-school&#x27;,\n",
       "                                                             &#x27;Assoc-voc&#x27;,\n",
       "                                                             &#x27;Assoc-acdm&#x27;,\n",
       "                                                             &#x27;Some-college&#x27;,\n",
       "                                                             &#x27;Bachelors&#x27;,\n",
       "                                                             &#x27;Masters&#x27;,\n",
       "                                                             &#x27;Doctorate&#x27;]],\n",
       "                                                dtype=&lt;class...\n",
       "                                                  OneHotEncoder(drop=&#x27;if_binary&#x27;,\n",
       "                                                                dtype=&lt;class &#x27;int&#x27;&gt;))]),\n",
       "                                 [&#x27;sex&#x27;]),\n",
       "                                (&#x27;pipeline-2&#x27;,\n",
       "                                 Pipeline(steps=[(&#x27;simpleimputer&#x27;,\n",
       "                                                  SimpleImputer(fill_value=&#x27;missing&#x27;,\n",
       "                                                                strategy=&#x27;constant&#x27;)),\n",
       "                                                 (&#x27;onehotencoder&#x27;,\n",
       "                                                  OneHotEncoder(handle_unknown=&#x27;ignore&#x27;,\n",
       "                                                                sparse_output=False))]),\n",
       "                                 [&#x27;workclass&#x27;, &#x27;marital.status&#x27;, &#x27;occupation&#x27;,\n",
       "                                  &#x27;relationship&#x27;, &#x27;native.country&#x27;]),\n",
       "                                (&#x27;drop&#x27;, &#x27;drop&#x27;,\n",
       "                                 [&#x27;fnlwgt&#x27;, &#x27;race&#x27;, &#x27;education.num&#x27;])])</pre></div></div></div><div class=\"sk-parallel\"><div class=\"sk-parallel-item\"><div class=\"sk-item\"><div class=\"sk-label-container\"><div class=\"sk-label sk-toggleable\"><input class=\"sk-toggleable__control sk-hidden--visually\" id=\"sk-estimator-id-44\" type=\"checkbox\" ><label for=\"sk-estimator-id-44\" class=\"sk-toggleable__label sk-toggleable__label-arrow\">standardscaler</label><div class=\"sk-toggleable__content\"><pre>[&#x27;age&#x27;, &#x27;capital.gain&#x27;, &#x27;capital.loss&#x27;, &#x27;hours.per.week&#x27;]</pre></div></div></div><div class=\"sk-serial\"><div class=\"sk-item\"><div class=\"sk-estimator sk-toggleable\"><input class=\"sk-toggleable__control sk-hidden--visually\" id=\"sk-estimator-id-45\" type=\"checkbox\" ><label for=\"sk-estimator-id-45\" class=\"sk-toggleable__label sk-toggleable__label-arrow\">StandardScaler</label><div class=\"sk-toggleable__content\"><pre>StandardScaler()</pre></div></div></div></div></div></div><div class=\"sk-parallel-item\"><div class=\"sk-item\"><div class=\"sk-label-container\"><div class=\"sk-label sk-toggleable\"><input class=\"sk-toggleable__control sk-hidden--visually\" id=\"sk-estimator-id-46\" type=\"checkbox\" ><label for=\"sk-estimator-id-46\" class=\"sk-toggleable__label sk-toggleable__label-arrow\">ordinalencoder</label><div class=\"sk-toggleable__content\"><pre>[&#x27;education&#x27;]</pre></div></div></div><div class=\"sk-serial\"><div class=\"sk-item\"><div class=\"sk-estimator sk-toggleable\"><input class=\"sk-toggleable__control sk-hidden--visually\" id=\"sk-estimator-id-47\" type=\"checkbox\" ><label for=\"sk-estimator-id-47\" class=\"sk-toggleable__label sk-toggleable__label-arrow\">OrdinalEncoder</label><div class=\"sk-toggleable__content\"><pre>OrdinalEncoder(categories=[[&#x27;Preschool&#x27;, &#x27;1st-4th&#x27;, &#x27;5th-6th&#x27;, &#x27;7th-8th&#x27;, &#x27;9th&#x27;,\n",
       "                            &#x27;10th&#x27;, &#x27;11th&#x27;, &#x27;12th&#x27;, &#x27;HS-grad&#x27;, &#x27;Prof-school&#x27;,\n",
       "                            &#x27;Assoc-voc&#x27;, &#x27;Assoc-acdm&#x27;, &#x27;Some-college&#x27;,\n",
       "                            &#x27;Bachelors&#x27;, &#x27;Masters&#x27;, &#x27;Doctorate&#x27;]],\n",
       "               dtype=&lt;class &#x27;int&#x27;&gt;)</pre></div></div></div></div></div></div><div class=\"sk-parallel-item\"><div class=\"sk-item\"><div class=\"sk-label-container\"><div class=\"sk-label sk-toggleable\"><input class=\"sk-toggleable__control sk-hidden--visually\" id=\"sk-estimator-id-48\" type=\"checkbox\" ><label for=\"sk-estimator-id-48\" class=\"sk-toggleable__label sk-toggleable__label-arrow\">pipeline-1</label><div class=\"sk-toggleable__content\"><pre>[&#x27;sex&#x27;]</pre></div></div></div><div class=\"sk-serial\"><div class=\"sk-item\"><div class=\"sk-serial\"><div class=\"sk-item\"><div class=\"sk-estimator sk-toggleable\"><input class=\"sk-toggleable__control sk-hidden--visually\" id=\"sk-estimator-id-49\" type=\"checkbox\" ><label for=\"sk-estimator-id-49\" class=\"sk-toggleable__label sk-toggleable__label-arrow\">SimpleImputer</label><div class=\"sk-toggleable__content\"><pre>SimpleImputer(fill_value=&#x27;missing&#x27;, strategy=&#x27;constant&#x27;)</pre></div></div></div><div class=\"sk-item\"><div class=\"sk-estimator sk-toggleable\"><input class=\"sk-toggleable__control sk-hidden--visually\" id=\"sk-estimator-id-50\" type=\"checkbox\" ><label for=\"sk-estimator-id-50\" class=\"sk-toggleable__label sk-toggleable__label-arrow\">OneHotEncoder</label><div class=\"sk-toggleable__content\"><pre>OneHotEncoder(drop=&#x27;if_binary&#x27;, dtype=&lt;class &#x27;int&#x27;&gt;)</pre></div></div></div></div></div></div></div></div><div class=\"sk-parallel-item\"><div class=\"sk-item\"><div class=\"sk-label-container\"><div class=\"sk-label sk-toggleable\"><input class=\"sk-toggleable__control sk-hidden--visually\" id=\"sk-estimator-id-51\" type=\"checkbox\" ><label for=\"sk-estimator-id-51\" class=\"sk-toggleable__label sk-toggleable__label-arrow\">pipeline-2</label><div class=\"sk-toggleable__content\"><pre>[&#x27;workclass&#x27;, &#x27;marital.status&#x27;, &#x27;occupation&#x27;, &#x27;relationship&#x27;, &#x27;native.country&#x27;]</pre></div></div></div><div class=\"sk-serial\"><div class=\"sk-item\"><div class=\"sk-serial\"><div class=\"sk-item\"><div class=\"sk-estimator sk-toggleable\"><input class=\"sk-toggleable__control sk-hidden--visually\" id=\"sk-estimator-id-52\" type=\"checkbox\" ><label for=\"sk-estimator-id-52\" class=\"sk-toggleable__label sk-toggleable__label-arrow\">SimpleImputer</label><div class=\"sk-toggleable__content\"><pre>SimpleImputer(fill_value=&#x27;missing&#x27;, strategy=&#x27;constant&#x27;)</pre></div></div></div><div class=\"sk-item\"><div class=\"sk-estimator sk-toggleable\"><input class=\"sk-toggleable__control sk-hidden--visually\" id=\"sk-estimator-id-53\" type=\"checkbox\" ><label for=\"sk-estimator-id-53\" class=\"sk-toggleable__label sk-toggleable__label-arrow\">OneHotEncoder</label><div class=\"sk-toggleable__content\"><pre>OneHotEncoder(handle_unknown=&#x27;ignore&#x27;, sparse_output=False)</pre></div></div></div></div></div></div></div></div><div class=\"sk-parallel-item\"><div class=\"sk-item\"><div class=\"sk-label-container\"><div class=\"sk-label sk-toggleable\"><input class=\"sk-toggleable__control sk-hidden--visually\" id=\"sk-estimator-id-54\" type=\"checkbox\" ><label for=\"sk-estimator-id-54\" class=\"sk-toggleable__label sk-toggleable__label-arrow\">drop</label><div class=\"sk-toggleable__content\"><pre>[&#x27;fnlwgt&#x27;, &#x27;race&#x27;, &#x27;education.num&#x27;]</pre></div></div></div><div class=\"sk-serial\"><div class=\"sk-item\"><div class=\"sk-estimator sk-toggleable\"><input class=\"sk-toggleable__control sk-hidden--visually\" id=\"sk-estimator-id-55\" type=\"checkbox\" ><label for=\"sk-estimator-id-55\" class=\"sk-toggleable__label sk-toggleable__label-arrow\">drop</label><div class=\"sk-toggleable__content\"><pre>drop</pre></div></div></div></div></div></div></div></div><div class=\"sk-item\"><div class=\"sk-estimator sk-toggleable\"><input class=\"sk-toggleable__control sk-hidden--visually\" id=\"sk-estimator-id-56\" type=\"checkbox\" ><label for=\"sk-estimator-id-56\" class=\"sk-toggleable__label sk-toggleable__label-arrow\">RandomForestClassifier</label><div class=\"sk-toggleable__content\"><pre>RandomForestClassifier(class_weight=&#x27;balanced&#x27;, random_state=123)</pre></div></div></div></div></div></div></div></div><div class=\"sk-parallel-item\"><div class=\"sk-item\"><div class=\"sk-label-container\"><div class=\"sk-label sk-toggleable\"><label>XGBoost</label></div></div><div class=\"sk-serial\"><div class=\"sk-item\"><div class=\"sk-serial\"><div class=\"sk-item sk-dashed-wrapped\"><div class=\"sk-label-container\"><div class=\"sk-label sk-toggleable\"><input class=\"sk-toggleable__control sk-hidden--visually\" id=\"sk-estimator-id-57\" type=\"checkbox\" ><label for=\"sk-estimator-id-57\" class=\"sk-toggleable__label sk-toggleable__label-arrow\">columntransformer: ColumnTransformer</label><div class=\"sk-toggleable__content\"><pre>ColumnTransformer(transformers=[(&#x27;standardscaler&#x27;, StandardScaler(),\n",
       "                                 [&#x27;age&#x27;, &#x27;capital.gain&#x27;, &#x27;capital.loss&#x27;,\n",
       "                                  &#x27;hours.per.week&#x27;]),\n",
       "                                (&#x27;ordinalencoder&#x27;,\n",
       "                                 OrdinalEncoder(categories=[[&#x27;Preschool&#x27;,\n",
       "                                                             &#x27;1st-4th&#x27;,\n",
       "                                                             &#x27;5th-6th&#x27;,\n",
       "                                                             &#x27;7th-8th&#x27;, &#x27;9th&#x27;,\n",
       "                                                             &#x27;10th&#x27;, &#x27;11th&#x27;,\n",
       "                                                             &#x27;12th&#x27;, &#x27;HS-grad&#x27;,\n",
       "                                                             &#x27;Prof-school&#x27;,\n",
       "                                                             &#x27;Assoc-voc&#x27;,\n",
       "                                                             &#x27;Assoc-acdm&#x27;,\n",
       "                                                             &#x27;Some-college&#x27;,\n",
       "                                                             &#x27;Bachelors&#x27;,\n",
       "                                                             &#x27;Masters&#x27;,\n",
       "                                                             &#x27;Doctorate&#x27;]],\n",
       "                                                dtype=&lt;class...\n",
       "                                                  OneHotEncoder(drop=&#x27;if_binary&#x27;,\n",
       "                                                                dtype=&lt;class &#x27;int&#x27;&gt;))]),\n",
       "                                 [&#x27;sex&#x27;]),\n",
       "                                (&#x27;pipeline-2&#x27;,\n",
       "                                 Pipeline(steps=[(&#x27;simpleimputer&#x27;,\n",
       "                                                  SimpleImputer(fill_value=&#x27;missing&#x27;,\n",
       "                                                                strategy=&#x27;constant&#x27;)),\n",
       "                                                 (&#x27;onehotencoder&#x27;,\n",
       "                                                  OneHotEncoder(handle_unknown=&#x27;ignore&#x27;,\n",
       "                                                                sparse_output=False))]),\n",
       "                                 [&#x27;workclass&#x27;, &#x27;marital.status&#x27;, &#x27;occupation&#x27;,\n",
       "                                  &#x27;relationship&#x27;, &#x27;native.country&#x27;]),\n",
       "                                (&#x27;drop&#x27;, &#x27;drop&#x27;,\n",
       "                                 [&#x27;fnlwgt&#x27;, &#x27;race&#x27;, &#x27;education.num&#x27;])])</pre></div></div></div><div class=\"sk-parallel\"><div class=\"sk-parallel-item\"><div class=\"sk-item\"><div class=\"sk-label-container\"><div class=\"sk-label sk-toggleable\"><input class=\"sk-toggleable__control sk-hidden--visually\" id=\"sk-estimator-id-58\" type=\"checkbox\" ><label for=\"sk-estimator-id-58\" class=\"sk-toggleable__label sk-toggleable__label-arrow\">standardscaler</label><div class=\"sk-toggleable__content\"><pre>[&#x27;age&#x27;, &#x27;capital.gain&#x27;, &#x27;capital.loss&#x27;, &#x27;hours.per.week&#x27;]</pre></div></div></div><div class=\"sk-serial\"><div class=\"sk-item\"><div class=\"sk-estimator sk-toggleable\"><input class=\"sk-toggleable__control sk-hidden--visually\" id=\"sk-estimator-id-59\" type=\"checkbox\" ><label for=\"sk-estimator-id-59\" class=\"sk-toggleable__label sk-toggleable__label-arrow\">StandardScaler</label><div class=\"sk-toggleable__content\"><pre>StandardScaler()</pre></div></div></div></div></div></div><div class=\"sk-parallel-item\"><div class=\"sk-item\"><div class=\"sk-label-container\"><div class=\"sk-label sk-toggleable\"><input class=\"sk-toggleable__control sk-hidden--visually\" id=\"sk-estimator-id-60\" type=\"checkbox\" ><label for=\"sk-estimator-id-60\" class=\"sk-toggleable__label sk-toggleable__label-arrow\">ordinalencoder</label><div class=\"sk-toggleable__content\"><pre>[&#x27;education&#x27;]</pre></div></div></div><div class=\"sk-serial\"><div class=\"sk-item\"><div class=\"sk-estimator sk-toggleable\"><input class=\"sk-toggleable__control sk-hidden--visually\" id=\"sk-estimator-id-61\" type=\"checkbox\" ><label for=\"sk-estimator-id-61\" class=\"sk-toggleable__label sk-toggleable__label-arrow\">OrdinalEncoder</label><div class=\"sk-toggleable__content\"><pre>OrdinalEncoder(categories=[[&#x27;Preschool&#x27;, &#x27;1st-4th&#x27;, &#x27;5th-6th&#x27;, &#x27;7th-8th&#x27;, &#x27;9th&#x27;,\n",
       "                            &#x27;10th&#x27;, &#x27;11th&#x27;, &#x27;12th&#x27;, &#x27;HS-grad&#x27;, &#x27;Prof-school&#x27;,\n",
       "                            &#x27;Assoc-voc&#x27;, &#x27;Assoc-acdm&#x27;, &#x27;Some-college&#x27;,\n",
       "                            &#x27;Bachelors&#x27;, &#x27;Masters&#x27;, &#x27;Doctorate&#x27;]],\n",
       "               dtype=&lt;class &#x27;int&#x27;&gt;)</pre></div></div></div></div></div></div><div class=\"sk-parallel-item\"><div class=\"sk-item\"><div class=\"sk-label-container\"><div class=\"sk-label sk-toggleable\"><input class=\"sk-toggleable__control sk-hidden--visually\" id=\"sk-estimator-id-62\" type=\"checkbox\" ><label for=\"sk-estimator-id-62\" class=\"sk-toggleable__label sk-toggleable__label-arrow\">pipeline-1</label><div class=\"sk-toggleable__content\"><pre>[&#x27;sex&#x27;]</pre></div></div></div><div class=\"sk-serial\"><div class=\"sk-item\"><div class=\"sk-serial\"><div class=\"sk-item\"><div class=\"sk-estimator sk-toggleable\"><input class=\"sk-toggleable__control sk-hidden--visually\" id=\"sk-estimator-id-63\" type=\"checkbox\" ><label for=\"sk-estimator-id-63\" class=\"sk-toggleable__label sk-toggleable__label-arrow\">SimpleImputer</label><div class=\"sk-toggleable__content\"><pre>SimpleImputer(fill_value=&#x27;missing&#x27;, strategy=&#x27;constant&#x27;)</pre></div></div></div><div class=\"sk-item\"><div class=\"sk-estimator sk-toggleable\"><input class=\"sk-toggleable__control sk-hidden--visually\" id=\"sk-estimator-id-64\" type=\"checkbox\" ><label for=\"sk-estimator-id-64\" class=\"sk-toggleable__label sk-toggleable__label-arrow\">OneHotEncoder</label><div class=\"sk-toggleable__content\"><pre>OneHotEncoder(drop=&#x27;if_binary&#x27;, dtype=&lt;class &#x27;int&#x27;&gt;)</pre></div></div></div></div></div></div></div></div><div class=\"sk-parallel-item\"><div class=\"sk-item\"><div class=\"sk-label-container\"><div class=\"sk-label sk-toggleable\"><input class=\"sk-toggleable__control sk-hidden--visually\" id=\"sk-estimator-id-65\" type=\"checkbox\" ><label for=\"sk-estimator-id-65\" class=\"sk-toggleable__label sk-toggleable__label-arrow\">pipeline-2</label><div class=\"sk-toggleable__content\"><pre>[&#x27;workclass&#x27;, &#x27;marital.status&#x27;, &#x27;occupation&#x27;, &#x27;relationship&#x27;, &#x27;native.country&#x27;]</pre></div></div></div><div class=\"sk-serial\"><div class=\"sk-item\"><div class=\"sk-serial\"><div class=\"sk-item\"><div class=\"sk-estimator sk-toggleable\"><input class=\"sk-toggleable__control sk-hidden--visually\" id=\"sk-estimator-id-66\" type=\"checkbox\" ><label for=\"sk-estimator-id-66\" class=\"sk-toggleable__label sk-toggleable__label-arrow\">SimpleImputer</label><div class=\"sk-toggleable__content\"><pre>SimpleImputer(fill_value=&#x27;missing&#x27;, strategy=&#x27;constant&#x27;)</pre></div></div></div><div class=\"sk-item\"><div class=\"sk-estimator sk-toggleable\"><input class=\"sk-toggleable__control sk-hidden--visually\" id=\"sk-estimator-id-67\" type=\"checkbox\" ><label for=\"sk-estimator-id-67\" class=\"sk-toggleable__label sk-toggleable__label-arrow\">OneHotEncoder</label><div class=\"sk-toggleable__content\"><pre>OneHotEncoder(handle_unknown=&#x27;ignore&#x27;, sparse_output=False)</pre></div></div></div></div></div></div></div></div><div class=\"sk-parallel-item\"><div class=\"sk-item\"><div class=\"sk-label-container\"><div class=\"sk-label sk-toggleable\"><input class=\"sk-toggleable__control sk-hidden--visually\" id=\"sk-estimator-id-68\" type=\"checkbox\" ><label for=\"sk-estimator-id-68\" class=\"sk-toggleable__label sk-toggleable__label-arrow\">drop</label><div class=\"sk-toggleable__content\"><pre>[&#x27;fnlwgt&#x27;, &#x27;race&#x27;, &#x27;education.num&#x27;]</pre></div></div></div><div class=\"sk-serial\"><div class=\"sk-item\"><div class=\"sk-estimator sk-toggleable\"><input class=\"sk-toggleable__control sk-hidden--visually\" id=\"sk-estimator-id-69\" type=\"checkbox\" ><label for=\"sk-estimator-id-69\" class=\"sk-toggleable__label sk-toggleable__label-arrow\">drop</label><div class=\"sk-toggleable__content\"><pre>drop</pre></div></div></div></div></div></div></div></div><div class=\"sk-item\"><div class=\"sk-estimator sk-toggleable\"><input class=\"sk-toggleable__control sk-hidden--visually\" id=\"sk-estimator-id-70\" type=\"checkbox\" ><label for=\"sk-estimator-id-70\" class=\"sk-toggleable__label sk-toggleable__label-arrow\">XGBClassifier</label><div class=\"sk-toggleable__content\"><pre>XGBClassifier(base_score=None, booster=None, callbacks=None,\n",
       "              colsample_bylevel=None, colsample_bynode=None,\n",
       "              colsample_bytree=None, early_stopping_rounds=None,\n",
       "              enable_categorical=False, eval_metric=None, feature_types=None,\n",
       "              gamma=None, gpu_id=None, grow_policy=None, importance_type=None,\n",
       "              interaction_constraints=None, learning_rate=None, max_bin=None,\n",
       "              max_cat_threshold=None, max_cat_to_onehot=None,\n",
       "              max_delta_step=None, max_depth=None, max_leaves=None,\n",
       "              min_child_weight=None, missing=nan, monotone_constraints=None,\n",
       "              n_estimators=100, n_jobs=None, num_parallel_tree=None,\n",
       "              predictor=None, random_state=123, ...)</pre></div></div></div></div></div></div></div></div><div class=\"sk-parallel-item\"><div class=\"sk-item\"><div class=\"sk-label-container\"><div class=\"sk-label sk-toggleable\"><label>LightGBM</label></div></div><div class=\"sk-serial\"><div class=\"sk-item\"><div class=\"sk-serial\"><div class=\"sk-item sk-dashed-wrapped\"><div class=\"sk-label-container\"><div class=\"sk-label sk-toggleable\"><input class=\"sk-toggleable__control sk-hidden--visually\" id=\"sk-estimator-id-71\" type=\"checkbox\" ><label for=\"sk-estimator-id-71\" class=\"sk-toggleable__label sk-toggleable__label-arrow\">columntransformer: ColumnTransformer</label><div class=\"sk-toggleable__content\"><pre>ColumnTransformer(transformers=[(&#x27;standardscaler&#x27;, StandardScaler(),\n",
       "                                 [&#x27;age&#x27;, &#x27;capital.gain&#x27;, &#x27;capital.loss&#x27;,\n",
       "                                  &#x27;hours.per.week&#x27;]),\n",
       "                                (&#x27;ordinalencoder&#x27;,\n",
       "                                 OrdinalEncoder(categories=[[&#x27;Preschool&#x27;,\n",
       "                                                             &#x27;1st-4th&#x27;,\n",
       "                                                             &#x27;5th-6th&#x27;,\n",
       "                                                             &#x27;7th-8th&#x27;, &#x27;9th&#x27;,\n",
       "                                                             &#x27;10th&#x27;, &#x27;11th&#x27;,\n",
       "                                                             &#x27;12th&#x27;, &#x27;HS-grad&#x27;,\n",
       "                                                             &#x27;Prof-school&#x27;,\n",
       "                                                             &#x27;Assoc-voc&#x27;,\n",
       "                                                             &#x27;Assoc-acdm&#x27;,\n",
       "                                                             &#x27;Some-college&#x27;,\n",
       "                                                             &#x27;Bachelors&#x27;,\n",
       "                                                             &#x27;Masters&#x27;,\n",
       "                                                             &#x27;Doctorate&#x27;]],\n",
       "                                                dtype=&lt;class...\n",
       "                                                  OneHotEncoder(drop=&#x27;if_binary&#x27;,\n",
       "                                                                dtype=&lt;class &#x27;int&#x27;&gt;))]),\n",
       "                                 [&#x27;sex&#x27;]),\n",
       "                                (&#x27;pipeline-2&#x27;,\n",
       "                                 Pipeline(steps=[(&#x27;simpleimputer&#x27;,\n",
       "                                                  SimpleImputer(fill_value=&#x27;missing&#x27;,\n",
       "                                                                strategy=&#x27;constant&#x27;)),\n",
       "                                                 (&#x27;onehotencoder&#x27;,\n",
       "                                                  OneHotEncoder(handle_unknown=&#x27;ignore&#x27;,\n",
       "                                                                sparse_output=False))]),\n",
       "                                 [&#x27;workclass&#x27;, &#x27;marital.status&#x27;, &#x27;occupation&#x27;,\n",
       "                                  &#x27;relationship&#x27;, &#x27;native.country&#x27;]),\n",
       "                                (&#x27;drop&#x27;, &#x27;drop&#x27;,\n",
       "                                 [&#x27;fnlwgt&#x27;, &#x27;race&#x27;, &#x27;education.num&#x27;])])</pre></div></div></div><div class=\"sk-parallel\"><div class=\"sk-parallel-item\"><div class=\"sk-item\"><div class=\"sk-label-container\"><div class=\"sk-label sk-toggleable\"><input class=\"sk-toggleable__control sk-hidden--visually\" id=\"sk-estimator-id-72\" type=\"checkbox\" ><label for=\"sk-estimator-id-72\" class=\"sk-toggleable__label sk-toggleable__label-arrow\">standardscaler</label><div class=\"sk-toggleable__content\"><pre>[&#x27;age&#x27;, &#x27;capital.gain&#x27;, &#x27;capital.loss&#x27;, &#x27;hours.per.week&#x27;]</pre></div></div></div><div class=\"sk-serial\"><div class=\"sk-item\"><div class=\"sk-estimator sk-toggleable\"><input class=\"sk-toggleable__control sk-hidden--visually\" id=\"sk-estimator-id-73\" type=\"checkbox\" ><label for=\"sk-estimator-id-73\" class=\"sk-toggleable__label sk-toggleable__label-arrow\">StandardScaler</label><div class=\"sk-toggleable__content\"><pre>StandardScaler()</pre></div></div></div></div></div></div><div class=\"sk-parallel-item\"><div class=\"sk-item\"><div class=\"sk-label-container\"><div class=\"sk-label sk-toggleable\"><input class=\"sk-toggleable__control sk-hidden--visually\" id=\"sk-estimator-id-74\" type=\"checkbox\" ><label for=\"sk-estimator-id-74\" class=\"sk-toggleable__label sk-toggleable__label-arrow\">ordinalencoder</label><div class=\"sk-toggleable__content\"><pre>[&#x27;education&#x27;]</pre></div></div></div><div class=\"sk-serial\"><div class=\"sk-item\"><div class=\"sk-estimator sk-toggleable\"><input class=\"sk-toggleable__control sk-hidden--visually\" id=\"sk-estimator-id-75\" type=\"checkbox\" ><label for=\"sk-estimator-id-75\" class=\"sk-toggleable__label sk-toggleable__label-arrow\">OrdinalEncoder</label><div class=\"sk-toggleable__content\"><pre>OrdinalEncoder(categories=[[&#x27;Preschool&#x27;, &#x27;1st-4th&#x27;, &#x27;5th-6th&#x27;, &#x27;7th-8th&#x27;, &#x27;9th&#x27;,\n",
       "                            &#x27;10th&#x27;, &#x27;11th&#x27;, &#x27;12th&#x27;, &#x27;HS-grad&#x27;, &#x27;Prof-school&#x27;,\n",
       "                            &#x27;Assoc-voc&#x27;, &#x27;Assoc-acdm&#x27;, &#x27;Some-college&#x27;,\n",
       "                            &#x27;Bachelors&#x27;, &#x27;Masters&#x27;, &#x27;Doctorate&#x27;]],\n",
       "               dtype=&lt;class &#x27;int&#x27;&gt;)</pre></div></div></div></div></div></div><div class=\"sk-parallel-item\"><div class=\"sk-item\"><div class=\"sk-label-container\"><div class=\"sk-label sk-toggleable\"><input class=\"sk-toggleable__control sk-hidden--visually\" id=\"sk-estimator-id-76\" type=\"checkbox\" ><label for=\"sk-estimator-id-76\" class=\"sk-toggleable__label sk-toggleable__label-arrow\">pipeline-1</label><div class=\"sk-toggleable__content\"><pre>[&#x27;sex&#x27;]</pre></div></div></div><div class=\"sk-serial\"><div class=\"sk-item\"><div class=\"sk-serial\"><div class=\"sk-item\"><div class=\"sk-estimator sk-toggleable\"><input class=\"sk-toggleable__control sk-hidden--visually\" id=\"sk-estimator-id-77\" type=\"checkbox\" ><label for=\"sk-estimator-id-77\" class=\"sk-toggleable__label sk-toggleable__label-arrow\">SimpleImputer</label><div class=\"sk-toggleable__content\"><pre>SimpleImputer(fill_value=&#x27;missing&#x27;, strategy=&#x27;constant&#x27;)</pre></div></div></div><div class=\"sk-item\"><div class=\"sk-estimator sk-toggleable\"><input class=\"sk-toggleable__control sk-hidden--visually\" id=\"sk-estimator-id-78\" type=\"checkbox\" ><label for=\"sk-estimator-id-78\" class=\"sk-toggleable__label sk-toggleable__label-arrow\">OneHotEncoder</label><div class=\"sk-toggleable__content\"><pre>OneHotEncoder(drop=&#x27;if_binary&#x27;, dtype=&lt;class &#x27;int&#x27;&gt;)</pre></div></div></div></div></div></div></div></div><div class=\"sk-parallel-item\"><div class=\"sk-item\"><div class=\"sk-label-container\"><div class=\"sk-label sk-toggleable\"><input class=\"sk-toggleable__control sk-hidden--visually\" id=\"sk-estimator-id-79\" type=\"checkbox\" ><label for=\"sk-estimator-id-79\" class=\"sk-toggleable__label sk-toggleable__label-arrow\">pipeline-2</label><div class=\"sk-toggleable__content\"><pre>[&#x27;workclass&#x27;, &#x27;marital.status&#x27;, &#x27;occupation&#x27;, &#x27;relationship&#x27;, &#x27;native.country&#x27;]</pre></div></div></div><div class=\"sk-serial\"><div class=\"sk-item\"><div class=\"sk-serial\"><div class=\"sk-item\"><div class=\"sk-estimator sk-toggleable\"><input class=\"sk-toggleable__control sk-hidden--visually\" id=\"sk-estimator-id-80\" type=\"checkbox\" ><label for=\"sk-estimator-id-80\" class=\"sk-toggleable__label sk-toggleable__label-arrow\">SimpleImputer</label><div class=\"sk-toggleable__content\"><pre>SimpleImputer(fill_value=&#x27;missing&#x27;, strategy=&#x27;constant&#x27;)</pre></div></div></div><div class=\"sk-item\"><div class=\"sk-estimator sk-toggleable\"><input class=\"sk-toggleable__control sk-hidden--visually\" id=\"sk-estimator-id-81\" type=\"checkbox\" ><label for=\"sk-estimator-id-81\" class=\"sk-toggleable__label sk-toggleable__label-arrow\">OneHotEncoder</label><div class=\"sk-toggleable__content\"><pre>OneHotEncoder(handle_unknown=&#x27;ignore&#x27;, sparse_output=False)</pre></div></div></div></div></div></div></div></div><div class=\"sk-parallel-item\"><div class=\"sk-item\"><div class=\"sk-label-container\"><div class=\"sk-label sk-toggleable\"><input class=\"sk-toggleable__control sk-hidden--visually\" id=\"sk-estimator-id-82\" type=\"checkbox\" ><label for=\"sk-estimator-id-82\" class=\"sk-toggleable__label sk-toggleable__label-arrow\">drop</label><div class=\"sk-toggleable__content\"><pre>[&#x27;fnlwgt&#x27;, &#x27;race&#x27;, &#x27;education.num&#x27;]</pre></div></div></div><div class=\"sk-serial\"><div class=\"sk-item\"><div class=\"sk-estimator sk-toggleable\"><input class=\"sk-toggleable__control sk-hidden--visually\" id=\"sk-estimator-id-83\" type=\"checkbox\" ><label for=\"sk-estimator-id-83\" class=\"sk-toggleable__label sk-toggleable__label-arrow\">drop</label><div class=\"sk-toggleable__content\"><pre>drop</pre></div></div></div></div></div></div></div></div><div class=\"sk-item\"><div class=\"sk-estimator sk-toggleable\"><input class=\"sk-toggleable__control sk-hidden--visually\" id=\"sk-estimator-id-84\" type=\"checkbox\" ><label for=\"sk-estimator-id-84\" class=\"sk-toggleable__label sk-toggleable__label-arrow\">LGBMClassifier</label><div class=\"sk-toggleable__content\"><pre>LGBMClassifier(random_state=123, verbose=-1)</pre></div></div></div></div></div></div></div></div></div></div></div></div>"
      ],
      "text/plain": [
       "VotingClassifier(estimators=[('logistic regression',\n",
       "                              Pipeline(steps=[('columntransformer',\n",
       "                                               ColumnTransformer(transformers=[('standardscaler',\n",
       "                                                                                StandardScaler(),\n",
       "                                                                                ['age',\n",
       "                                                                                 'capital.gain',\n",
       "                                                                                 'capital.loss',\n",
       "                                                                                 'hours.per.week']),\n",
       "                                                                               ('ordinalencoder',\n",
       "                                                                                OrdinalEncoder(categories=[['Preschool',\n",
       "                                                                                                            '1st-4th',\n",
       "                                                                                                            '5th-6th',\n",
       "                                                                                                            '7th-8th',\n",
       "                                                                                                            '9th',\n",
       "                                                                                                            '10th',\n",
       "                                                                                                            '11th',\n",
       "                                                                                                            '12th',\n",
       "                                                                                                            'HS-grad',\n",
       "                                                                                                            'Prof-school',...\n",
       "                                                                                Pipeline(steps=[('simpleimputer',\n",
       "                                                                                                 SimpleImputer(fill_value='missing',\n",
       "                                                                                                               strategy='constant')),\n",
       "                                                                                                ('onehotencoder',\n",
       "                                                                                                 OneHotEncoder(handle_unknown='ignore',\n",
       "                                                                                                               sparse_output=False))]),\n",
       "                                                                                ['workclass',\n",
       "                                                                                 'marital.status',\n",
       "                                                                                 'occupation',\n",
       "                                                                                 'relationship',\n",
       "                                                                                 'native.country']),\n",
       "                                                                               ('drop',\n",
       "                                                                                'drop',\n",
       "                                                                                ['fnlwgt',\n",
       "                                                                                 'race',\n",
       "                                                                                 'education.num'])])),\n",
       "                                              ('lgbmclassifier',\n",
       "                                               LGBMClassifier(random_state=123,\n",
       "                                                              verbose=-1))]))],\n",
       "                 voting='soft')"
      ]
     },
     "execution_count": 37,
     "metadata": {},
     "output_type": "execute_result"
    }
   ],
   "source": [
    "averaging_model"
   ]
  },
  {
   "cell_type": "markdown",
   "metadata": {},
   "source": [
    "This `VotingClassifier` will take a _vote_ using the predictions of the constituent classifier pipelines."
   ]
  },
  {
   "cell_type": "markdown",
   "metadata": {
    "slideshow": {
     "slide_type": "slide"
    }
   },
   "source": [
    "Main parameter: `voting`\n",
    "- `voting='hard'` \n",
    "    - it uses the output of `predict` and actually votes.\n",
    "- `voting='soft'`\n",
    "    - with `voting='soft'` it averages the output of `predict_proba` and then thresholds / takes the larger."
   ]
  },
  {
   "cell_type": "markdown",
   "metadata": {
    "slideshow": {
     "slide_type": "slide"
    }
   },
   "source": [
    "- The choice depends on whether you trust `predict_proba` from your base classifiers - if so, it's nice to access that information."
   ]
  },
  {
   "cell_type": "code",
   "execution_count": 38,
   "metadata": {
    "slideshow": {
     "slide_type": "slide"
    }
   },
   "outputs": [],
   "source": [
    "averaging_model.fit(X_train, y_train_num);"
   ]
  },
  {
   "cell_type": "markdown",
   "metadata": {},
   "source": [
    "- What happens when you `fit` a `VotingClassifier`?\n",
    "    - It will fit all constituent models.    "
   ]
  },
  {
   "cell_type": "markdown",
   "metadata": {},
   "source": [
    "```{note}\n",
    "It seems sklearn requires us to actually call `fit` on the `VotingClassifier`, instead of passing in pre-fit models. This is an implementation choice rather than a conceptual limitation.\n",
    "```"
   ]
  },
  {
   "cell_type": "markdown",
   "metadata": {
    "slideshow": {
     "slide_type": "slide"
    }
   },
   "source": [
    "Let's look at particular test examples where `income` is \">50k\" (y=1):"
   ]
  },
  {
   "cell_type": "code",
   "execution_count": 39,
   "metadata": {},
   "outputs": [],
   "source": [
    "test_g50k = (\n",
    "    test_df.query(\"income == '>50K'\")\n",
    "    .sample(4, random_state=42)\n",
    "    .drop(columns=[\"income\"])\n",
    ")\n",
    "test_l50k = (\n",
    "    test_df.query(\"income == '<=50K'\")\n",
    "    .sample(4, random_state=2)\n",
    "    .drop(columns=[\"income\"])\n",
    ")"
   ]
  },
  {
   "cell_type": "code",
   "execution_count": 40,
   "metadata": {},
   "outputs": [
    {
     "data": {
      "text/plain": [
       "array([0, 1])"
      ]
     },
     "execution_count": 40,
     "metadata": {},
     "output_type": "execute_result"
    }
   ],
   "source": [
    "averaging_model.classes_"
   ]
  },
  {
   "cell_type": "markdown",
   "metadata": {
    "slideshow": {
     "slide_type": "slide"
    }
   },
   "source": [
    "What are the predictions given by the voting model? "
   ]
  },
  {
   "cell_type": "code",
   "execution_count": 41,
   "metadata": {
    "slideshow": {
     "slide_type": "-"
    }
   },
   "outputs": [
    {
     "data": {
      "text/html": [
       "<div>\n",
       "<style scoped>\n",
       "    .dataframe tbody tr th:only-of-type {\n",
       "        vertical-align: middle;\n",
       "    }\n",
       "\n",
       "    .dataframe tbody tr th {\n",
       "        vertical-align: top;\n",
       "    }\n",
       "\n",
       "    .dataframe thead th {\n",
       "        text-align: right;\n",
       "    }\n",
       "</style>\n",
       "<table border=\"1\" class=\"dataframe\">\n",
       "  <thead>\n",
       "    <tr style=\"text-align: right;\">\n",
       "      <th></th>\n",
       "      <th>y</th>\n",
       "      <th>Voting classifier</th>\n",
       "    </tr>\n",
       "  </thead>\n",
       "  <tbody>\n",
       "    <tr>\n",
       "      <th>0</th>\n",
       "      <td>1</td>\n",
       "      <td>1</td>\n",
       "    </tr>\n",
       "    <tr>\n",
       "      <th>1</th>\n",
       "      <td>1</td>\n",
       "      <td>1</td>\n",
       "    </tr>\n",
       "    <tr>\n",
       "      <th>2</th>\n",
       "      <td>1</td>\n",
       "      <td>1</td>\n",
       "    </tr>\n",
       "    <tr>\n",
       "      <th>3</th>\n",
       "      <td>1</td>\n",
       "      <td>1</td>\n",
       "    </tr>\n",
       "  </tbody>\n",
       "</table>\n",
       "</div>"
      ],
      "text/plain": [
       "   y  Voting classifier\n",
       "0  1                  1\n",
       "1  1                  1\n",
       "2  1                  1\n",
       "3  1                  1"
      ]
     },
     "execution_count": 41,
     "metadata": {},
     "output_type": "execute_result"
    }
   ],
   "source": [
    "data = {\"y\": 1, \"Voting classifier\": averaging_model.predict(test_g50k)}\n",
    "pd.DataFrame(data)"
   ]
  },
  {
   "cell_type": "markdown",
   "metadata": {
    "slideshow": {
     "slide_type": "slide"
    }
   },
   "source": [
    "For hard voting, these are the votes:"
   ]
  },
  {
   "cell_type": "code",
   "execution_count": 42,
   "metadata": {
    "slideshow": {
     "slide_type": "-"
    }
   },
   "outputs": [
    {
     "data": {
      "text/html": [
       "<div>\n",
       "<style scoped>\n",
       "    .dataframe tbody tr th:only-of-type {\n",
       "        vertical-align: middle;\n",
       "    }\n",
       "\n",
       "    .dataframe tbody tr th {\n",
       "        vertical-align: top;\n",
       "    }\n",
       "\n",
       "    .dataframe thead th {\n",
       "        text-align: right;\n",
       "    }\n",
       "</style>\n",
       "<table border=\"1\" class=\"dataframe\">\n",
       "  <thead>\n",
       "    <tr style=\"text-align: right;\">\n",
       "      <th></th>\n",
       "      <th>y</th>\n",
       "      <th>Voting classifier</th>\n",
       "      <th>logistic regression</th>\n",
       "      <th>decision tree</th>\n",
       "      <th>random forest</th>\n",
       "      <th>XGBoost</th>\n",
       "      <th>LightGBM</th>\n",
       "    </tr>\n",
       "  </thead>\n",
       "  <tbody>\n",
       "    <tr>\n",
       "      <th>0</th>\n",
       "      <td>1</td>\n",
       "      <td>1</td>\n",
       "      <td>1</td>\n",
       "      <td>1</td>\n",
       "      <td>1</td>\n",
       "      <td>1</td>\n",
       "      <td>1</td>\n",
       "    </tr>\n",
       "    <tr>\n",
       "      <th>1</th>\n",
       "      <td>1</td>\n",
       "      <td>1</td>\n",
       "      <td>0</td>\n",
       "      <td>1</td>\n",
       "      <td>1</td>\n",
       "      <td>1</td>\n",
       "      <td>0</td>\n",
       "    </tr>\n",
       "    <tr>\n",
       "      <th>2</th>\n",
       "      <td>1</td>\n",
       "      <td>1</td>\n",
       "      <td>1</td>\n",
       "      <td>0</td>\n",
       "      <td>1</td>\n",
       "      <td>1</td>\n",
       "      <td>1</td>\n",
       "    </tr>\n",
       "    <tr>\n",
       "      <th>3</th>\n",
       "      <td>1</td>\n",
       "      <td>1</td>\n",
       "      <td>1</td>\n",
       "      <td>0</td>\n",
       "      <td>1</td>\n",
       "      <td>1</td>\n",
       "      <td>1</td>\n",
       "    </tr>\n",
       "  </tbody>\n",
       "</table>\n",
       "</div>"
      ],
      "text/plain": [
       "   y  Voting classifier  logistic regression  decision tree  random forest  \\\n",
       "0  1                  1                    1              1              1   \n",
       "1  1                  1                    0              1              1   \n",
       "2  1                  1                    1              0              1   \n",
       "3  1                  1                    1              0              1   \n",
       "\n",
       "   XGBoost  LightGBM  \n",
       "0        1         1  \n",
       "1        1         0  \n",
       "2        1         1  \n",
       "3        1         1  "
      ]
     },
     "execution_count": 42,
     "metadata": {},
     "output_type": "execute_result"
    }
   ],
   "source": [
    "r1 = {\n",
    "    name: classifier.predict(test_g50k)\n",
    "    for name, classifier in averaging_model.named_estimators_.items()\n",
    "}\n",
    "data.update(r1)\n",
    "pd.DataFrame(data)"
   ]
  },
  {
   "cell_type": "markdown",
   "metadata": {
    "slideshow": {
     "slide_type": "slide"
    }
   },
   "source": [
    "For soft voting, these are the scores:"
   ]
  },
  {
   "cell_type": "code",
   "execution_count": 43,
   "metadata": {},
   "outputs": [
    {
     "data": {
      "text/html": [
       "<div>\n",
       "<style scoped>\n",
       "    .dataframe tbody tr th:only-of-type {\n",
       "        vertical-align: middle;\n",
       "    }\n",
       "\n",
       "    .dataframe tbody tr th {\n",
       "        vertical-align: top;\n",
       "    }\n",
       "\n",
       "    .dataframe thead th {\n",
       "        text-align: right;\n",
       "    }\n",
       "</style>\n",
       "<table border=\"1\" class=\"dataframe\">\n",
       "  <thead>\n",
       "    <tr style=\"text-align: right;\">\n",
       "      <th></th>\n",
       "      <th>y</th>\n",
       "      <th>Voting classifier</th>\n",
       "      <th>logistic regression</th>\n",
       "      <th>decision tree</th>\n",
       "      <th>random forest</th>\n",
       "      <th>XGBoost</th>\n",
       "      <th>LightGBM</th>\n",
       "    </tr>\n",
       "  </thead>\n",
       "  <tbody>\n",
       "    <tr>\n",
       "      <th>0</th>\n",
       "      <td>1</td>\n",
       "      <td>1</td>\n",
       "      <td>0.663111</td>\n",
       "      <td>1.0</td>\n",
       "      <td>0.760000</td>\n",
       "      <td>0.601041</td>\n",
       "      <td>0.685786</td>\n",
       "    </tr>\n",
       "    <tr>\n",
       "      <th>1</th>\n",
       "      <td>1</td>\n",
       "      <td>1</td>\n",
       "      <td>0.247537</td>\n",
       "      <td>1.0</td>\n",
       "      <td>0.678924</td>\n",
       "      <td>0.513223</td>\n",
       "      <td>0.463582</td>\n",
       "    </tr>\n",
       "    <tr>\n",
       "      <th>2</th>\n",
       "      <td>1</td>\n",
       "      <td>1</td>\n",
       "      <td>0.636616</td>\n",
       "      <td>0.5</td>\n",
       "      <td>0.621537</td>\n",
       "      <td>0.684857</td>\n",
       "      <td>0.665882</td>\n",
       "    </tr>\n",
       "    <tr>\n",
       "      <th>3</th>\n",
       "      <td>1</td>\n",
       "      <td>1</td>\n",
       "      <td>0.616069</td>\n",
       "      <td>0.0</td>\n",
       "      <td>0.770000</td>\n",
       "      <td>0.731338</td>\n",
       "      <td>0.683015</td>\n",
       "    </tr>\n",
       "  </tbody>\n",
       "</table>\n",
       "</div>"
      ],
      "text/plain": [
       "   y  Voting classifier  logistic regression  decision tree  random forest  \\\n",
       "0  1                  1             0.663111            1.0       0.760000   \n",
       "1  1                  1             0.247537            1.0       0.678924   \n",
       "2  1                  1             0.636616            0.5       0.621537   \n",
       "3  1                  1             0.616069            0.0       0.770000   \n",
       "\n",
       "    XGBoost  LightGBM  \n",
       "0  0.601041  0.685786  \n",
       "1  0.513223  0.463582  \n",
       "2  0.684857  0.665882  \n",
       "3  0.731338  0.683015  "
      ]
     },
     "execution_count": 43,
     "metadata": {},
     "output_type": "execute_result"
    }
   ],
   "source": [
    "r2 = {\n",
    "    name: classifier.predict_proba(test_g50k)[:, 1]\n",
    "    for name, classifier in averaging_model.named_estimators_.items()\n",
    "}\n",
    "\n",
    "data.update(r2)\n",
    "pd.DataFrame(data)"
   ]
  },
  {
   "cell_type": "markdown",
   "metadata": {},
   "source": [
    "(Aside: the probability scores from `DecisionTreeClassifier` are pretty bad)"
   ]
  },
  {
   "cell_type": "markdown",
   "metadata": {},
   "source": [
    "What's the prediction probability of the averaging model? Let's examine prediction probability of the first example from `test_g50k`. "
   ]
  },
  {
   "cell_type": "code",
   "execution_count": 44,
   "metadata": {},
   "outputs": [
    {
     "data": {
      "text/plain": [
       "array([0.41934687, 0.58065313])"
      ]
     },
     "execution_count": 44,
     "metadata": {},
     "output_type": "execute_result"
    }
   ],
   "source": [
    "averaging_model.predict_proba(test_g50k)[1]"
   ]
  },
  {
   "cell_type": "markdown",
   "metadata": {},
   "source": [
    "It adds the prediction probabilities given by constituent models and divides the summation by the number of constituent models. "
   ]
  },
  {
   "cell_type": "code",
   "execution_count": 45,
   "metadata": {},
   "outputs": [
    {
     "data": {
      "text/plain": [
       "2.096734368958311"
      ]
     },
     "execution_count": 45,
     "metadata": {},
     "output_type": "execute_result"
    }
   ],
   "source": [
    "# Sum of probabilities for class 0 at index 1\n",
    "sum_prob_ex1_class_0 = np.sum(\n",
    "    [\n",
    "        classifier.predict_proba(test_g50k)[1][0]\n",
    "        for name, classifier in averaging_model.named_estimators_.items()\n",
    "    ]\n",
    ")\n",
    "sum_prob_ex1_class_0"
   ]
  },
  {
   "cell_type": "code",
   "execution_count": 46,
   "metadata": {},
   "outputs": [
    {
     "data": {
      "text/plain": [
       "2.903265631041689"
      ]
     },
     "execution_count": 46,
     "metadata": {},
     "output_type": "execute_result"
    }
   ],
   "source": [
    "# Sum of probabilities for class 1 at index 1\n",
    "sum_prob_ex1_class_1 = np.sum(\n",
    "    [\n",
    "        classifier.predict_proba(test_g50k)[1][1]\n",
    "        for name, classifier in averaging_model.named_estimators_.items()\n",
    "    ]\n",
    ")\n",
    "sum_prob_ex1_class_1"
   ]
  },
  {
   "cell_type": "code",
   "execution_count": 47,
   "metadata": {},
   "outputs": [
    {
     "data": {
      "text/plain": [
       "5"
      ]
     },
     "execution_count": 47,
     "metadata": {},
     "output_type": "execute_result"
    }
   ],
   "source": [
    "n_constituents = len(averaging_model.named_estimators_)\n",
    "n_constituents"
   ]
  },
  {
   "cell_type": "code",
   "execution_count": 48,
   "metadata": {},
   "outputs": [
    {
     "data": {
      "text/plain": [
       "(0.41934687379166224, 0.5806531262083378)"
      ]
     },
     "execution_count": 48,
     "metadata": {},
     "output_type": "execute_result"
    }
   ],
   "source": [
    "sum_prob_ex1_class_0 / n_constituents, sum_prob_ex1_class_1 / n_constituents"
   ]
  },
  {
   "cell_type": "code",
   "execution_count": 49,
   "metadata": {},
   "outputs": [
    {
     "data": {
      "text/plain": [
       "array([0.41934687, 0.58065313])"
      ]
     },
     "execution_count": 49,
     "metadata": {},
     "output_type": "execute_result"
    }
   ],
   "source": [
    "averaging_model.predict_proba(test_g50k)[1]"
   ]
  },
  {
   "cell_type": "markdown",
   "metadata": {},
   "source": [
    "They match! "
   ]
  },
  {
   "cell_type": "markdown",
   "metadata": {
    "slideshow": {
     "slide_type": "slide"
    }
   },
   "source": [
    "Let's see how well this model performs."
   ]
  },
  {
   "cell_type": "code",
   "execution_count": 50,
   "metadata": {},
   "outputs": [
    {
     "data": {
      "text/plain": [
       "array([0.37822156, 0.62177844])"
      ]
     },
     "execution_count": 50,
     "metadata": {},
     "output_type": "execute_result"
    }
   ],
   "source": [
    "averaging_model.predict_proba(test_g50k)[2]"
   ]
  },
  {
   "cell_type": "code",
   "execution_count": 51,
   "metadata": {
    "slideshow": {
     "slide_type": "-"
    }
   },
   "outputs": [],
   "source": [
    "results[\"Voting\"] = mean_std_cross_val_scores(\n",
    "    averaging_model, X_train, y_train, return_train_score=True, scoring=scoring_metric\n",
    ")"
   ]
  },
  {
   "cell_type": "code",
   "execution_count": 52,
   "metadata": {
    "slideshow": {
     "slide_type": "-"
    }
   },
   "outputs": [
    {
     "data": {
      "text/html": [
       "<div>\n",
       "<style scoped>\n",
       "    .dataframe tbody tr th:only-of-type {\n",
       "        vertical-align: middle;\n",
       "    }\n",
       "\n",
       "    .dataframe tbody tr th {\n",
       "        vertical-align: top;\n",
       "    }\n",
       "\n",
       "    .dataframe thead th {\n",
       "        text-align: right;\n",
       "    }\n",
       "</style>\n",
       "<table border=\"1\" class=\"dataframe\">\n",
       "  <thead>\n",
       "    <tr style=\"text-align: right;\">\n",
       "      <th></th>\n",
       "      <th>fit_time</th>\n",
       "      <th>score_time</th>\n",
       "      <th>test_score</th>\n",
       "      <th>train_score</th>\n",
       "    </tr>\n",
       "  </thead>\n",
       "  <tbody>\n",
       "    <tr>\n",
       "      <th>Dummy</th>\n",
       "      <td>0.007 (+/- 0.000)</td>\n",
       "      <td>0.006 (+/- 0.000)</td>\n",
       "      <td>0.758 (+/- 0.000)</td>\n",
       "      <td>0.758 (+/- 0.000)</td>\n",
       "    </tr>\n",
       "    <tr>\n",
       "      <th>logistic regression</th>\n",
       "      <td>1.104 (+/- 0.100)</td>\n",
       "      <td>0.011 (+/- 0.001)</td>\n",
       "      <td>0.849 (+/- 0.005)</td>\n",
       "      <td>0.850 (+/- 0.001)</td>\n",
       "    </tr>\n",
       "    <tr>\n",
       "      <th>decision tree</th>\n",
       "      <td>0.120 (+/- 0.004)</td>\n",
       "      <td>0.010 (+/- 0.000)</td>\n",
       "      <td>0.817 (+/- 0.006)</td>\n",
       "      <td>0.979 (+/- 0.000)</td>\n",
       "    </tr>\n",
       "    <tr>\n",
       "      <th>random forest</th>\n",
       "      <td>1.296 (+/- 0.007)</td>\n",
       "      <td>0.079 (+/- 0.001)</td>\n",
       "      <td>0.844 (+/- 0.007)</td>\n",
       "      <td>0.976 (+/- 0.001)</td>\n",
       "    </tr>\n",
       "    <tr>\n",
       "      <th>XGBoost</th>\n",
       "      <td>1.332 (+/- 0.020)</td>\n",
       "      <td>0.014 (+/- 0.000)</td>\n",
       "      <td>0.870 (+/- 0.003)</td>\n",
       "      <td>0.898 (+/- 0.001)</td>\n",
       "    </tr>\n",
       "    <tr>\n",
       "      <th>LightGBM</th>\n",
       "      <td>0.152 (+/- 0.020)</td>\n",
       "      <td>0.021 (+/- 0.001)</td>\n",
       "      <td>0.872 (+/- 0.004)</td>\n",
       "      <td>0.888 (+/- 0.000)</td>\n",
       "    </tr>\n",
       "    <tr>\n",
       "      <th>CatBoost</th>\n",
       "      <td>3.826 (+/- 0.068)</td>\n",
       "      <td>0.092 (+/- 0.003)</td>\n",
       "      <td>0.872 (+/- 0.003)</td>\n",
       "      <td>0.895 (+/- 0.001)</td>\n",
       "    </tr>\n",
       "    <tr>\n",
       "      <th>sklearn_histGB</th>\n",
       "      <td>0.694 (+/- 0.073)</td>\n",
       "      <td>0.023 (+/- 0.000)</td>\n",
       "      <td>0.871 (+/- 0.005)</td>\n",
       "      <td>0.887 (+/- 0.002)</td>\n",
       "    </tr>\n",
       "    <tr>\n",
       "      <th>sklearn_GB</th>\n",
       "      <td>1.869 (+/- 0.011)</td>\n",
       "      <td>0.014 (+/- 0.000)</td>\n",
       "      <td>0.864 (+/- 0.004)</td>\n",
       "      <td>0.870 (+/- 0.001)</td>\n",
       "    </tr>\n",
       "    <tr>\n",
       "      <th>Voting</th>\n",
       "      <td>3.886 (+/- 0.081)</td>\n",
       "      <td>0.143 (+/- 0.003)</td>\n",
       "      <td>0.860 (+/- 0.005)</td>\n",
       "      <td>0.953 (+/- 0.001)</td>\n",
       "    </tr>\n",
       "  </tbody>\n",
       "</table>\n",
       "</div>"
      ],
      "text/plain": [
       "                              fit_time         score_time         test_score  \\\n",
       "Dummy                0.007 (+/- 0.000)  0.006 (+/- 0.000)  0.758 (+/- 0.000)   \n",
       "logistic regression  1.104 (+/- 0.100)  0.011 (+/- 0.001)  0.849 (+/- 0.005)   \n",
       "decision tree        0.120 (+/- 0.004)  0.010 (+/- 0.000)  0.817 (+/- 0.006)   \n",
       "random forest        1.296 (+/- 0.007)  0.079 (+/- 0.001)  0.844 (+/- 0.007)   \n",
       "XGBoost              1.332 (+/- 0.020)  0.014 (+/- 0.000)  0.870 (+/- 0.003)   \n",
       "LightGBM             0.152 (+/- 0.020)  0.021 (+/- 0.001)  0.872 (+/- 0.004)   \n",
       "CatBoost             3.826 (+/- 0.068)  0.092 (+/- 0.003)  0.872 (+/- 0.003)   \n",
       "sklearn_histGB       0.694 (+/- 0.073)  0.023 (+/- 0.000)  0.871 (+/- 0.005)   \n",
       "sklearn_GB           1.869 (+/- 0.011)  0.014 (+/- 0.000)  0.864 (+/- 0.004)   \n",
       "Voting               3.886 (+/- 0.081)  0.143 (+/- 0.003)  0.860 (+/- 0.005)   \n",
       "\n",
       "                           train_score  \n",
       "Dummy                0.758 (+/- 0.000)  \n",
       "logistic regression  0.850 (+/- 0.001)  \n",
       "decision tree        0.979 (+/- 0.000)  \n",
       "random forest        0.976 (+/- 0.001)  \n",
       "XGBoost              0.898 (+/- 0.001)  \n",
       "LightGBM             0.888 (+/- 0.000)  \n",
       "CatBoost             0.895 (+/- 0.001)  \n",
       "sklearn_histGB       0.887 (+/- 0.002)  \n",
       "sklearn_GB           0.870 (+/- 0.001)  \n",
       "Voting               0.953 (+/- 0.001)  "
      ]
     },
     "execution_count": 52,
     "metadata": {},
     "output_type": "execute_result"
    }
   ],
   "source": [
    "pd.DataFrame(results).T"
   ]
  },
  {
   "cell_type": "markdown",
   "metadata": {},
   "source": [
    "It appears that here we didn't do much better than our best classifier :(. "
   ]
  },
  {
   "cell_type": "markdown",
   "metadata": {
    "slideshow": {
     "slide_type": "slide"
    }
   },
   "source": [
    "Let's try removing decision tree classifier. "
   ]
  },
  {
   "cell_type": "code",
   "execution_count": 53,
   "metadata": {},
   "outputs": [],
   "source": [
    "classifiers_ndt = classifiers.copy()\n",
    "del classifiers_ndt[\"decision tree\"]\n",
    "averaging_model_ndt = VotingClassifier(\n",
    "    list(classifiers_ndt.items()), voting=\"soft\"\n",
    ")  # need the list() here for cross_val to work!\n",
    "\n",
    "results[\"Voting_ndt\"] = mean_std_cross_val_scores(\n",
    "    averaging_model_ndt,\n",
    "    X_train,\n",
    "    y_train,\n",
    "    return_train_score=True,\n",
    "    scoring=scoring_metric,\n",
    ")"
   ]
  },
  {
   "cell_type": "code",
   "execution_count": 54,
   "metadata": {
    "slideshow": {
     "slide_type": "slide"
    }
   },
   "outputs": [
    {
     "data": {
      "text/html": [
       "<div>\n",
       "<style scoped>\n",
       "    .dataframe tbody tr th:only-of-type {\n",
       "        vertical-align: middle;\n",
       "    }\n",
       "\n",
       "    .dataframe tbody tr th {\n",
       "        vertical-align: top;\n",
       "    }\n",
       "\n",
       "    .dataframe thead th {\n",
       "        text-align: right;\n",
       "    }\n",
       "</style>\n",
       "<table border=\"1\" class=\"dataframe\">\n",
       "  <thead>\n",
       "    <tr style=\"text-align: right;\">\n",
       "      <th></th>\n",
       "      <th>fit_time</th>\n",
       "      <th>score_time</th>\n",
       "      <th>test_score</th>\n",
       "      <th>train_score</th>\n",
       "    </tr>\n",
       "  </thead>\n",
       "  <tbody>\n",
       "    <tr>\n",
       "      <th>Dummy</th>\n",
       "      <td>0.007 (+/- 0.000)</td>\n",
       "      <td>0.006 (+/- 0.000)</td>\n",
       "      <td>0.758 (+/- 0.000)</td>\n",
       "      <td>0.758 (+/- 0.000)</td>\n",
       "    </tr>\n",
       "    <tr>\n",
       "      <th>logistic regression</th>\n",
       "      <td>1.104 (+/- 0.100)</td>\n",
       "      <td>0.011 (+/- 0.001)</td>\n",
       "      <td>0.849 (+/- 0.005)</td>\n",
       "      <td>0.850 (+/- 0.001)</td>\n",
       "    </tr>\n",
       "    <tr>\n",
       "      <th>decision tree</th>\n",
       "      <td>0.120 (+/- 0.004)</td>\n",
       "      <td>0.010 (+/- 0.000)</td>\n",
       "      <td>0.817 (+/- 0.006)</td>\n",
       "      <td>0.979 (+/- 0.000)</td>\n",
       "    </tr>\n",
       "    <tr>\n",
       "      <th>random forest</th>\n",
       "      <td>1.296 (+/- 0.007)</td>\n",
       "      <td>0.079 (+/- 0.001)</td>\n",
       "      <td>0.844 (+/- 0.007)</td>\n",
       "      <td>0.976 (+/- 0.001)</td>\n",
       "    </tr>\n",
       "    <tr>\n",
       "      <th>XGBoost</th>\n",
       "      <td>1.332 (+/- 0.020)</td>\n",
       "      <td>0.014 (+/- 0.000)</td>\n",
       "      <td>0.870 (+/- 0.003)</td>\n",
       "      <td>0.898 (+/- 0.001)</td>\n",
       "    </tr>\n",
       "    <tr>\n",
       "      <th>LightGBM</th>\n",
       "      <td>0.152 (+/- 0.020)</td>\n",
       "      <td>0.021 (+/- 0.001)</td>\n",
       "      <td>0.872 (+/- 0.004)</td>\n",
       "      <td>0.888 (+/- 0.000)</td>\n",
       "    </tr>\n",
       "    <tr>\n",
       "      <th>CatBoost</th>\n",
       "      <td>3.826 (+/- 0.068)</td>\n",
       "      <td>0.092 (+/- 0.003)</td>\n",
       "      <td>0.872 (+/- 0.003)</td>\n",
       "      <td>0.895 (+/- 0.001)</td>\n",
       "    </tr>\n",
       "    <tr>\n",
       "      <th>sklearn_histGB</th>\n",
       "      <td>0.694 (+/- 0.073)</td>\n",
       "      <td>0.023 (+/- 0.000)</td>\n",
       "      <td>0.871 (+/- 0.005)</td>\n",
       "      <td>0.887 (+/- 0.002)</td>\n",
       "    </tr>\n",
       "    <tr>\n",
       "      <th>sklearn_GB</th>\n",
       "      <td>1.869 (+/- 0.011)</td>\n",
       "      <td>0.014 (+/- 0.000)</td>\n",
       "      <td>0.864 (+/- 0.004)</td>\n",
       "      <td>0.870 (+/- 0.001)</td>\n",
       "    </tr>\n",
       "    <tr>\n",
       "      <th>Voting</th>\n",
       "      <td>3.886 (+/- 0.081)</td>\n",
       "      <td>0.143 (+/- 0.003)</td>\n",
       "      <td>0.860 (+/- 0.005)</td>\n",
       "      <td>0.953 (+/- 0.001)</td>\n",
       "    </tr>\n",
       "    <tr>\n",
       "      <th>Voting_ndt</th>\n",
       "      <td>3.709 (+/- 0.096)</td>\n",
       "      <td>0.133 (+/- 0.004)</td>\n",
       "      <td>0.870 (+/- 0.005)</td>\n",
       "      <td>0.918 (+/- 0.001)</td>\n",
       "    </tr>\n",
       "  </tbody>\n",
       "</table>\n",
       "</div>"
      ],
      "text/plain": [
       "                              fit_time         score_time         test_score  \\\n",
       "Dummy                0.007 (+/- 0.000)  0.006 (+/- 0.000)  0.758 (+/- 0.000)   \n",
       "logistic regression  1.104 (+/- 0.100)  0.011 (+/- 0.001)  0.849 (+/- 0.005)   \n",
       "decision tree        0.120 (+/- 0.004)  0.010 (+/- 0.000)  0.817 (+/- 0.006)   \n",
       "random forest        1.296 (+/- 0.007)  0.079 (+/- 0.001)  0.844 (+/- 0.007)   \n",
       "XGBoost              1.332 (+/- 0.020)  0.014 (+/- 0.000)  0.870 (+/- 0.003)   \n",
       "LightGBM             0.152 (+/- 0.020)  0.021 (+/- 0.001)  0.872 (+/- 0.004)   \n",
       "CatBoost             3.826 (+/- 0.068)  0.092 (+/- 0.003)  0.872 (+/- 0.003)   \n",
       "sklearn_histGB       0.694 (+/- 0.073)  0.023 (+/- 0.000)  0.871 (+/- 0.005)   \n",
       "sklearn_GB           1.869 (+/- 0.011)  0.014 (+/- 0.000)  0.864 (+/- 0.004)   \n",
       "Voting               3.886 (+/- 0.081)  0.143 (+/- 0.003)  0.860 (+/- 0.005)   \n",
       "Voting_ndt           3.709 (+/- 0.096)  0.133 (+/- 0.004)  0.870 (+/- 0.005)   \n",
       "\n",
       "                           train_score  \n",
       "Dummy                0.758 (+/- 0.000)  \n",
       "logistic regression  0.850 (+/- 0.001)  \n",
       "decision tree        0.979 (+/- 0.000)  \n",
       "random forest        0.976 (+/- 0.001)  \n",
       "XGBoost              0.898 (+/- 0.001)  \n",
       "LightGBM             0.888 (+/- 0.000)  \n",
       "CatBoost             0.895 (+/- 0.001)  \n",
       "sklearn_histGB       0.887 (+/- 0.002)  \n",
       "sklearn_GB           0.870 (+/- 0.001)  \n",
       "Voting               0.953 (+/- 0.001)  \n",
       "Voting_ndt           0.918 (+/- 0.001)  "
      ]
     },
     "execution_count": 54,
     "metadata": {},
     "output_type": "execute_result"
    }
   ],
   "source": [
    "pd.DataFrame(results).T"
   ]
  },
  {
   "cell_type": "markdown",
   "metadata": {},
   "source": [
    "Still the averaging scores are not better than the best performing model. "
   ]
  },
  {
   "cell_type": "markdown",
   "metadata": {
    "slideshow": {
     "slide_type": "slide"
    }
   },
   "source": [
    "- It didn't happen here but how could the average do better than the best model???\n",
    "  - From the perspective of the best estimator (in this case CatBoost), why are you adding on worse estimators??\n"
   ]
  },
  {
   "cell_type": "markdown",
   "metadata": {
    "slideshow": {
     "slide_type": "slide"
    }
   },
   "source": [
    "Here's how this can work:"
   ]
  },
  {
   "cell_type": "markdown",
   "metadata": {},
   "source": [
    "| Example | log reg    | rand forest    | cat boost    | Averaged model |\n",
    "|--------|--------|--------|---------|---------------|\n",
    "|  1     | ✅    |   ✅    | ❌     | ✅✅❌=>✅  |\n",
    "|  2     | ✅    |   ❌    | ✅     | ✅❌✅=>✅  |\n",
    "|  3     | ❌    |   ✅    | ✅     | ❌✅✅=>✅  |\n"
   ]
  },
  {
   "cell_type": "markdown",
   "metadata": {},
   "source": [
    "- In short, as long as the different models make different mistakes, this can work.\n",
    "- Probably in our case, we didn't have enough diversity. "
   ]
  },
  {
   "cell_type": "markdown",
   "metadata": {
    "slideshow": {
     "slide_type": "slide"
    }
   },
   "source": [
    "Why not always do this?\n",
    "\n",
    "1. `fit`/`predict` time.\n",
    "2. Reduction in interpretability.\n",
    "3. Reduction in code maintainability (e.g. Netflix prize)."
   ]
  },
  {
   "cell_type": "markdown",
   "metadata": {
    "slideshow": {
     "slide_type": "slide"
    }
   },
   "source": [
    "### What kind of estimators can we combine? \n",
    "\n",
    "- You can combine \n",
    "    - completely different estimators, or similar estimators.\n",
    "    - estimators trained on different samples.\n",
    "    - estimators with different hyperparameter values."
   ]
  },
  {
   "cell_type": "markdown",
   "metadata": {},
   "source": [
    "## ❓❓ Questions for you"
   ]
  },
  {
   "cell_type": "markdown",
   "metadata": {
    "slideshow": {
     "slide_type": "slide"
    },
    "tags": []
   },
   "source": [
    "- Is it possible to get better than the best performing model using averaging. \n",
    "- Is random forest is an averaging model? "
   ]
  },
  {
   "cell_type": "markdown",
   "metadata": {},
   "source": [
    "<br><br><br><br>"
   ]
  },
  {
   "cell_type": "markdown",
   "metadata": {
    "slideshow": {
     "slide_type": "slide"
    }
   },
   "source": [
    "## Stacking "
   ]
  },
  {
   "cell_type": "markdown",
   "metadata": {
    "slideshow": {
     "slide_type": "slide"
    }
   },
   "source": [
    "\n",
    "- Another type of ensemble is stacking.\n",
    "- Instead of averaging the outputs of each estimator, use their outputs as _inputs to another model_.\n",
    "- By default for classification, it uses logistic regression.\n",
    "  - We don't need a complex model here necessarily, more of a weighted average.\n",
    "  - The features going into the logistic regression are the classifier outputs, _not_ the original features!\n",
    "  - So the number of coefficients = the number of base estimators!"
   ]
  },
  {
   "cell_type": "code",
   "execution_count": 55,
   "metadata": {
    "slideshow": {
     "slide_type": "slide"
    }
   },
   "outputs": [],
   "source": [
    "from sklearn.ensemble import StackingClassifier"
   ]
  },
  {
   "cell_type": "markdown",
   "metadata": {},
   "source": [
    "The code starts to get too slow here; so we'll remove CatBoost. "
   ]
  },
  {
   "cell_type": "code",
   "execution_count": 56,
   "metadata": {},
   "outputs": [],
   "source": [
    "stacking_model = StackingClassifier(list(classifiers.items()))"
   ]
  },
  {
   "cell_type": "code",
   "execution_count": 57,
   "metadata": {
    "slideshow": {
     "slide_type": "slide"
    }
   },
   "outputs": [],
   "source": [
    "stacking_model.fit(X_train, y_train);"
   ]
  },
  {
   "cell_type": "markdown",
   "metadata": {
    "slideshow": {
     "slide_type": "slide"
    }
   },
   "source": [
    "What's going on in here? \n",
    "\n",
    "- It is doing cross-validation by itself by default (see [documentation](https://scikit-learn.org/stable/modules/generated/sklearn.ensemble.StackingClassifier.html))\n",
    "\n",
    "> Note that estimators_ are fitted on the full X while final_estimator_ is trained using cross-validated predictions of the base estimators using cross_val_predict."
   ]
  },
  {
   "cell_type": "markdown",
   "metadata": {
    "slideshow": {
     "slide_type": "slide"
    }
   },
   "source": [
    "Here is the input features (X) to the meta-model:"
   ]
  },
  {
   "cell_type": "code",
   "execution_count": 58,
   "metadata": {},
   "outputs": [],
   "source": [
    "valid_sample_df = train_df.sample(10, random_state=12)\n",
    "valid_sample_X = valid_sample_df.drop(columns=[\"income\"])\n",
    "valid_sample_y = valid_sample_df['income']"
   ]
  },
  {
   "cell_type": "code",
   "execution_count": 59,
   "metadata": {},
   "outputs": [],
   "source": [
    "# data = {}"
   ]
  },
  {
   "cell_type": "code",
   "execution_count": 60,
   "metadata": {},
   "outputs": [],
   "source": [
    "# r4 = {\n",
    "#     name + \"_proba\": pipe.predict_proba(valid_sample_X)[:, 1]\n",
    "#     for (name, pipe) in stacking_model.named_estimators_.items()\n",
    "# }\n",
    "# data['y'] = valid_sample_y\n",
    "# data.update(r4)\n",
    "# pd.DataFrame(data)"
   ]
  },
  {
   "cell_type": "markdown",
   "metadata": {
    "slideshow": {
     "slide_type": "slide"
    }
   },
   "source": [
    "- Our meta-model is logistic regression (which it is by default).\n",
    "- Let's look at the learned coefficients. "
   ]
  },
  {
   "cell_type": "code",
   "execution_count": 61,
   "metadata": {},
   "outputs": [
    {
     "data": {
      "text/html": [
       "<div>\n",
       "<style scoped>\n",
       "    .dataframe tbody tr th:only-of-type {\n",
       "        vertical-align: middle;\n",
       "    }\n",
       "\n",
       "    .dataframe tbody tr th {\n",
       "        vertical-align: top;\n",
       "    }\n",
       "\n",
       "    .dataframe thead th {\n",
       "        text-align: right;\n",
       "    }\n",
       "</style>\n",
       "<table border=\"1\" class=\"dataframe\">\n",
       "  <thead>\n",
       "    <tr style=\"text-align: right;\">\n",
       "      <th></th>\n",
       "      <th>Coefficient</th>\n",
       "    </tr>\n",
       "  </thead>\n",
       "  <tbody>\n",
       "    <tr>\n",
       "      <th>LightGBM</th>\n",
       "      <td>4.283186</td>\n",
       "    </tr>\n",
       "    <tr>\n",
       "      <th>XGBoost</th>\n",
       "      <td>1.780374</td>\n",
       "    </tr>\n",
       "    <tr>\n",
       "      <th>logistic regression</th>\n",
       "      <td>0.656264</td>\n",
       "    </tr>\n",
       "    <tr>\n",
       "      <th>random forest</th>\n",
       "      <td>0.046732</td>\n",
       "    </tr>\n",
       "    <tr>\n",
       "      <th>decision tree</th>\n",
       "      <td>-0.120639</td>\n",
       "    </tr>\n",
       "  </tbody>\n",
       "</table>\n",
       "</div>"
      ],
      "text/plain": [
       "                     Coefficient\n",
       "LightGBM                4.283186\n",
       "XGBoost                 1.780374\n",
       "logistic regression     0.656264\n",
       "random forest           0.046732\n",
       "decision tree          -0.120639"
      ]
     },
     "execution_count": 61,
     "metadata": {},
     "output_type": "execute_result"
    }
   ],
   "source": [
    "pd.DataFrame(\n",
    "    data=stacking_model.final_estimator_.coef_.flatten(),\n",
    "    index=classifiers.keys(),\n",
    "    columns=[\"Coefficient\"],\n",
    ").sort_values(\"Coefficient\", ascending=False)"
   ]
  },
  {
   "cell_type": "code",
   "execution_count": 62,
   "metadata": {},
   "outputs": [
    {
     "data": {
      "text/plain": [
       "array([-3.3171738])"
      ]
     },
     "execution_count": 62,
     "metadata": {},
     "output_type": "execute_result"
    }
   ],
   "source": [
    "stacking_model.final_estimator_.intercept_"
   ]
  },
  {
   "cell_type": "markdown",
   "metadata": {
    "slideshow": {
     "slide_type": "slide"
    }
   },
   "source": [
    "- It seems that the LightGBM is being trusted the most. \n",
    "- It's funny that it has given a negative coefficient to decision tree. \n",
    "    - Our meta model doesn't trust decision tree model. \n",
    "    - In fact, if the decision tree model says class >=50k, the model is likely to predict the opposite 🙃"
   ]
  },
  {
   "cell_type": "code",
   "execution_count": 63,
   "metadata": {
    "slideshow": {
     "slide_type": "slide"
    }
   },
   "outputs": [
    {
     "data": {
      "text/plain": [
       "array(['<=50K', '<=50K', '<=50K', '<=50K'], dtype=object)"
      ]
     },
     "execution_count": 63,
     "metadata": {},
     "output_type": "execute_result"
    }
   ],
   "source": [
    "stacking_model.predict(test_l50k)"
   ]
  },
  {
   "cell_type": "code",
   "execution_count": 64,
   "metadata": {},
   "outputs": [
    {
     "data": {
      "text/plain": [
       "array([[0.26109096, 0.73890904],\n",
       "       [0.58523477, 0.41476523],\n",
       "       [0.24218502, 0.75781498],\n",
       "       [0.20576452, 0.79423548]])"
      ]
     },
     "execution_count": 64,
     "metadata": {},
     "output_type": "execute_result"
    }
   ],
   "source": [
    "stacking_model.predict_proba(test_g50k)"
   ]
  },
  {
   "cell_type": "markdown",
   "metadata": {},
   "source": [
    "(This is the `predict_proba` from meta model logistic regression)"
   ]
  },
  {
   "cell_type": "markdown",
   "metadata": {
    "slideshow": {
     "slide_type": "slide"
    }
   },
   "source": [
    "Let's see how well this model performs."
   ]
  },
  {
   "cell_type": "code",
   "execution_count": 65,
   "metadata": {
    "slideshow": {
     "slide_type": "-"
    }
   },
   "outputs": [],
   "source": [
    "results[\"Stacking\"] = mean_std_cross_val_scores(\n",
    "    stacking_model, X_train, y_train, return_train_score=True, scoring=scoring_metric\n",
    ")"
   ]
  },
  {
   "cell_type": "code",
   "execution_count": 66,
   "metadata": {
    "slideshow": {
     "slide_type": "slide"
    }
   },
   "outputs": [
    {
     "data": {
      "text/html": [
       "<div>\n",
       "<style scoped>\n",
       "    .dataframe tbody tr th:only-of-type {\n",
       "        vertical-align: middle;\n",
       "    }\n",
       "\n",
       "    .dataframe tbody tr th {\n",
       "        vertical-align: top;\n",
       "    }\n",
       "\n",
       "    .dataframe thead th {\n",
       "        text-align: right;\n",
       "    }\n",
       "</style>\n",
       "<table border=\"1\" class=\"dataframe\">\n",
       "  <thead>\n",
       "    <tr style=\"text-align: right;\">\n",
       "      <th></th>\n",
       "      <th>fit_time</th>\n",
       "      <th>score_time</th>\n",
       "      <th>test_score</th>\n",
       "      <th>train_score</th>\n",
       "    </tr>\n",
       "  </thead>\n",
       "  <tbody>\n",
       "    <tr>\n",
       "      <th>Dummy</th>\n",
       "      <td>0.007 (+/- 0.000)</td>\n",
       "      <td>0.006 (+/- 0.000)</td>\n",
       "      <td>0.758 (+/- 0.000)</td>\n",
       "      <td>0.758 (+/- 0.000)</td>\n",
       "    </tr>\n",
       "    <tr>\n",
       "      <th>logistic regression</th>\n",
       "      <td>1.104 (+/- 0.100)</td>\n",
       "      <td>0.011 (+/- 0.001)</td>\n",
       "      <td>0.849 (+/- 0.005)</td>\n",
       "      <td>0.850 (+/- 0.001)</td>\n",
       "    </tr>\n",
       "    <tr>\n",
       "      <th>decision tree</th>\n",
       "      <td>0.120 (+/- 0.004)</td>\n",
       "      <td>0.010 (+/- 0.000)</td>\n",
       "      <td>0.817 (+/- 0.006)</td>\n",
       "      <td>0.979 (+/- 0.000)</td>\n",
       "    </tr>\n",
       "    <tr>\n",
       "      <th>random forest</th>\n",
       "      <td>1.296 (+/- 0.007)</td>\n",
       "      <td>0.079 (+/- 0.001)</td>\n",
       "      <td>0.844 (+/- 0.007)</td>\n",
       "      <td>0.976 (+/- 0.001)</td>\n",
       "    </tr>\n",
       "    <tr>\n",
       "      <th>XGBoost</th>\n",
       "      <td>1.332 (+/- 0.020)</td>\n",
       "      <td>0.014 (+/- 0.000)</td>\n",
       "      <td>0.870 (+/- 0.003)</td>\n",
       "      <td>0.898 (+/- 0.001)</td>\n",
       "    </tr>\n",
       "    <tr>\n",
       "      <th>LightGBM</th>\n",
       "      <td>0.152 (+/- 0.020)</td>\n",
       "      <td>0.021 (+/- 0.001)</td>\n",
       "      <td>0.872 (+/- 0.004)</td>\n",
       "      <td>0.888 (+/- 0.000)</td>\n",
       "    </tr>\n",
       "    <tr>\n",
       "      <th>CatBoost</th>\n",
       "      <td>3.826 (+/- 0.068)</td>\n",
       "      <td>0.092 (+/- 0.003)</td>\n",
       "      <td>0.872 (+/- 0.003)</td>\n",
       "      <td>0.895 (+/- 0.001)</td>\n",
       "    </tr>\n",
       "    <tr>\n",
       "      <th>sklearn_histGB</th>\n",
       "      <td>0.694 (+/- 0.073)</td>\n",
       "      <td>0.023 (+/- 0.000)</td>\n",
       "      <td>0.871 (+/- 0.005)</td>\n",
       "      <td>0.887 (+/- 0.002)</td>\n",
       "    </tr>\n",
       "    <tr>\n",
       "      <th>sklearn_GB</th>\n",
       "      <td>1.869 (+/- 0.011)</td>\n",
       "      <td>0.014 (+/- 0.000)</td>\n",
       "      <td>0.864 (+/- 0.004)</td>\n",
       "      <td>0.870 (+/- 0.001)</td>\n",
       "    </tr>\n",
       "    <tr>\n",
       "      <th>Voting</th>\n",
       "      <td>3.886 (+/- 0.081)</td>\n",
       "      <td>0.143 (+/- 0.003)</td>\n",
       "      <td>0.860 (+/- 0.005)</td>\n",
       "      <td>0.953 (+/- 0.001)</td>\n",
       "    </tr>\n",
       "    <tr>\n",
       "      <th>Voting_ndt</th>\n",
       "      <td>3.709 (+/- 0.096)</td>\n",
       "      <td>0.133 (+/- 0.004)</td>\n",
       "      <td>0.870 (+/- 0.005)</td>\n",
       "      <td>0.918 (+/- 0.001)</td>\n",
       "    </tr>\n",
       "    <tr>\n",
       "      <th>Stacking</th>\n",
       "      <td>19.701 (+/- 0.236)</td>\n",
       "      <td>0.146 (+/- 0.005)</td>\n",
       "      <td>0.872 (+/- 0.004)</td>\n",
       "      <td>0.890 (+/- 0.002)</td>\n",
       "    </tr>\n",
       "  </tbody>\n",
       "</table>\n",
       "</div>"
      ],
      "text/plain": [
       "                               fit_time         score_time         test_score  \\\n",
       "Dummy                 0.007 (+/- 0.000)  0.006 (+/- 0.000)  0.758 (+/- 0.000)   \n",
       "logistic regression   1.104 (+/- 0.100)  0.011 (+/- 0.001)  0.849 (+/- 0.005)   \n",
       "decision tree         0.120 (+/- 0.004)  0.010 (+/- 0.000)  0.817 (+/- 0.006)   \n",
       "random forest         1.296 (+/- 0.007)  0.079 (+/- 0.001)  0.844 (+/- 0.007)   \n",
       "XGBoost               1.332 (+/- 0.020)  0.014 (+/- 0.000)  0.870 (+/- 0.003)   \n",
       "LightGBM              0.152 (+/- 0.020)  0.021 (+/- 0.001)  0.872 (+/- 0.004)   \n",
       "CatBoost              3.826 (+/- 0.068)  0.092 (+/- 0.003)  0.872 (+/- 0.003)   \n",
       "sklearn_histGB        0.694 (+/- 0.073)  0.023 (+/- 0.000)  0.871 (+/- 0.005)   \n",
       "sklearn_GB            1.869 (+/- 0.011)  0.014 (+/- 0.000)  0.864 (+/- 0.004)   \n",
       "Voting                3.886 (+/- 0.081)  0.143 (+/- 0.003)  0.860 (+/- 0.005)   \n",
       "Voting_ndt            3.709 (+/- 0.096)  0.133 (+/- 0.004)  0.870 (+/- 0.005)   \n",
       "Stacking             19.701 (+/- 0.236)  0.146 (+/- 0.005)  0.872 (+/- 0.004)   \n",
       "\n",
       "                           train_score  \n",
       "Dummy                0.758 (+/- 0.000)  \n",
       "logistic regression  0.850 (+/- 0.001)  \n",
       "decision tree        0.979 (+/- 0.000)  \n",
       "random forest        0.976 (+/- 0.001)  \n",
       "XGBoost              0.898 (+/- 0.001)  \n",
       "LightGBM             0.888 (+/- 0.000)  \n",
       "CatBoost             0.895 (+/- 0.001)  \n",
       "sklearn_histGB       0.887 (+/- 0.002)  \n",
       "sklearn_GB           0.870 (+/- 0.001)  \n",
       "Voting               0.953 (+/- 0.001)  \n",
       "Voting_ndt           0.918 (+/- 0.001)  \n",
       "Stacking             0.890 (+/- 0.002)  "
      ]
     },
     "execution_count": 66,
     "metadata": {},
     "output_type": "execute_result"
    }
   ],
   "source": [
    "pd.DataFrame(results).T"
   ]
  },
  {
   "cell_type": "markdown",
   "metadata": {
    "slideshow": {
     "slide_type": "slide"
    }
   },
   "source": [
    "- The situation here is a bit mind-boggling.\n",
    "- On each fold of cross-validation it is doing cross-validation.\n",
    "- This is really loops within loops within loops within loops..."
   ]
  },
  {
   "cell_type": "markdown",
   "metadata": {
    "slideshow": {
     "slide_type": "slide"
    }
   },
   "source": [
    "- We can also try a different final estimator:\n",
    "- Let's `DecisionTreeClassifier` as a final estimator. "
   ]
  },
  {
   "cell_type": "code",
   "execution_count": 67,
   "metadata": {
    "slideshow": {
     "slide_type": "-"
    }
   },
   "outputs": [],
   "source": [
    "stacking_model_tree = StackingClassifier(\n",
    "    list(classifiers.items()), final_estimator=DecisionTreeClassifier(max_depth=3)\n",
    ")"
   ]
  },
  {
   "cell_type": "markdown",
   "metadata": {},
   "source": [
    "The results might not be very good. But we can visualize the tree:"
   ]
  },
  {
   "cell_type": "code",
   "execution_count": 68,
   "metadata": {
    "slideshow": {
     "slide_type": "slide"
    }
   },
   "outputs": [],
   "source": [
    "stacking_model_tree.fit(X_train, y_train);"
   ]
  },
  {
   "cell_type": "code",
   "execution_count": 75,
   "metadata": {},
   "outputs": [
    {
     "data": {
      "image/png": "[encoded data removed]",
      "text/plain": [
       "<Figure size 640x480 with 1 Axes>"
      ]
     },
     "metadata": {},
     "output_type": "display_data"
    }
   ],
   "source": [
    "custom_plot_tree(stacking_model_tree.final_estimator_, \n",
    "                 feature_names=X_train.columns.tolist(), \n",
    "                 class_names=['\"<=50K\"', '\">50K\"'],\n",
    "                 impurity=False,\n",
    "                 fontsize=6)"
   ]
  },
  {
   "cell_type": "markdown",
   "metadata": {
    "slideshow": {
     "slide_type": "slide"
    }
   },
   "source": [
    "#### An effective strategy\n",
    "\n",
    "- Randomly generate a bunch of models with different hyperparameter configurations, and then stack all the models."
   ]
  },
  {
   "cell_type": "markdown",
   "metadata": {
    "slideshow": {
     "slide_type": "slide"
    }
   },
   "source": [
    "- What is an advantage of ensembling multiple models as opposed to just choosing one of them?\n",
    "    - You may get a better score.\n",
    "- What is a disadvantage of ensembling multiple models as opposed to just choosing one of them?\n",
    "    - Slower, more code maintenance issues."
   ]
  },
  {
   "cell_type": "markdown",
   "metadata": {
    "slideshow": {
     "slide_type": "slide"
    }
   },
   "source": [
    "There are equivalent regression models for all of these:\n",
    "\n",
    "- `RandomForestClassifier` $\\rightarrow$ [`RandomForestRegressor`](https://scikit-learn.org/stable/modules/generated/sklearn.ensemble.RandomForestRegressor.html)\n",
    "- `LGBMClassifier` $\\rightarrow$ [`LGBMRegressor`](https://lightgbm.readthedocs.io/en/latest/pythonapi/lightgbm.LGBMRegressor.html)\n",
    "- `XGBClassifier` $\\rightarrow$ [`XGBRegressor`](https://xgboost.readthedocs.io/en/latest/python/python_api.html)\n",
    "- `CatBoostClassifier` $\\rightarrow$ `CatBoostRegressor`\n",
    "- `VotingClassifier` $\\rightarrow$ [`VotingRegressor`](https://scikit-learn.org/stable/modules/generated/sklearn.ensemble.VotingRegressor.html)\n",
    "- `StackingClassifier` $\\rightarrow$ [`StackingRegressor`](https://scikit-learn.org/stable/modules/generated/sklearn.ensemble.StackingRegressor.html)\n",
    "\n",
    "Read documentation of each of these."
   ]
  },
  {
   "cell_type": "markdown",
   "metadata": {},
   "source": [
    "<br><br><br><br>"
   ]
  },
  {
   "cell_type": "markdown",
   "metadata": {
    "slideshow": {
     "slide_type": "slide"
    }
   },
   "source": [
    "## Summary \n",
    "\n",
    "- You have a number of models in your toolbox now.  \n",
    "- Ensembles are usually pretty effective.\n",
    "  - Tree-based models are particularly popular and effective on a wide range of problems. \n",
    "  - But they trade off code complexity and speed for prediction accuracy.\n",
    "  - Don't forget that hyperparameter optimization multiplies the slowness of the code!\n",
    "- Stacking is a bit slower than voting, but generally higher accuracy.\n",
    "  - As a bonus, you get to see the coefficients for each base classifier.\n",
    "- All the above models have equivalent regression models.   "
   ]
  },
  {
   "cell_type": "markdown",
   "metadata": {
    "slideshow": {
     "slide_type": "slide"
    }
   },
   "source": [
    "#### Relevant papers\n",
    "\n",
    "- [Fernandez-Delgado et al. 2014](http://jmlr.org/papers/volume15/delgado14a/delgado14a.pdf) compared 179 classifiers on 121 datasets:\n",
    "    - First best class of methods was Random Forest and second best class of methods was (RBF) SVMs.\n",
    "\n",
    "- If you like to read original papers [here](https://www.stat.berkeley.edu/~breiman/randomforest2001.pdf) is the original paper on Random Forests by Leo Breiman. \n",
    "- [XGBoost, LightGBM or CatBoost — which boosting algorithm should I use?](https://medium.com/riskified-technology/xgboost-lightgbm-or-catboost-which-boosting-algorithm-should-i-use-e7fda7bb36bc)"
   ]
  }
 ],
 "metadata": {
  "celltoolbar": "Slideshow",
  "kernelspec": {
   "display_name": "cpsc330",
   "language": "python",
   "name": "cpsc330"
  },
  "language_info": {
   "codemirror_mode": {
    "name": "ipython",
    "version": 3
   },
   "file_extension": ".py",
   "mimetype": "text/x-python",
   "name": "python",
   "nbconvert_exporter": "python",
   "pygments_lexer": "ipython3",
   "version": "3.10.0"
  }
 },
 "nbformat": 4,
 "nbformat_minor": 4
}
